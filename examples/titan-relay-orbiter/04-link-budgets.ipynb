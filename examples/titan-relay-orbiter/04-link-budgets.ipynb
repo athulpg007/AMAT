{
 "cells": [
  {
   "cell_type": "code",
   "execution_count": 1,
   "id": "dd32a882",
   "metadata": {},
   "outputs": [],
   "source": [
    "from AMAT.telecom import Link"
   ]
  },
  {
   "cell_type": "code",
   "execution_count": 2,
   "id": "8f09a302",
   "metadata": {},
   "outputs": [],
   "source": [
    "# Lander to Earth DTE\n",
    "link1 = Link(\n",
    "    freq=8.425, Pt=30, Gt_dBi=30, Gr_dBi=80.0, Ts=40.5, range_km=1.5E9, \n",
    "    L_other_dB=0.54, rate_kbps=2.00, Eb_N0_req=0.31\n",
    ")"
   ]
  },
  {
   "cell_type": "code",
   "execution_count": 3,
   "id": "10532cfb",
   "metadata": {},
   "outputs": [
    {
     "name": "stdout",
     "output_type": "stream",
     "text": [
      "\n",
      "\n",
      "-------------------------------------------\n",
      "Frequency, GHz:          8.425\n",
      "Transmitter Power, W:    30\n",
      "Transmitter Power, dB:   14.77\n",
      "Transmitter Loss, dB:   -1.0\n",
      "S/C Circuit Loss, dB:   -0.2\n",
      "Transmit antenna D., m:  None\n",
      "Transmit antenna eff:    None\n",
      "Transmitter Gain, dBi:   30\n",
      "Receive antenna D., m:   None\n",
      "Receive antenna eff:     None\n",
      "Receiver Gain, dBi:      80.0\n",
      "System Noise Temp, K:    40.5\n",
      "System Noise Temp, dBK: -16.07\n",
      "Link Distance, km:       1500000000.0\n",
      "Free Space Loss, dB:    -294.47\n",
      "Atmospheric Loss, dB:   -0.35\n",
      "Other Losses, dB:       -0.54\n",
      "Boltzmann's const, dB:  +228.6\n",
      "Data rate, kbps:         2.0\n",
      "Data rate, dBhz:        -33.01\n",
      "-------------------------------------------\n",
      "Available Eb/N0:         6.72\n",
      "Required Eb/N0:          0.31\n",
      "Eb/N0 Margin:            6.41\n",
      "-------------------------------------------\n"
     ]
    }
   ],
   "source": [
    "link1.print_link_budget()"
   ]
  },
  {
   "cell_type": "code",
   "execution_count": 4,
   "id": "ed4db34e",
   "metadata": {},
   "outputs": [],
   "source": [
    "# Lander to Orbiter\n",
    "link2 = Link(\n",
    "    freq=7.700, Pt=10, Gt_dBi=30, Gr_dBi=32.0, Ts=230, range_km=10E3, \n",
    "    La_dB=0.05, L_other_dB=3.3, rate_kbps=10000.00, Eb_N0_req=2.55)"
   ]
  },
  {
   "cell_type": "code",
   "execution_count": 5,
   "id": "594d4e65",
   "metadata": {},
   "outputs": [
    {
     "name": "stdout",
     "output_type": "stream",
     "text": [
      "\n",
      "\n",
      "-------------------------------------------\n",
      "Frequency, GHz:          7.7\n",
      "Transmitter Power, W:    10\n",
      "Transmitter Power, dB:   10.0\n",
      "Transmitter Loss, dB:   -1.0\n",
      "S/C Circuit Loss, dB:   -0.2\n",
      "Transmit antenna D., m:  None\n",
      "Transmit antenna eff:    None\n",
      "Transmitter Gain, dBi:   30\n",
      "Receive antenna D., m:   None\n",
      "Receive antenna eff:     None\n",
      "Receiver Gain, dBi:      32.0\n",
      "System Noise Temp, K:    230\n",
      "System Noise Temp, dBK: -23.62\n",
      "Link Distance, km:       10000.0\n",
      "Free Space Loss, dB:    -190.17\n",
      "Atmospheric Loss, dB:   -0.05\n",
      "Other Losses, dB:       -3.3\n",
      "Boltzmann's const, dB:  +228.6\n",
      "Data rate, kbps:         10000.0\n",
      "Data rate, dBhz:        -70.0\n",
      "-------------------------------------------\n",
      "Available Eb/N0:         11.26\n",
      "Required Eb/N0:          2.55\n",
      "Eb/N0 Margin:            8.71\n",
      "-------------------------------------------\n"
     ]
    }
   ],
   "source": [
    "link2.print_link_budget()"
   ]
  },
  {
   "cell_type": "code",
   "execution_count": 6,
   "id": "a872da37",
   "metadata": {},
   "outputs": [],
   "source": [
    "# relay orbiter to Earth\n",
    "link3 = Link(freq=32.00, Pt=30, Dt=4.0, eta_t=0.60, Gr_dBi=80., Ts=40.5,range_km=1.5E9, L_other_dB=0.54, rate_kbps=200, Eb_N0_req=0.31)"
   ]
  },
  {
   "cell_type": "code",
   "execution_count": 7,
   "id": "75ccd5a3",
   "metadata": {},
   "outputs": [
    {
     "name": "stdout",
     "output_type": "stream",
     "text": [
      "\n",
      "\n",
      "-------------------------------------------\n",
      "Frequency, GHz:          32.0\n",
      "Transmitter Power, W:    30\n",
      "Transmitter Power, dB:   14.77\n",
      "Transmitter Loss, dB:   -1.0\n",
      "S/C Circuit Loss, dB:   -0.2\n",
      "Transmit antenna D., m:  4.0\n",
      "Transmit antenna eff:    0.6\n",
      "Transmitter Gain, dBi:   60.33\n",
      "Receive antenna D., m:   None\n",
      "Receive antenna eff:     None\n",
      "Receiver Gain, dBi:      80.0\n",
      "System Noise Temp, K:    40.5\n",
      "System Noise Temp, dBK: -16.07\n",
      "Link Distance, km:       1500000000.0\n",
      "Free Space Loss, dB:    -306.07\n",
      "Atmospheric Loss, dB:   -0.35\n",
      "Other Losses, dB:       -0.54\n",
      "Boltzmann's const, dB:  +228.6\n",
      "Data rate, kbps:         200.0\n",
      "Data rate, dBhz:        -53.01\n",
      "-------------------------------------------\n",
      "Available Eb/N0:         5.46\n",
      "Required Eb/N0:          0.31\n",
      "Eb/N0 Margin:            5.15\n",
      "-------------------------------------------\n"
     ]
    }
   ],
   "source": [
    "link3.print_link_budget()"
   ]
  }
 ],
 "metadata": {
  "kernelspec": {
   "display_name": "Python 3",
   "language": "python",
   "name": "python3"
  },
  "language_info": {
   "codemirror_mode": {
    "name": "ipython",
    "version": 3
   },
   "file_extension": ".py",
   "mimetype": "text/x-python",
   "name": "python",
   "nbconvert_exporter": "python",
   "pygments_lexer": "ipython3",
   "version": "3.10.6"
  }
 },
 "nbformat": 4,
 "nbformat_minor": 5
}
