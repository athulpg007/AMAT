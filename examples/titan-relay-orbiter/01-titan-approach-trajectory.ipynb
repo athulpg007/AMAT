{
 "cells": [
  {
   "cell_type": "code",
   "execution_count": 1,
   "id": "2230c99a",
   "metadata": {},
   "outputs": [],
   "source": [
    "import numpy as np\n",
    "from AMAT.approach import Approach"
   ]
  },
  {
   "cell_type": "code",
   "execution_count": 2,
   "id": "491b5c49",
   "metadata": {},
   "outputs": [
    {
     "data": {
      "text/plain": [
       "6.9877579379941315"
      ]
     },
     "execution_count": 2,
     "metadata": {},
     "output_type": "execute_result"
    }
   ],
   "source": [
    "np.linalg.norm([-0.910, 5.081, 4.710]) # v_inf vector for Dragonfly arrival"
   ]
  },
  {
   "cell_type": "code",
   "execution_count": 3,
   "id": "3c80b73d",
   "metadata": {},
   "outputs": [
    {
     "name": "stdout",
     "output_type": "stream",
     "text": [
      "Entry altitude, km: 1000.0\n",
      "Entry longitude BI, deg: -23.67\n",
      "Entry latitude BI, deg: 11.09\n",
      "Atm. relative entry speed, km/s: 7.3384\n",
      "Atm. relative heading angle, deg: 90.1245\n",
      "Atm. relative EFPA, deg: -35.0538\n",
      "Inclination, deg: 90.00000000000001\n"
     ]
    }
   ],
   "source": [
    "approach1 = Approach(\"TITAN\", v_inf_vec_icrf_kms=np.array([-0.910, 5.081, 4.710]),\n",
    "                            rp=(2575+320)*1e3, psi=np.pi,\n",
    "                            is_entrySystem=True, h_EI=1000e3)\n",
    "\n",
    "print(\"Entry altitude, km: \"+ str(approach1.h_EI/1e3))\n",
    "print(\"Entry longitude BI, deg: \"+ str(round(approach1.longitude_entry_bi*180/np.pi, 2)))\n",
    "print(\"Entry latitude BI, deg: \"+ str(round(approach1.latitude_entry_bi*180/np.pi, 2)))\n",
    "print(\"Atm. relative entry speed, km/s: \"+str(round(approach1.v_entry_atm_mag/1e3, 4)))\n",
    "print(\"Atm. relative heading angle, deg: \"+str(round(approach1.heading_entry_atm*180/np.pi, 4)))\n",
    "print(\"Atm. relative EFPA, deg: \"+str(round(approach1.gamma_entry_atm*180/np.pi, 4)))\n",
    "print(\"Inclination, deg: \"+str(approach1.i*180/np.pi))"
   ]
  }
 ],
 "metadata": {
  "kernelspec": {
   "display_name": "Python 3",
   "language": "python",
   "name": "python3"
  },
  "language_info": {
   "codemirror_mode": {
    "name": "ipython",
    "version": 3
   },
   "file_extension": ".py",
   "mimetype": "text/x-python",
   "name": "python",
   "nbconvert_exporter": "python",
   "pygments_lexer": "ipython3",
   "version": "3.10.6"
  }
 },
 "nbformat": 4,
 "nbformat_minor": 5
}
