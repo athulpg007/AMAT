{
 "cells": [
  {
   "cell_type": "markdown",
   "id": "a1f623f0",
   "metadata": {},
   "source": [
    "# Example 79 - Mars SmallSat Aerocapture Demonstration - Part 1"
   ]
  },
  {
   "cell_type": "markdown",
   "id": "94c5bbd6",
   "metadata": {},
   "source": [
    "This examples analyzes a ADEPT Drag Modulation Aerocapture vehicle concept flying to Mars as a secondary payload. Consider the interplanetary trajectory used by Mars 2020 as a reference Earth-Mars transfer trajectory. Let us compute the arrival v_inf vector using AMAT."
   ]
  },
  {
   "cell_type": "markdown",
   "id": "7b365920",
   "metadata": {},
   "source": [
    "**NOTE**: This examples requires `astropy` and `poliastro` to be installed. These are not installed by default when AMAT is installed and must be installed separately using `pip install astropy` and `pip install poliastro`."
   ]
  },
  {
   "cell_type": "code",
   "execution_count": 2,
   "id": "ab123d6d",
   "metadata": {},
   "outputs": [],
   "source": [
    "import numpy as np\n",
    "from astropy.time import Time\n",
    "from AMAT.arrival import Arrival"
   ]
  },
  {
   "cell_type": "markdown",
   "id": "ea2af0cd",
   "metadata": {},
   "source": [
    "## Compute interplanetary arrival conditions"
   ]
  },
  {
   "cell_type": "code",
   "execution_count": 3,
   "id": "82c807fd",
   "metadata": {},
   "outputs": [],
   "source": [
    "arrival = Arrival()\n",
    "arrival.set_vinf_vec_from_lambert_arc(lastFlybyPlanet='EARTH',\n",
    "                                      arrivalPlanet='MARS',\n",
    "                                      lastFlybyDate=Time(\"2020-07-30 00:00:00\", scale='tdb'),\n",
    "                                      arrivalDate=Time(\"2021-02-18 00:00:00\", scale='tdb'))"
   ]
  },
  {
   "cell_type": "code",
   "execution_count": 4,
   "id": "3b3916ac",
   "metadata": {},
   "outputs": [
    {
     "name": "stdout",
     "output_type": "stream",
     "text": [
      "Arrival v_inf vector, ICRF: [ 2.23930484  1.20086474 -0.73683366] km/s\n"
     ]
    }
   ],
   "source": [
    "print(\"Arrival v_inf vector, ICRF: \"+str(arrival.v_inf_vec)+\" km/s\")"
   ]
  },
  {
   "cell_type": "code",
   "execution_count": 8,
   "id": "4523c4c1",
   "metadata": {},
   "outputs": [
    {
     "name": "stdout",
     "output_type": "stream",
     "text": [
      "Arrival VINF MAG: 2.65 km/s.\n",
      "Arrival Declination: -1.65 deg.\n"
     ]
    }
   ],
   "source": [
    "print(\"Arrival VINF MAG: \"+str(round(arrival.v_inf_mag, 2))+\" km/s.\")\n",
    "print(\"Arrival Declination: \"+str(round(arrival.declination, 2))+\" deg.\")"
   ]
  },
  {
   "cell_type": "markdown",
   "id": "ee4992b2",
   "metadata": {},
   "source": [
    "## Compute approach trajectories and entry state"
   ]
  },
  {
   "cell_type": "code",
   "execution_count": 9,
   "id": "963862f8",
   "metadata": {},
   "outputs": [],
   "source": [
    "import numpy as np\n",
    "from AMAT.approach import Approach"
   ]
  },
  {
   "cell_type": "code",
   "execution_count": 16,
   "id": "ea7c8be6",
   "metadata": {},
   "outputs": [],
   "source": [
    "probe1 = Approach(\"MARS\",\n",
    "                    v_inf_vec_icrf_kms=np.array([ 2.23930484,  1.20086474, -0.73683366]),\n",
    "                    rp=(3389 + 20) * 1e3, psi=np.pi/2,\n",
    "                    is_entrySystem=True, h_EI=120e3)"
   ]
  },
  {
   "cell_type": "code",
   "execution_count": 17,
   "id": "c8942d9b",
   "metadata": {},
   "outputs": [
    {
     "name": "stdout",
     "output_type": "stream",
     "text": [
      "Entry altitude, km: 120.0\n",
      "Entry longitude BI, km: -57.48\n",
      "Entry latitude BI, deg: 1.4\n",
      "Atm. relative entry speed, km/s: 5.3601\n",
      "Atm. relative heading angle, deg: 11.2908\n",
      "Atm. relative EFPA, deg: -11.2531\n"
     ]
    }
   ],
   "source": [
    "print(\"Entry altitude, km: \"+ str(probe1.h_EI/1e3))\n",
    "print(\"Entry longitude BI, km: \"+ str(round(probe1.longitude_entry_bi*180/np.pi, 2)))\n",
    "print(\"Entry latitude BI, deg: \"+ str(round(probe1.latitude_entry_bi*180/np.pi, 2)))\n",
    "print(\"Atm. relative entry speed, km/s: \"+str(round(probe1.v_entry_atm_mag/1e3, 4)))\n",
    "print(\"Atm. relative heading angle, deg: \"+str(round(probe1.heading_entry_atm*180/np.pi, 4)))\n",
    "print(\"Atm. relative EFPA, deg: \"+str(round(probe1.gamma_entry_atm*180/np.pi, 4)))"
   ]
  },
  {
   "cell_type": "code",
   "execution_count": null,
   "id": "0bcc173f",
   "metadata": {},
   "outputs": [],
   "source": []
  }
 ],
 "metadata": {
  "kernelspec": {
   "display_name": "Python 3 (ipykernel)",
   "language": "python",
   "name": "python3"
  },
  "language_info": {
   "codemirror_mode": {
    "name": "ipython",
    "version": 3
   },
   "file_extension": ".py",
   "mimetype": "text/x-python",
   "name": "python",
   "nbconvert_exporter": "python",
   "pygments_lexer": "ipython3",
   "version": "3.8.10"
  }
 },
 "nbformat": 4,
 "nbformat_minor": 5
}
