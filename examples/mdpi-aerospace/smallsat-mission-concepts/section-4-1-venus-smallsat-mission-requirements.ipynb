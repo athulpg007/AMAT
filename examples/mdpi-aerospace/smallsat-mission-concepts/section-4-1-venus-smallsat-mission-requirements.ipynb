{
 "cells": [
  {
   "cell_type": "markdown",
   "id": "3dd7936b",
   "metadata": {},
   "source": [
    "# Section 4.1 - Venus SmallSat Aerocapture - Mission Requirements"
   ]
  },
  {
   "cell_type": "markdown",
   "id": "3ff0b7de",
   "metadata": {},
   "source": [
    "**The high-level mission objective is to deliver a small satellite to Venus orbit as a secondary payload on a Venus orbiter mission.**\n",
    "The study requirements are as follows:\n",
    "\n",
    "1. The mission concept should deliver a 25 kg small satellite as a secondary payload on a mission using Venus as flyby target to a 200 x 2000 km near-polar Venus orbit. \n",
    "2. The interplanetary arrival conditions are defined by the host carrier spacecraft, and the host spacecraft will carry the small satellite during the interplanetary cruise and release it a few days prior to arrival at Venus. \n",
    "3. The secondary spacecraft will use an ADEPT-derived drag modulation aerocapture system and must fit within the constraints the of ESPA volume.\n",
    "4. The mission concept must allow for at least 0.4 degree of Theoretical Corridor Width.\n",
    "5. The maximum peak deceleration during aerocapture is not to exceed 10$g$.\n",
    "6. The maximum peak stagnation-point heat rate is not to exceed 240 W/cm2, which is the tested limit of the carbon cloth TPS.\n",
    "7. The stagnation-point total  heat load is not to exceed 5 $kJ/cm^2$.\n",
    "7. The periapsis raise manuever propulsive Delta-V to be performed by the small spacecraft after orbit insertion is not to exceed 40 m/s.\n",
    "8. The deflection maneuver to be performed by the flyby spacecraft for targeting its flyby conditions after release of the small probe must not exceed 20 m/s."
   ]
  }
 ],
 "metadata": {
  "kernelspec": {
   "display_name": "Python 3",
   "language": "python",
   "name": "python3"
  },
  "language_info": {
   "codemirror_mode": {
    "name": "ipython",
    "version": 3
   },
   "file_extension": ".py",
   "mimetype": "text/x-python",
   "name": "python",
   "nbconvert_exporter": "python",
   "pygments_lexer": "ipython3",
   "version": "3.9.16"
  }
 },
 "nbformat": 4,
 "nbformat_minor": 5
}
