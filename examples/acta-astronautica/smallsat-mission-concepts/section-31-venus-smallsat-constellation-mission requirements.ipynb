{
 "cells": [
  {
   "cell_type": "markdown",
   "id": "3dd7936b",
   "metadata": {},
   "source": [
    "# Section 31 - Mars SmallSat Constellation - Mission Requirements"
   ]
  },
  {
   "cell_type": "markdown",
   "id": "3ff0b7de",
   "metadata": {},
   "source": [
    "**The high-level mission objective is to deliver a small satellite constellation to orbit from a Venus orbiter spaceraft. Few weeks prior to arrival at Venus, the main orbiter releases each small satellite on its approach trajectory, then performs a targeting maneuver to target the approach trajectory for the next small satellite. Once the last small satellite is released, the main orbiter performs a deflection burn to target its approach trajectory for orbit insertion.**\n",
    "\n",
    "The study requirements are as follows:\n",
    "\n",
    "1. The mission concept should deliver a set of five 25 kg small satellites in total. The satellites should be inserted 200 x 2000 km Venus orbit with inclinations of 80 deg, 85 deg, 90 deg, 95 deg, and 100 deg respectively. \n",
    "2. The main orbiter will release each satellite, and then perform a targeting manuever to target the B-plane aim point for the next satellite. \n",
    "3. The secondary spacecraft will use an ADEPT-derived drag modulation aerocapture system and must fit within the constraints the of ESPA volume.\n",
    "4. The mission concept must allow for at least 0.4 degree of Theoretical Corridor Width, to accomodate a +/- 0.1 deg EFPA error at entry interface.\n",
    "5. The maximum peak stagnation-point heat rate is not to exceed 240 W/cm2, which is the tested limit of the carbon cloth TPS.\n",
    "6. The periapsis raise manuever propulsive Delta-V to be performed by the small spacecraft after orbit insertion is not to exceed 40 m/s.\n",
    "7. The total delta-V available to the orbiter spacecraft for small satellite targeting and final orbiter deflection maneuver is 50 m/s."
   ]
  }
 ],
 "metadata": {
  "kernelspec": {
   "display_name": "Python 3 (ipykernel)",
   "language": "python",
   "name": "python3"
  },
  "language_info": {
   "codemirror_mode": {
    "name": "ipython",
    "version": 3
   },
   "file_extension": ".py",
   "mimetype": "text/x-python",
   "name": "python",
   "nbconvert_exporter": "python",
   "pygments_lexer": "ipython3",
   "version": "3.8.10"
  }
 },
 "nbformat": 4,
 "nbformat_minor": 5
}
