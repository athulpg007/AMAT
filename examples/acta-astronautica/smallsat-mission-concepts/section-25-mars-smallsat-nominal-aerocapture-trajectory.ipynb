{
 "cells": [
  {
   "cell_type": "code",
   "execution_count": 1,
   "id": "21d94030",
   "metadata": {},
   "outputs": [],
   "source": [
    "from AMAT.planet import Planet\n",
    "from AMAT.vehicle import Vehicle"
   ]
  },
  {
   "cell_type": "code",
   "execution_count": 18,
   "id": "52cdc706",
   "metadata": {},
   "outputs": [],
   "source": [
    "planet = Planet('MARS')\n",
    "planet.loadAtmosphereModel('../../../atmdata/Mars/mars-gram-avg.dat', 0 , 1 ,2, 3)\n",
    "planet.h_skip = 120.0E3\n",
    "\n",
    "# Set up a vehicle object 1\n",
    "vehicle1=Vehicle('MarsSmallSat1', 37, 20, 0.0, 1.767, 0.0, 0.35, planet)\n",
    "vehicle1.setInitialState(120.0,-25.06,63.04,5.6053,91.1531,-8.8371,0.0,0.0)\n",
    "vehicle1.setSolverParams(1E-6)\n",
    "vehicle1.setDragModulationVehicleParams(20, 7.5)\n",
    "\n",
    "# Set up a vehicle object 2\n",
    "vehicle2=Vehicle('MarsSmallSat2', 37, 20, 0.0, 1.767, 0.0, 0.35, planet)\n",
    "vehicle2.setInitialState(120.0,-62.53,55.34,5.5111,49.4493,-8.9893,0.0,0.0)\n",
    "vehicle2.setSolverParams(1E-6)\n",
    "vehicle2.setDragModulationVehicleParams(20, 7.5)\n",
    "\n",
    "# Set up a vehicle object 3\n",
    "vehicle3=Vehicle('MarsSmallSat3', 37, 20, 0.0, 1.767, 0.0, 0.35, planet)\n",
    "vehicle3.setInitialState(120.0,-80.17,38.8,5.4311,27.2459,-9.1229,0.0,0.0)\n",
    "vehicle3.setSolverParams(1E-6)\n",
    "vehicle3.setDragModulationVehicleParams(20, 7.5)\n",
    "\n",
    "# Set up a vehicle object 4\n",
    "vehicle4=Vehicle('MarsSmallSat4', 37, 20, 0.0, 1.767, 0.0, 0.35, planet)\n",
    "vehicle4.setInitialState(120.0,-87.42,19.48,5.3775,15.1773,-9.2147,0.0,0.0)\n",
    "vehicle4.setSolverParams(1E-6)\n",
    "vehicle4.setDragModulationVehicleParams(20, 7.5)\n",
    "\n",
    "# Set up a vehicle object 5\n",
    "vehicle5=Vehicle('MarsSmallSat5', 37, 20, 0.0, 1.767, 0.0, 0.35, planet)\n",
    "vehicle5.setInitialState(120.0,-89.76,-0.71,5.3586,9.3778,-9.2475,0.0,0.0)\n",
    "vehicle5.setSolverParams(1E-6)\n",
    "vehicle5.setDragModulationVehicleParams(20, 7.5)"
   ]
  },
  {
   "cell_type": "markdown",
   "id": "88481b7c",
   "metadata": {},
   "source": [
    "Find the corridor bounds to select a target nominal EFPA for a nominal Mars atmosphere, with inertial correction."
   ]
  },
  {
   "cell_type": "code",
   "execution_count": 19,
   "id": "933bec22",
   "metadata": {},
   "outputs": [
    {
     "name": "stdout",
     "output_type": "stream",
     "text": [
      "Vehicle 1: Target apoapis: 2000 km\n",
      "----------------\n",
      "-9.410615664291981 1.0\n",
      "-8.349597756041476 1.0\n",
      "Mid-corridor: -8.880106710166729\n",
      "----------------\n",
      "Vehicle 2: Target apoapis: 2000 km\n",
      "----------------\n",
      "-9.585106955601077 1.0\n",
      "-8.51456602151302 1.0\n",
      "Mid-corridor: -9.049836488557048\n",
      "----------------\n",
      "Vehicle 3: Target apoapis: 2000 km\n",
      "----------------\n",
      "-9.732925950593199 1.0\n",
      "-8.652726764103136 1.0\n",
      "Mid-corridor: -9.192826357348167\n",
      "----------------\n",
      "Vehicle 4: Target apoapis: 2000 km\n",
      "----------------\n",
      "-9.831689463389921 1.0\n",
      "-8.746232058838359 1.0\n",
      "Mid-corridor: -9.28896076111414\n",
      "----------------\n",
      "Vehicle 5: Target apoapis: 2000 km\n",
      "----------------\n",
      "-9.867117741596303 1.0\n",
      "-8.779726497959928 1.0\n",
      "Mid-corridor: -9.323422119778115\n",
      "----------------\n"
     ]
    }
   ],
   "source": [
    "underShootLimit, exitflag_us = vehicle1.findUnderShootLimitD2(2400.0, 0.1, -20.0,-5.0, 1E-10, 2000.0)\n",
    "overShootLimit , exitflag_os = vehicle1.findOverShootLimitD2(2400.0, 0.1, -20.0,-5.0, 1E-10,  2000.0)\n",
    "\n",
    "print(\"Vehicle 1: Target apoapis: 2000 km\")\n",
    "print(\"----------------\")\n",
    "print(underShootLimit, exitflag_us)\n",
    "print(overShootLimit,  exitflag_os)\n",
    "print('Mid-corridor: '+ str(0.5*(underShootLimit+overShootLimit)))\n",
    "print(\"----------------\")\n",
    "\n",
    "underShootLimit, exitflag_us = vehicle2.findUnderShootLimitD2(2400.0, 0.1, -20.0,-5.0, 1E-10, 2000.0)\n",
    "overShootLimit , exitflag_os = vehicle2.findOverShootLimitD2(2400.0, 0.1, -20.0,-5.0, 1E-10,  2000.0)\n",
    "\n",
    "print(\"Vehicle 2: Target apoapis: 2000 km\")\n",
    "print(\"----------------\")\n",
    "print(underShootLimit, exitflag_us)\n",
    "print(overShootLimit,  exitflag_os)\n",
    "print('Mid-corridor: '+ str(0.5*(underShootLimit+overShootLimit)))\n",
    "print(\"----------------\")\n",
    "\n",
    "underShootLimit, exitflag_us = vehicle3.findUnderShootLimitD2(2400.0, 0.1, -20.0,-5.0, 1E-10, 2000.0)\n",
    "overShootLimit , exitflag_os = vehicle3.findOverShootLimitD2(2400.0, 0.1, -20.0,-5.0, 1E-10,  2000.0)\n",
    "\n",
    "print(\"Vehicle 3: Target apoapis: 2000 km\")\n",
    "print(\"----------------\")\n",
    "print(underShootLimit, exitflag_us)\n",
    "print(overShootLimit,  exitflag_os)\n",
    "print('Mid-corridor: '+ str(0.5*(underShootLimit+overShootLimit)))\n",
    "print(\"----------------\")\n",
    "\n",
    "underShootLimit, exitflag_us = vehicle4.findUnderShootLimitD2(2400.0, 0.1, -20.0,-5.0, 1E-10, 2000.0)\n",
    "overShootLimit , exitflag_os = vehicle4.findOverShootLimitD2(2400.0, 0.1, -20.0,-5.0, 1E-10,  2000.0)\n",
    "\n",
    "print(\"Vehicle 4: Target apoapis: 2000 km\")\n",
    "print(\"----------------\")\n",
    "print(underShootLimit, exitflag_us)\n",
    "print(overShootLimit,  exitflag_os)\n",
    "print('Mid-corridor: '+ str(0.5*(underShootLimit+overShootLimit)))\n",
    "print(\"----------------\")\n",
    "\n",
    "underShootLimit, exitflag_us = vehicle5.findUnderShootLimitD2(2400.0, 0.1, -20.0,-5.0, 1E-10, 2000.0)\n",
    "overShootLimit , exitflag_os = vehicle5.findOverShootLimitD2(2400.0, 0.1, -20.0,-5.0, 1E-10,  2000.0)\n",
    "\n",
    "print(\"Vehicle 5: Target apoapis: 2000 km\")\n",
    "print(\"----------------\")\n",
    "print(underShootLimit, exitflag_us)\n",
    "print(overShootLimit,  exitflag_os)\n",
    "print('Mid-corridor: '+ str(0.5*(underShootLimit+overShootLimit)))\n",
    "print(\"----------------\")"
   ]
  },
  {
   "cell_type": "markdown",
   "id": "99510509",
   "metadata": {},
   "source": [
    "Propagate an entry tarjectory at mid-corridor"
   ]
  },
  {
   "cell_type": "code",
   "execution_count": 20,
   "id": "aaf13046",
   "metadata": {},
   "outputs": [],
   "source": [
    "planet.h_low=10.0E3\n",
    "\n",
    "# propagate a single guided trajectory for each vehicle\n",
    "vehicle1.setTargetOrbitParams(200.0, 2500.0, 20.0)\n",
    "vehicle1.setDragEntryPhaseParams(2.0, 20.0, 101, -200.0)\n",
    "vehicle1.setDragModulationVehicleParams(20, 7.5)\n",
    "vehicle1.setInitialState(120.0,-25.06,63.04,5.6053,91.1531,-8.8371,0.0,0.0)\n",
    "vehicle1.propogateGuidedEntryD2(0.5,1.0,0.1,2400.0)\n",
    "\n",
    "vehicle2.setTargetOrbitParams(200.0, 2500.0, 20.0)\n",
    "vehicle2.setDragEntryPhaseParams(2.0, 20.0, 101, -200.0)\n",
    "vehicle2.setDragModulationVehicleParams(20, 7.5)\n",
    "vehicle2.setInitialState(120.0,-62.53,55.34,5.5111,49.4493,-8.9893,0.0,0.0)\n",
    "vehicle2.propogateGuidedEntryD2(0.5,1.0,0.1,2400.0)\n",
    "\n",
    "vehicle3.setTargetOrbitParams(200.0, 2500.0, 20.0)\n",
    "vehicle3.setDragEntryPhaseParams(2.0, 20.0, 101, -200.0)\n",
    "vehicle3.setDragModulationVehicleParams(20, 7.5)\n",
    "vehicle3.setInitialState(120.0,-80.17,38.8,5.4311,27.2459,-9.1229,0.0,0.0)\n",
    "vehicle3.propogateGuidedEntryD2(0.5,1.0,0.1,2400.0)\n",
    "\n",
    "vehicle4.setTargetOrbitParams(200.0, 2500.0, 20.0)\n",
    "vehicle4.setDragEntryPhaseParams(2.0, 20.0, 101, -200.0)\n",
    "vehicle4.setDragModulationVehicleParams(20, 7.5)\n",
    "vehicle4.setInitialState(120.0,-87.42,19.48,5.3775,15.1773,-9.2147,0.0,0.0)\n",
    "vehicle4.propogateGuidedEntryD2(0.5,1.0,0.1,2400.0)\n",
    "\n",
    "vehicle5.setTargetOrbitParams(200.0, 2500.0, 20.0)\n",
    "vehicle5.setDragEntryPhaseParams(2.0, 20.0, 101, -200.0)\n",
    "vehicle5.setDragModulationVehicleParams(20, 7.5)\n",
    "vehicle5.setInitialState(120.0,-89.76,-0.71,5.3586,9.3778,-9.2475,0.0,0.0)\n",
    "vehicle5.propogateGuidedEntryD2(0.5,1.0,0.1,2400.0)"
   ]
  },
  {
   "cell_type": "code",
   "execution_count": 21,
   "id": "e8bd9ea2",
   "metadata": {},
   "outputs": [
    {
     "name": "stdout",
     "output_type": "stream",
     "text": [
      "1839.5512522202991\n",
      "1864.6993556890004\n",
      "1996.830667081652\n",
      "1947.7772891007169\n",
      "1998.4898748487979\n"
     ]
    }
   ],
   "source": [
    "print(vehicle1.terminal_apoapsis)\n",
    "print(vehicle2.terminal_apoapsis)\n",
    "print(vehicle3.terminal_apoapsis)\n",
    "print(vehicle4.terminal_apoapsis)\n",
    "print(vehicle5.terminal_apoapsis)"
   ]
  },
  {
   "cell_type": "code",
   "execution_count": 22,
   "id": "1b6f81c9",
   "metadata": {},
   "outputs": [
    {
     "name": "stdout",
     "output_type": "stream",
     "text": [
      "34.267987277375596\n",
      "34.05123056880848\n",
      "33.431667659692266\n",
      "33.39683034751488\n",
      "33.165955763246075\n"
     ]
    }
   ],
   "source": [
    "print(vehicle1.periapsis_raise_DV)\n",
    "print(vehicle2.periapsis_raise_DV)\n",
    "print(vehicle3.periapsis_raise_DV)\n",
    "print(vehicle4.periapsis_raise_DV)\n",
    "print(vehicle5.periapsis_raise_DV)"
   ]
  },
  {
   "cell_type": "code",
   "execution_count": null,
   "id": "d233b4e5",
   "metadata": {},
   "outputs": [],
   "source": []
  }
 ],
 "metadata": {
  "kernelspec": {
   "display_name": "Python 3 (ipykernel)",
   "language": "python",
   "name": "python3"
  },
  "language_info": {
   "codemirror_mode": {
    "name": "ipython",
    "version": 3
   },
   "file_extension": ".py",
   "mimetype": "text/x-python",
   "name": "python",
   "nbconvert_exporter": "python",
   "pygments_lexer": "ipython3",
   "version": "3.8.10"
  }
 },
 "nbformat": 4,
 "nbformat_minor": 5
}
