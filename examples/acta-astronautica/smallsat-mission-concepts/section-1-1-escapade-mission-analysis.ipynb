{
 "cells": [
  {
   "cell_type": "code",
   "execution_count": 1,
   "id": "6db0ee72",
   "metadata": {},
   "outputs": [],
   "source": [
    "import numpy as np\n",
    "from astropy.time import Time\n",
    "from AMAT.arrival import Arrival"
   ]
  },
  {
   "cell_type": "code",
   "execution_count": 2,
   "id": "d6fc7444",
   "metadata": {},
   "outputs": [],
   "source": [
    "arrival = Arrival()\n",
    "arrival.set_vinf_vec_from_lambert_arc(lastFlybyPlanet='EARTH',\n",
    "                                      arrivalPlanet='MARS',\n",
    "                                      lastFlybyDate=Time(\"2024-10-01 00:00:00\", scale='tdb'),\n",
    "                                      arrivalDate=Time(\"2025-09-03 00:00:00\", scale='tdb'))"
   ]
  },
  {
   "cell_type": "code",
   "execution_count": 3,
   "id": "a0cee64f",
   "metadata": {},
   "outputs": [
    {
     "name": "stdout",
     "output_type": "stream",
     "text": [
      "Arrival v_inf vector, ICRF: [-0.99752617  1.63758917  1.73292484] km/s\n",
      "Arrival VINF MAG: 2.58 km/s.\n",
      "Arrival Declination: 6.03 deg.\n"
     ]
    }
   ],
   "source": [
    "print(\"Arrival v_inf vector, ICRF: \"+str(arrival.v_inf_vec)+\" km/s\")\n",
    "print(\"Arrival VINF MAG: \"+str(round(arrival.v_inf_mag, 2))+\" km/s.\")\n",
    "print(\"Arrival Declination: \"+str(round(arrival.declination, 2))+\" deg.\")"
   ]
  },
  {
   "cell_type": "code",
   "execution_count": 6,
   "id": "bce92058",
   "metadata": {},
   "outputs": [],
   "source": [
    "from AMAT.approach import Approach\n",
    "from AMAT.orbiter import PropulsiveOrbiter"
   ]
  },
  {
   "cell_type": "code",
   "execution_count": 90,
   "id": "aee1c1bb",
   "metadata": {},
   "outputs": [],
   "source": [
    "approach = Approach(\"MARS\", v_inf_vec_icrf_kms=arrival.v_inf_vec,\n",
    "                            rp=(3389.5+450)*1e3, psi=1.135*np.pi)"
   ]
  },
  {
   "cell_type": "code",
   "execution_count": 91,
   "id": "9e61a0de",
   "metadata": {},
   "outputs": [
    {
     "data": {
      "text/plain": [
       "65.84316205592602"
      ]
     },
     "execution_count": 91,
     "metadata": {},
     "output_type": "execute_result"
    }
   ],
   "source": [
    "approach.i*180/np.pi"
   ]
  },
  {
   "cell_type": "code",
   "execution_count": 98,
   "id": "c3341969",
   "metadata": {},
   "outputs": [],
   "source": [
    "orbiter1 = PropulsiveOrbiter(approach=approach, apoapsis_alt_km=68800)"
   ]
  },
  {
   "cell_type": "code",
   "execution_count": 99,
   "id": "36c86300",
   "metadata": {},
   "outputs": [
    {
     "data": {
      "text/plain": [
       "781.6905221924525"
      ]
     },
     "execution_count": 99,
     "metadata": {},
     "output_type": "execute_result"
    }
   ],
   "source": [
    "orbiter1.DV_OI_mag"
   ]
  },
  {
   "cell_type": "code",
   "execution_count": 100,
   "id": "8eb7c879",
   "metadata": {},
   "outputs": [
    {
     "data": {
      "text/plain": [
       "62.50798777965025"
      ]
     },
     "execution_count": 100,
     "metadata": {},
     "output_type": "execute_result"
    }
   ],
   "source": [
    "(2*np.pi*np.sqrt(orbiter1.a**3/orbiter1.approach.planetObj.GM))/3600"
   ]
  }
 ],
 "metadata": {
  "kernelspec": {
   "display_name": "Python 3 (ipykernel)",
   "language": "python",
   "name": "python3"
  },
  "language_info": {
   "codemirror_mode": {
    "name": "ipython",
    "version": 3
   },
   "file_extension": ".py",
   "mimetype": "text/x-python",
   "name": "python",
   "nbconvert_exporter": "python",
   "pygments_lexer": "ipython3",
   "version": "3.8.10"
  }
 },
 "nbformat": 4,
 "nbformat_minor": 5
}
