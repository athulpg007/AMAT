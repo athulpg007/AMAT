{
 "cells": [
  {
   "cell_type": "markdown",
   "id": "3dd7936b",
   "metadata": {},
   "source": [
    "# Section 3.1 - Mars SmallSat Aerocapture - Mission Requirements"
   ]
  },
  {
   "cell_type": "markdown",
   "id": "3ff0b7de",
   "metadata": {},
   "source": [
    "**The high-level mission objective is to deliver a small satellite to Mars orbit as a secondary payload on a Mars orbiter mission. A few days prior to arrival at Mars, the main orbiter releases the secondary orbiter on its approach trajectory for aerocapture. The orbiter then performs a small deflection manuever to target its approach trajectory for propulsive orbit insertion at periapsis.**\n",
    "\n",
    "The study requirements are as follows:\n",
    "\n",
    "1. The mission should deliver a 25 kg small satellite as a secondary payload on a Mars orbiter mission to a 200 x 2000 km near-equatorial Mars orbit. \n",
    "2. The interplanetary arrival conditions are defined by the host carrier spacecraft, and the host spacecraft will carry the small satellite during the interplanetary cruise and release it a few days prior to arrival at Mars. \n",
    "3. The small satellite will use an ADEPT drag modulation aerocapture system and must fit within the constraints of the of ESPA volume.\n",
    "4.  The concept must allow for at least 1.0 degree of Theoretical Corridor Width, and accommodate a +/- 0.2 deg $3\\sigma$ EFPA error at entry interface.\n",
    "5.  The maximum peak deceleration during aerocapture is not to exceed 5$g$.\n",
    "6.  The maximum peak stagnation-point heat rate is not to exceed 240 W/cm\\textsuperscript{2}, which is the tested limit of the carbon cloth TPS.\n",
    "7. The stagnation-point total  heat load is not to exceed 5 kJ/cm\\textsuperscript{2}.\n",
    "8.The periapsis raise maneuver propulsive $\\Delta V$ to be performed by the small spacecraft after orbit insertion is not to exceed 40 m/s.\n",
    "9.  The  deflection maneuver to be performed by the orbiter to target its insertion into a 200 $\\times$ 70,000 km orbit must not exceed 30 m/s.\n",
    "10. The small satellite release and deflection maneuver must be performed no earlier than 4 days prior to entry (to keep small satellite EFPA error low), and no later than 2 days to allow the primary spacecraft prepare for its orbit insertion maneuver. "
   ]
  }
 ],
 "metadata": {
  "kernelspec": {
   "display_name": "Python 3 (ipykernel)",
   "language": "python",
   "name": "python3"
  },
  "language_info": {
   "codemirror_mode": {
    "name": "ipython",
    "version": 3
   },
   "file_extension": ".py",
   "mimetype": "text/x-python",
   "name": "python",
   "nbconvert_exporter": "python",
   "pygments_lexer": "ipython3",
   "version": "3.8.10"
  }
 },
 "nbformat": 4,
 "nbformat_minor": 5
}
