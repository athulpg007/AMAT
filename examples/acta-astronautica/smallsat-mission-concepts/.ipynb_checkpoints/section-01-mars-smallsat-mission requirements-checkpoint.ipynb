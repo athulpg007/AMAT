{
 "cells": [
  {
   "cell_type": "markdown",
   "id": "3dd7936b",
   "metadata": {},
   "source": [
    "# Section 01 - Mars SmallSat Aerocapture - Mission Requirements"
   ]
  },
  {
   "cell_type": "markdown",
   "id": "3ff0b7de",
   "metadata": {},
   "source": [
    "**The high-level mission objective is to deliver a small satellite to Mars orbit as a secondary payload on a Mars orbiter mission. \n",
    "\n",
    "The study requirements are as follows:\n",
    "\n",
    "1. The mission concept should deliver a 25 kg small satellite as a secondary payload on a Mars orbiter mission to a 200 x 2000 km near-equatorial Mars orbit. \n",
    "2. The interplanetary arrival conditions are defined by the host carrier spacecraft, and the host spacecraft will carry the small satellite during the interplanetary cruise and release it a few days prior to arrival at Mars. \n",
    "3. The secondary spacecraft will use an ADEPT-derived drag modulation aerocapture system and must fit within the constraints the of ESPA volume.\n",
    "4. The mission concept must allow for at least 0.5 degree of Theoretical Corridor Width.\n",
    "5. The maximum peak stagnation-point heat rate is not to exceed 240 W/cm2, which is the tested limit of the carbon cloth TPS.\n",
    "6. The periapsis raise manuever propulsive Delta-V to be performed by the small spacecraft after orbit insertion is not to exceed 40 m/s.\n",
    "7. The orbiter deflection maneuver to be performed by the orbiter for insertion to a 250 km x 80,000 km near polar orbit after release of the small probe must not exceed 20 m/s."
   ]
  }
 ],
 "metadata": {
  "kernelspec": {
   "display_name": "Python 3 (ipykernel)",
   "language": "python",
   "name": "python3"
  },
  "language_info": {
   "codemirror_mode": {
    "name": "ipython",
    "version": 3
   },
   "file_extension": ".py",
   "mimetype": "text/x-python",
   "name": "python",
   "nbconvert_exporter": "python",
   "pygments_lexer": "ipython3",
   "version": "3.8.10"
  }
 },
 "nbformat": 4,
 "nbformat_minor": 5
}
