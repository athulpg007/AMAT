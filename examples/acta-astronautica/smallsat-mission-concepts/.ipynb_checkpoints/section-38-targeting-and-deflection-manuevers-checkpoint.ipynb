{
 "cells": [
  {
   "cell_type": "code",
   "execution_count": 2,
   "id": "b569c934",
   "metadata": {},
   "outputs": [],
   "source": [
    "import numpy as np\n",
    "from AMAT.maneuver import ProbeProbeDeflection\n",
    "from AMAT.maneuver import ProbeOrbiterDeflection"
   ]
  },
  {
   "cell_type": "code",
   "execution_count": 105,
   "id": "c0baf7d4",
   "metadata": {},
   "outputs": [],
   "source": [
    "deflection1 = ProbeProbeDeflection(arrivalPlanet=\"VENUS\",\n",
    "                                    v_inf_vec_icrf_kms=np.array([-3.26907094,  0.67649494, -1.0697747 ]),\n",
    "                                    rp_probe1=(6051.8+103.85)*1e3,  psi_probe1=0.94000*np.pi, h_EI_probe1=150e3,\n",
    "                                    rp_probe2=(6051.8+103.85)*1e3,  psi_probe2=0.97000*np.pi, h_EI_probe2=150e3,\n",
    "                                    r_dv_rp=215.5)\n",
    "\n",
    "deflection2 = ProbeProbeDeflection(arrivalPlanet=\"VENUS\",\n",
    "                                    v_inf_vec_icrf_kms=np.array([-3.26907094,  0.67649494, -1.0697747 ]),\n",
    "                                    rp_probe1=(6051.8+103.85)*1e3,  psi_probe1=0.97000*np.pi, h_EI_probe1=150e3,\n",
    "                                    rp_probe2=(6051.8+103.85)*1e3,  psi_probe2=1.00000*np.pi, h_EI_probe2=150e3,\n",
    "                                    r_dv_rp=189.6)\n",
    "\n",
    "deflection3 = ProbeProbeDeflection(arrivalPlanet=\"VENUS\",\n",
    "                                    v_inf_vec_icrf_kms=np.array([-3.26907094,  0.67649494, -1.0697747 ]),\n",
    "                                    rp_probe1=(6051.8+103.85)*1e3,  psi_probe1=1.00000*np.pi, h_EI_probe1=150e3,\n",
    "                                    rp_probe2=(6051.8+103.85)*1e3,  psi_probe2=1.03000*np.pi, h_EI_probe2=150e3,\n",
    "                                    r_dv_rp=164)\n",
    "\n",
    "deflection4 = ProbeProbeDeflection(arrivalPlanet=\"VENUS\",\n",
    "                                    v_inf_vec_icrf_kms=np.array([-3.26907094,  0.67649494, -1.0697747 ]),\n",
    "                                    rp_probe1=(6051.8+103.85)*1e3,  psi_probe1=1.03000*np.pi, h_EI_probe1=150e3,\n",
    "                                    rp_probe2=(6051.8+103.85)*1e3,  psi_probe2=1.05988*np.pi, h_EI_probe2=150e3,\n",
    "                                    r_dv_rp=138.5)\n",
    "\n",
    "deflection5 = ProbeOrbiterDeflection(arrivalPlanet=\"VENUS\",\n",
    "                                    v_inf_vec_icrf_kms=np.array([-3.26907094,  0.67649494, -1.0697747 ]),\n",
    "                                    rp_probe=(6051.8+103.85)*1e3,  psi_probe=1.05988*np.pi, h_EI_probe=150e3,\n",
    "                                    rp_space=(6051.8+400)*1e3, psi_space=1.1*np.pi,\n",
    "                                    r_dv_rp=112.5)"
   ]
  },
  {
   "cell_type": "code",
   "execution_count": 90,
   "id": "a0e24b36",
   "metadata": {},
   "outputs": [
    {
     "name": "stdout",
     "output_type": "stream",
     "text": [
      "Deflection Maneuver #1\n",
      "Divert manuever DV: [0.08126056 1.46198442 0.19303953] m/s\n",
      "Divert manuever DV magnitude: 1.477 m/s\n",
      "---------------------------------\n",
      "Deflection Maneuver #2\n",
      "Divert manuever DV: [0.46237709 5.06596816 0.2225033 ] m/s\n",
      "Divert manuever DV magnitude: 5.092 m/s\n",
      "---------------------------------\n",
      "Deflection Maneuver #3\n",
      "Divert manuever DV: [ 0.77756709  6.12658814 -0.27012275] m/s\n",
      "Divert manuever DV magnitude: 6.182 m/s\n",
      "---------------------------------\n",
      "Deflection Maneuver #4\n",
      "Divert manuever DV: [ 1.1581467   7.10139055 -0.94730888] m/s\n",
      "Divert manuever DV magnitude: 7.257 m/s\n",
      "---------------------------------\n",
      "Deflection Maneuver #5\n",
      "Divert manuever DV: [ 1.53327478 12.25226208 -0.43284925] m/s\n",
      "Divert manuever DV magnitude: 12.355 m/s\n",
      "---------------------------------\n"
     ]
    }
   ],
   "source": [
    "print('Deflection Maneuver #1')\n",
    "print(\"Divert manuever DV: \"+str(deflection1.dv_maneuver_vec)+ \" m/s\")\n",
    "print(\"Divert manuever DV magnitude: \"+str(round(deflection1.dv_maneuver_mag,3))+ \" m/s\")\n",
    "print('---------------------------------')\n",
    "print('Deflection Maneuver #2')\n",
    "print(\"Divert manuever DV: \"+str(deflection2.dv_maneuver_vec)+ \" m/s\")\n",
    "print(\"Divert manuever DV magnitude: \"+str(round(deflection2.dv_maneuver_mag,3))+ \" m/s\")\n",
    "print('---------------------------------')\n",
    "print('Deflection Maneuver #3')\n",
    "print(\"Divert manuever DV: \"+str(deflection3.dv_maneuver_vec)+ \" m/s\")\n",
    "print(\"Divert manuever DV magnitude: \"+str(round(deflection3.dv_maneuver_mag,3))+ \" m/s\")\n",
    "print('---------------------------------')\n",
    "print('Deflection Maneuver #4')\n",
    "print(\"Divert manuever DV: \"+str(deflection4.dv_maneuver_vec)+ \" m/s\")\n",
    "print(\"Divert manuever DV magnitude: \"+str(round(deflection4.dv_maneuver_mag,3))+ \" m/s\")\n",
    "print('---------------------------------')\n",
    "print('Deflection Maneuver #5')\n",
    "print(\"Divert manuever DV: \"+str(deflection5.dv_maneuver_vec)+ \" m/s\")\n",
    "print(\"Divert manuever DV magnitude: \"+str(round(deflection5.dv_maneuver_mag,3))+ \" m/s\")\n",
    "print('---------------------------------')"
   ]
  },
  {
   "cell_type": "code",
   "execution_count": 106,
   "id": "010582f4",
   "metadata": {},
   "outputs": [
    {
     "name": "stdout",
     "output_type": "stream",
     "text": [
      "TOF from probe release to atm. entry interface: 4.007605 days\n",
      "TOF from probe release to atm. entry interface: 3.500867 days\n",
      "TOF from probe release to atm. entry interface: 3.001488 days\n",
      "TOF from probe release to atm. entry interface: 2.506011 days\n",
      "TOF from probe release to atm. entry interface: 2.003604 days\n"
     ]
    }
   ],
   "source": [
    "print(\"TOF from probe release to atm. entry interface: \"+str(round(deflection1.TOF_probe1,6))+ \" days\")\n",
    "print(\"TOF from probe release to atm. entry interface: \"+str(round(deflection2.TOF_probe1,6))+ \" days\")\n",
    "print(\"TOF from probe release to atm. entry interface: \"+str(round(deflection3.TOF_probe1,6))+ \" days\")\n",
    "print(\"TOF from probe release to atm. entry interface: \"+str(round(deflection4.TOF_probe1,6))+ \" days\")\n",
    "print(\"TOF from probe release to atm. entry interface: \"+str(round(deflection5.TOF_probe,6))+ \" days\")"
   ]
  }
 ],
 "metadata": {
  "kernelspec": {
   "display_name": "Python 3 (ipykernel)",
   "language": "python",
   "name": "python3"
  },
  "language_info": {
   "codemirror_mode": {
    "name": "ipython",
    "version": 3
   },
   "file_extension": ".py",
   "mimetype": "text/x-python",
   "name": "python",
   "nbconvert_exporter": "python",
   "pygments_lexer": "ipython3",
   "version": "3.8.10"
  }
 },
 "nbformat": 4,
 "nbformat_minor": 5
}
