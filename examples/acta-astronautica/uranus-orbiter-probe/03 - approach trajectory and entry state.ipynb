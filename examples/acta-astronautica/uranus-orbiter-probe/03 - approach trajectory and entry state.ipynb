{
 "cells": [
  {
   "cell_type": "markdown",
   "id": "46c704c0",
   "metadata": {},
   "source": [
    "# 03 - Approach Trajectory and Entry State"
   ]
  },
  {
   "cell_type": "code",
   "execution_count": 1,
   "id": "e105c63d",
   "metadata": {},
   "outputs": [],
   "source": [
    "from astropy.time import Time\n",
    "from AMAT.arrival import Arrival\n",
    "\n",
    "arrival = Arrival()\n",
    "arrival.set_vinf_vec_from_lambert_arc('JUPITER',\n",
    "                                      'URANUS',\n",
    "                                      Time(\"2035-09-04 00:00:00\", scale='tdb'),\n",
    "                                      Time(\"2039-05-18 00:00:00\", scale='tdb'))"
   ]
  },
  {
   "cell_type": "code",
   "execution_count": 2,
   "id": "bf549d96",
   "metadata": {},
   "outputs": [
    {
     "data": {
      "text/plain": [
       "array([-9.62521831, 16.51192666,  7.46493598])"
      ]
     },
     "execution_count": 2,
     "metadata": {},
     "output_type": "execute_result"
    }
   ],
   "source": [
    "arrival.v_inf_vec"
   ]
  },
  {
   "cell_type": "code",
   "execution_count": 3,
   "id": "3cc885eb",
   "metadata": {},
   "outputs": [
    {
     "data": {
      "text/plain": [
       "-48.89326200262988"
      ]
     },
     "execution_count": 3,
     "metadata": {},
     "output_type": "execute_result"
    }
   ],
   "source": [
    "arrival.declination"
   ]
  },
  {
   "cell_type": "code",
   "execution_count": 4,
   "id": "329e065d",
   "metadata": {},
   "outputs": [],
   "source": [
    "import numpy as np\n",
    "from AMAT.approach import Approach"
   ]
  },
  {
   "cell_type": "code",
   "execution_count": 8,
   "id": "2bcee2bf",
   "metadata": {},
   "outputs": [
    {
     "name": "stdout",
     "output_type": "stream",
     "text": [
      "Entry altitude, km: 1000.0\n",
      "Entry longitude BI, deg: -15.22\n",
      "Entry latitude BI, deg: 77.2\n",
      "Atm. relative entry speed, km/s: 29.2861\n",
      "Atm. relative heading angle, deg: 88.8349\n",
      "Atm. relative EFPA, deg: -11.7035\n",
      "Inclination, deg: 90.0\n"
     ]
    }
   ],
   "source": [
    "approach1 = Approach(\"URANUS\", v_inf_vec_icrf_kms=arrival.v_inf_vec,\n",
    "                            rp=(25559+260)*1e3, psi=np.pi,\n",
    "                            is_entrySystem=True, h_EI=1000e3)\n",
    "\n",
    "print(\"Entry altitude, km: \"+ str(approach1.h_EI/1e3))\n",
    "print(\"Entry longitude BI, deg: \"+ str(round(approach1.longitude_entry_bi*180/np.pi, 2)))\n",
    "print(\"Entry latitude BI, deg: \"+ str(round(approach1.latitude_entry_bi*180/np.pi, 2)))\n",
    "print(\"Atm. relative entry speed, km/s: \"+str(round(approach1.v_entry_atm_mag/1e3, 4)))\n",
    "print(\"Atm. relative heading angle, deg: \"+str(round(approach1.heading_entry_atm*180/np.pi, 4)))\n",
    "print(\"Atm. relative EFPA, deg: \"+str(round(approach1.gamma_entry_atm*180/np.pi, 4)))\n",
    "\n",
    "print(\"Inclination, deg: \"+str(approach1.i*180/np.pi))"
   ]
  },
  {
   "cell_type": "markdown",
   "id": "b5f5d033",
   "metadata": {},
   "source": [
    "### Run the following code to generate the approach trajectory plot\n",
    "\n",
    "The code is also available in the file ```03-uranus-approach-trajectory.py```. \n",
    "\n",
    "```\n",
    "from mayavi import mlab\n",
    "import numpy as np\n",
    "\n",
    "from AMAT.approach import Approach\n",
    "\n",
    "probe1 = Approach(\"URANUS\",\n",
    "\t\t\t\t\t\tv_inf_vec_icrf_kms=np.array([-9.62521831, 16.51192666,  7.46493598]),\n",
    "\t\t\t\t\t\trp=(25559+250)*1e3, psi=np.pi,\n",
    "\t\t\t\t\t\tis_entrySystem=True, h_EI=1000e3)\n",
    "\n",
    "theta_star_arr_probe1 = np.linspace(-1.8, probe1.theta_star_entry, 101)\n",
    "pos_vec_bi_arr_probe1 = probe1.pos_vec_bi(theta_star_arr_probe1)/25559e3\n",
    "\n",
    "\n",
    "x_arr_probe1 = pos_vec_bi_arr_probe1[0][:]\n",
    "y_arr_probe1 = pos_vec_bi_arr_probe1[1][:]\n",
    "z_arr_probe1 = pos_vec_bi_arr_probe1[2][:]\n",
    "\n",
    "\n",
    "\n",
    "u = np.linspace(0, 2 * np.pi, 100)\n",
    "v = np.linspace(0, np.pi, 100)\n",
    "x = 1*np.outer(np.cos(u), np.sin(v))\n",
    "y = 1*np.outer(np.sin(u), np.sin(v))\n",
    "z = 1*np.outer(np.ones(np.size(u)), np.cos(v))\n",
    "\n",
    "x1 = 1.040381198513972*np.outer(np.cos(u), np.sin(v))\n",
    "y1 = 1.040381198513972*np.outer(np.sin(u), np.sin(v))\n",
    "z1 = 1.040381198513972*np.outer(np.ones(np.size(u)), np.cos(v))\n",
    "\n",
    "\n",
    "x_ring_1 = 1.1*np.cos(u)\n",
    "y_ring_1 = 1.1*np.sin(u)\n",
    "z_ring_1 = 0.0*np.cos(u)\n",
    "\n",
    "x_ring_2 = 1.2*np.cos(u)\n",
    "y_ring_2 = 1.2*np.sin(u)\n",
    "z_ring_2 = 0.0*np.cos(u)\n",
    "\n",
    "mlab.figure(bgcolor=(0,0,0))\n",
    "s1 = mlab.mesh(x, y, z, color=(0.10,0.55,0.35))\n",
    "s2 = mlab.mesh(x1, y1, z1, color=(0.2, 0.4, 0.4), opacity=0.3)\n",
    "r1 = mlab.plot3d(x_ring_1, y_ring_1, z_ring_1, color=(1,1,1), line_width=1, tube_radius=None)\n",
    "r2 = mlab.plot3d(x_ring_2, y_ring_2, z_ring_2, color=(1,1,1), line_width=1, tube_radius=None)\n",
    "\n",
    "p1 = mlab.plot3d(x_arr_probe1, y_arr_probe1, z_arr_probe1, color=(1,0,0), line_width=3, tube_radius=None)\n",
    "\n",
    "mlab.show()\n",
    "```"
   ]
  }
 ],
 "metadata": {
  "kernelspec": {
   "display_name": "Python 3 (ipykernel)",
   "language": "python",
   "name": "python3"
  },
  "language_info": {
   "codemirror_mode": {
    "name": "ipython",
    "version": 3
   },
   "file_extension": ".py",
   "mimetype": "text/x-python",
   "name": "python",
   "nbconvert_exporter": "python",
   "pygments_lexer": "ipython3",
   "version": "3.8.10"
  }
 },
 "nbformat": 4,
 "nbformat_minor": 5
}
