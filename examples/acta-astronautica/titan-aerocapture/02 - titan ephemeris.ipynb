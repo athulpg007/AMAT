{
 "cells": [
  {
   "cell_type": "code",
   "execution_count": 6,
   "id": "9fce7c8e",
   "metadata": {},
   "outputs": [
    {
     "data": {
      "text/plain": [
       "<ScienceState solar_system_ephemeris: 'jpl'>"
      ]
     },
     "execution_count": 6,
     "metadata": {},
     "output_type": "execute_result"
    }
   ],
   "source": [
    "from astropy.coordinates import solar_system_ephemeris\n",
    "from astropy.coordinates import get_body_barycentric_posvel\n",
    "import numpy as np\n",
    "\n",
    "from poliastro.bodies import Sun\n",
    "from poliastro import iod\n",
    "from astropy import units as u\n",
    "from numpy import linalg as LA\n",
    "\n",
    "from AMAT.planet import Planet\n",
    "from astropy.time import Time\n",
    "\n",
    "solar_system_ephemeris.set('jpl')"
   ]
  },
  {
   "cell_type": "code",
   "execution_count": 7,
   "id": "02071271",
   "metadata": {},
   "outputs": [],
   "source": [
    "sat_eph = get_body_barycentric_posvel(\"SATURN\", Time(\"2022-11-09 00:00:00\", scale='tdb'))"
   ]
  },
  {
   "cell_type": "code",
   "execution_count": 8,
   "id": "dbf48a46",
   "metadata": {},
   "outputs": [
    {
     "data": {
      "text/plain": [
       "1194640919.2953098"
      ]
     },
     "execution_count": 8,
     "metadata": {},
     "output_type": "execute_result"
    }
   ],
   "source": [
    "sat_eph[0].x.value"
   ]
  },
  {
   "cell_type": "code",
   "execution_count": 9,
   "id": "2774a71a",
   "metadata": {},
   "outputs": [
    {
     "data": {
      "text/plain": [
       "-775811248.235637"
      ]
     },
     "execution_count": 9,
     "metadata": {},
     "output_type": "execute_result"
    }
   ],
   "source": [
    "sat_eph[0].y.value"
   ]
  },
  {
   "cell_type": "code",
   "execution_count": 10,
   "id": "0d0a4170",
   "metadata": {},
   "outputs": [
    {
     "data": {
      "text/plain": [
       "-371904359.2864782"
      ]
     },
     "execution_count": 10,
     "metadata": {},
     "output_type": "execute_result"
    }
   ],
   "source": [
    "sat_eph[0].z.value"
   ]
  },
  {
   "cell_type": "code",
   "execution_count": 11,
   "id": "51b21de2",
   "metadata": {},
   "outputs": [],
   "source": [
    "sat_pos = np.array([sat_eph[0].x.value, sat_eph[0].y.value, sat_eph[0].z.value])"
   ]
  },
  {
   "cell_type": "code",
   "execution_count": 12,
   "id": "5a6377a1",
   "metadata": {},
   "outputs": [
    {
     "data": {
      "text/plain": [
       "array([ 1.19464092e+09, -7.75811248e+08, -3.71904359e+08])"
      ]
     },
     "execution_count": 12,
     "metadata": {},
     "output_type": "execute_result"
    }
   ],
   "source": [
    "sat_pos"
   ]
  },
  {
   "cell_type": "code",
   "execution_count": 15,
   "id": "7f5e2080",
   "metadata": {},
   "outputs": [
    {
     "data": {
      "text/plain": [
       "9.814644095884852"
      ]
     },
     "execution_count": 15,
     "metadata": {},
     "output_type": "execute_result"
    }
   ],
   "source": [
    "np.linalg.norm(sat_pos / 1.5e8)"
   ]
  },
  {
   "cell_type": "code",
   "execution_count": 18,
   "id": "741dc2d0",
   "metadata": {},
   "outputs": [],
   "source": [
    "ear_eph = get_body_barycentric_posvel(\"EARTH\", Time(\"2022-11-09 00:00:00\", scale='tdb'))"
   ]
  },
  {
   "cell_type": "code",
   "execution_count": 19,
   "id": "c98e067b",
   "metadata": {},
   "outputs": [],
   "source": [
    "ear_pos = np.array([ear_eph[0].x.value, ear_eph[0].y.value, ear_eph[0].z.value])"
   ]
  },
  {
   "cell_type": "code",
   "execution_count": 20,
   "id": "78608e5b",
   "metadata": {},
   "outputs": [
    {
     "data": {
      "text/plain": [
       "0.9821780547453707"
      ]
     },
     "execution_count": 20,
     "metadata": {},
     "output_type": "execute_result"
    }
   ],
   "source": [
    "np.linalg.norm(ear_pos / 1.5e8)"
   ]
  },
  {
   "cell_type": "code",
   "execution_count": 21,
   "id": "d3cea3f1",
   "metadata": {},
   "outputs": [],
   "source": [
    "sat_ear = ear_pos - sat_pos"
   ]
  },
  {
   "cell_type": "code",
   "execution_count": 22,
   "id": "3e97ac1c",
   "metadata": {},
   "outputs": [
    {
     "data": {
      "text/plain": [
       "9.733454043600387"
      ]
     },
     "execution_count": 22,
     "metadata": {},
     "output_type": "execute_result"
    }
   ],
   "source": [
    "np.linalg.norm(sat_ear / 1.5e8)"
   ]
  },
  {
   "cell_type": "code",
   "execution_count": 23,
   "id": "62bd3a44",
   "metadata": {},
   "outputs": [
    {
     "data": {
      "text/plain": [
       "array([-1.09351032e+09,  8.74095189e+08,  4.14542699e+08])"
      ]
     },
     "execution_count": 23,
     "metadata": {},
     "output_type": "execute_result"
    }
   ],
   "source": [
    "sat_ear"
   ]
  },
  {
   "cell_type": "code",
   "execution_count": 24,
   "id": "605ec751",
   "metadata": {},
   "outputs": [
    {
     "data": {
      "text/plain": [
       "-1093510321.1161652"
      ]
     },
     "execution_count": 24,
     "metadata": {},
     "output_type": "execute_result"
    }
   ],
   "source": [
    "sat_ear[0]"
   ]
  },
  {
   "cell_type": "code",
   "execution_count": null,
   "id": "2706d26f",
   "metadata": {},
   "outputs": [],
   "source": []
  }
 ],
 "metadata": {
  "kernelspec": {
   "display_name": "Python 3 (ipykernel)",
   "language": "python",
   "name": "python3"
  },
  "language_info": {
   "codemirror_mode": {
    "name": "ipython",
    "version": 3
   },
   "file_extension": ".py",
   "mimetype": "text/x-python",
   "name": "python",
   "nbconvert_exporter": "python",
   "pygments_lexer": "ipython3",
   "version": "3.8.10"
  }
 },
 "nbformat": 4,
 "nbformat_minor": 5
}
