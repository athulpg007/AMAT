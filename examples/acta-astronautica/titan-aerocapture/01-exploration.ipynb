{
 "cells": [
  {
   "cell_type": "code",
   "execution_count": 1,
   "id": "ab351280",
   "metadata": {},
   "outputs": [],
   "source": [
    "import numpy as np\n",
    "from AMAT.approach import Approach"
   ]
  },
  {
   "cell_type": "code",
   "execution_count": 20,
   "id": "ff850bc9",
   "metadata": {},
   "outputs": [],
   "source": [
    "approach1 = Approach(\"TITAN\", v_inf_vec_icrf_kms=np.array([-0.910, 5.081, 4.710]),\n",
    "                            rp=(2575-180)*1e3, psi=3*np.pi/2,\n",
    "                            is_entrySystem=True, h_EI=1270e3)"
   ]
  },
  {
   "cell_type": "code",
   "execution_count": 21,
   "id": "943e8d3f",
   "metadata": {},
   "outputs": [
    {
     "name": "stdout",
     "output_type": "stream",
     "text": [
      "Entry altitude, km: 1270.0\n",
      "Entry longitude BI, deg: 27.04\n",
      "Entry latitude BI, deg: -32.63\n",
      "Atm. relative entry speed, km/s: 7.3221\n",
      "Atm. relative heading angle, deg: 122.3512\n",
      "Atm. relative EFPA, deg: -50.1987\n",
      "Inclination, deg: 45.31790131253267\n"
     ]
    }
   ],
   "source": [
    "print(\"Entry altitude, km: \"+ str(approach1.h_EI/1e3))\n",
    "print(\"Entry longitude BI, deg: \"+ str(round(approach1.longitude_entry_bi*180/np.pi, 2)))\n",
    "print(\"Entry latitude BI, deg: \"+ str(round(approach1.latitude_entry_bi*180/np.pi, 2)))\n",
    "print(\"Atm. relative entry speed, km/s: \"+str(round(approach1.v_entry_atm_mag/1e3, 4)))\n",
    "print(\"Atm. relative heading angle, deg: \"+str(round(approach1.heading_entry_atm*180/np.pi, 4)))\n",
    "print(\"Atm. relative EFPA, deg: \"+str(round(approach1.gamma_entry_atm*180/np.pi, 4)))\n",
    "\n",
    "print(\"Inclination, deg: \"+str(approach1.i*180/np.pi))"
   ]
  },
  {
   "cell_type": "code",
   "execution_count": 22,
   "id": "7bd81dea",
   "metadata": {},
   "outputs": [
    {
     "data": {
      "text/plain": [
       "6.9877579379941315"
      ]
     },
     "execution_count": 22,
     "metadata": {},
     "output_type": "execute_result"
    }
   ],
   "source": [
    "approach1.v_inf_mag_kms"
   ]
  },
  {
   "cell_type": "code",
   "execution_count": 23,
   "id": "36ecc387",
   "metadata": {},
   "outputs": [],
   "source": [
    "approach2 = Approach(\"TITAN\", v_inf_vec_icrf_kms=np.array([-0.910, 5.081, 4.710]),\n",
    "                            rp=(2575+1500)*1e3, psi=3*np.pi/2)"
   ]
  },
  {
   "cell_type": "code",
   "execution_count": 24,
   "id": "4803cf6d",
   "metadata": {},
   "outputs": [],
   "source": [
    "from AMAT.orbiter import PropulsiveOrbiter"
   ]
  },
  {
   "cell_type": "code",
   "execution_count": 31,
   "id": "bfa8613b",
   "metadata": {},
   "outputs": [],
   "source": [
    "orbiter = PropulsiveOrbiter(approach=approach2, apoapsis_alt_km=100000)"
   ]
  },
  {
   "cell_type": "code",
   "execution_count": 32,
   "id": "fbb5cddb",
   "metadata": {},
   "outputs": [
    {
     "data": {
      "text/plain": [
       "5237.5975283733205"
      ]
     },
     "execution_count": 32,
     "metadata": {},
     "output_type": "execute_result"
    }
   ],
   "source": [
    "orbiter.DV_OI_mag"
   ]
  },
  {
   "cell_type": "code",
   "execution_count": 33,
   "id": "c72e872b",
   "metadata": {},
   "outputs": [
    {
     "data": {
      "text/plain": [
       "0.1907028453198868"
      ]
     },
     "execution_count": 33,
     "metadata": {},
     "output_type": "execute_result"
    }
   ],
   "source": [
    "np.exp(-5200/(320*9.80665))"
   ]
  },
  {
   "cell_type": "code",
   "execution_count": null,
   "id": "942a10e5",
   "metadata": {},
   "outputs": [],
   "source": []
  }
 ],
 "metadata": {
  "kernelspec": {
   "display_name": "Python 3 (ipykernel)",
   "language": "python",
   "name": "python3"
  },
  "language_info": {
   "codemirror_mode": {
    "name": "ipython",
    "version": 3
   },
   "file_extension": ".py",
   "mimetype": "text/x-python",
   "name": "python",
   "nbconvert_exporter": "python",
   "pygments_lexer": "ipython3",
   "version": "3.8.10"
  }
 },
 "nbformat": 4,
 "nbformat_minor": 5
}
