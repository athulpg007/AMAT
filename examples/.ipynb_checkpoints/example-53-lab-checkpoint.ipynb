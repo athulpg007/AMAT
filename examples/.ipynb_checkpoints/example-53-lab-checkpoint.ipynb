{
 "cells": [
  {
   "cell_type": "code",
   "execution_count": 1,
   "metadata": {},
   "outputs": [],
   "source": [
    "from AMAT.planet import Planet\n",
    "from AMAT.vehicle import Vehicle"
   ]
  },
  {
   "cell_type": "code",
   "execution_count": 2,
   "metadata": {},
   "outputs": [],
   "source": [
    "import numpy as np\n",
    "from scipy import interpolate\n",
    "import pandas as pd\n",
    "\n",
    "import matplotlib.pyplot as plt\n",
    "from matplotlib import rcParams\n",
    "from matplotlib.patches import Polygon"
   ]
  },
  {
   "cell_type": "code",
   "execution_count": 3,
   "metadata": {},
   "outputs": [],
   "source": [
    "planet = Planet('MARS')\n",
    "planet.loadAtmosphereModel('../atmdata/Mars/mars-gram-avg.dat', 0 , 1 ,2, 3)\n",
    "planet.h_skip = 150.0E3"
   ]
  },
  {
   "cell_type": "code",
   "execution_count": 4,
   "metadata": {},
   "outputs": [],
   "source": [
    "# Set up two vehicle objects, one for 450 km circular, one for 1-sol orbit\n",
    "vehicle1=Vehicle('MarsSmallSat1', 25.97, 66.4, 0.0, np.pi*0.25**2, 0.0, 0.0563, planet)\n",
    "vehicle2=Vehicle('MarsSmallSat2', 25.97, 66.4, 0.0, np.pi*0.25**2, 0.0, 0.0563, planet)\n",
    "\n",
    "vehicle1.setInitialState(150.0,0.0,0.0,5.74,0.0,-5.00,0.0,0.0)\n",
    "vehicle2.setInitialState(150.0,0.0,0.0,5.74,0.0,-5.00,0.0,0.0)\n",
    "\n",
    "vehicle1.setSolverParams(1E-6)\n",
    "vehicle2.setSolverParams(1E-6)\n",
    "\n",
    "vehicle1.setDragModulationVehicleParams(66.4,4.72)\n",
    "vehicle2.setDragModulationVehicleParams(66.4,4.72)"
   ]
  },
  {
   "cell_type": "code",
   "execution_count": 5,
   "metadata": {},
   "outputs": [],
   "source": [
    "ATM_height, ATM_density_low, ATM_density_avg, ATM_density_high, ATM_density_pert = planet.loadMonteCarloDensityFile2('../atmdata/Mars/LAT00N.txt', 0, 1, 2, 3, 4, heightInKmFlag=True)\n",
    "density_int_low = planet.loadAtmosphereModel6(ATM_height, ATM_density_low, ATM_density_avg, ATM_density_high, -3.0, 156, 200)\n",
    "density_int_avg = planet.loadAtmosphereModel6(ATM_height, ATM_density_low, ATM_density_avg, ATM_density_high,  0.0, 156, 200)\n",
    "density_int_hig = planet.loadAtmosphereModel6(ATM_height, ATM_density_low, ATM_density_avg, ATM_density_high, +3.0, 156, 200)"
   ]
  },
  {
   "cell_type": "code",
   "execution_count": 6,
   "metadata": {},
   "outputs": [],
   "source": [
    "planet.density_int = density_int_low"
   ]
  },
  {
   "cell_type": "code",
   "execution_count": 7,
   "metadata": {},
   "outputs": [
    {
     "name": "stdout",
     "output_type": "stream",
     "text": [
      "450 km circ.\n",
      "----------------\n",
      "-12.60994243616733 1.0\n",
      "-11.981538518732123 1.0\n",
      "----------------\n",
      "1-sol.\n",
      "----------------\n",
      "-12.323174279437808 1.0\n",
      "-11.661584616573236 1.0\n",
      "----------------\n"
     ]
    }
   ],
   "source": [
    "underShootLimit, exitflag_us =  vehicle1.findUnderShootLimitD(2400.0, 0.1, -30.0,-2.0, 1E-10, 450.0)\n",
    "overShootLimit , exitflag_os =  vehicle1.findOverShootLimitD(2400.0, 0.1, -30.0,-2.0, 1E-10,  450.0)\n",
    "\n",
    "print(\"450 km circ.\")\n",
    "print(\"----------------\")\n",
    "print(underShootLimit, exitflag_us)\n",
    "print(overShootLimit,  exitflag_os)\n",
    "print(\"----------------\")\n",
    "\n",
    "underShootLimit, exitflag_us =  vehicle2.findUnderShootLimitD(2400.0, 0.1, -30.0,-2.0, 1E-10, 33000.0)\n",
    "overShootLimit , exitflag_os =  vehicle2.findOverShootLimitD(2400.0, 0.1, -30.0,-2.0, 1E-10,  33000.0)\n",
    "print(\"1-sol.\")\n",
    "print(\"----------------\")\n",
    "print(underShootLimit, exitflag_us)\n",
    "print(overShootLimit,  exitflag_os)\n",
    "print(\"----------------\")"
   ]
  },
  {
   "cell_type": "code",
   "execution_count": 8,
   "metadata": {},
   "outputs": [],
   "source": [
    "planet.density_int = density_int_avg"
   ]
  },
  {
   "cell_type": "code",
   "execution_count": 9,
   "metadata": {},
   "outputs": [
    {
     "name": "stdout",
     "output_type": "stream",
     "text": [
      "450 km circ.\n",
      "----------------\n",
      "-12.548634194892657 1.0\n",
      "-11.885189815802732 1.0\n",
      "----------------\n",
      "1-sol.\n",
      "----------------\n",
      "-12.2494575607343 1.0\n",
      "-11.53178058253252 1.0\n",
      "----------------\n"
     ]
    }
   ],
   "source": [
    "underShootLimit, exitflag_us =  vehicle1.findUnderShootLimitD(2400.0, 0.1, -30.0,-2.0, 1E-10, 450.0)\n",
    "overShootLimit , exitflag_os =  vehicle1.findOverShootLimitD(2400.0, 0.1, -30.0,-2.0, 1E-10,  450.0)\n",
    "\n",
    "print(\"450 km circ.\")\n",
    "print(\"----------------\")\n",
    "print(underShootLimit, exitflag_us)\n",
    "print(overShootLimit,  exitflag_os)\n",
    "print(\"----------------\")\n",
    "\n",
    "underShootLimit, exitflag_us =  vehicle2.findUnderShootLimitD(2400.0, 0.1, -30.0,-2.0, 1E-10, 33000.0)\n",
    "overShootLimit , exitflag_os =  vehicle2.findOverShootLimitD(2400.0, 0.1, -30.0,-2.0, 1E-10,  33000.0)\n",
    "print(\"1-sol.\")\n",
    "print(\"----------------\")\n",
    "print(underShootLimit, exitflag_us)\n",
    "print(overShootLimit,  exitflag_os)\n",
    "print(\"----------------\")"
   ]
  },
  {
   "cell_type": "code",
   "execution_count": 10,
   "metadata": {},
   "outputs": [],
   "source": [
    "planet.density_int = density_int_hig"
   ]
  },
  {
   "cell_type": "code",
   "execution_count": 11,
   "metadata": {},
   "outputs": [
    {
     "name": "stdout",
     "output_type": "stream",
     "text": [
      "450 km circ.\n",
      "----------------\n",
      "-12.488991998798156 1.0\n",
      "-11.789546245905512 1.0\n",
      "----------------\n",
      "1-sol.\n",
      "----------------\n",
      "-12.177488861532765 1.0\n",
      "-11.401750511300634 1.0\n",
      "----------------\n"
     ]
    }
   ],
   "source": [
    "underShootLimit, exitflag_us =  vehicle1.findUnderShootLimitD(2400.0, 0.1, -30.0,-2.0, 1E-10, 450.0)\n",
    "overShootLimit , exitflag_os =  vehicle1.findOverShootLimitD(2400.0, 0.1, -30.0,-2.0, 1E-10,  450.0)\n",
    "\n",
    "print(\"450 km circ.\")\n",
    "print(\"----------------\")\n",
    "print(underShootLimit, exitflag_us)\n",
    "print(overShootLimit,  exitflag_os)\n",
    "print(\"----------------\")\n",
    "\n",
    "underShootLimit, exitflag_us =  vehicle2.findUnderShootLimitD(2400.0, 0.1, -30.0,-2.0, 1E-10, 33000.0)\n",
    "overShootLimit , exitflag_os =  vehicle2.findOverShootLimitD(2400.0, 0.1, -30.0,-2.0, 1E-10,  33000.0)\n",
    "print(\"1-sol.\")\n",
    "print(\"----------------\")\n",
    "print(underShootLimit, exitflag_us)\n",
    "print(overShootLimit,  exitflag_os)\n",
    "print(\"----------------\")"
   ]
  },
  {
   "cell_type": "code",
   "execution_count": 12,
   "metadata": {},
   "outputs": [],
   "source": [
    "ATM_height, ATM_density_low, ATM_density_avg, ATM_density_high, ATM_density_pert = planet.loadMonteCarloDensityFile2('../atmdata/Mars/LAT00N.txt', 0, 1, 2, 3, 4, heightInKmFlag=True)\n",
    "density_int_low = planet.loadAtmosphereModel5(ATM_height, ATM_density_low, ATM_density_avg, ATM_density_high, ATM_density_pert, -3.0, 156, 200)\n",
    "density_int_avg = planet.loadAtmosphereModel5(ATM_height, ATM_density_low, ATM_density_avg, ATM_density_high, ATM_density_pert,  0.0, 156, 200)\n",
    "density_int_hig = planet.loadAtmosphereModel5(ATM_height, ATM_density_low, ATM_density_avg, ATM_density_high, ATM_density_pert, +3.0, 156, 200)"
   ]
  },
  {
   "cell_type": "code",
   "execution_count": 13,
   "metadata": {},
   "outputs": [],
   "source": [
    "planet.density_int = density_int_avg"
   ]
  },
  {
   "cell_type": "code",
   "execution_count": 74,
   "metadata": {},
   "outputs": [],
   "source": [
    "# Set planet.h_low to 10 km, if vehicle dips below this level\n",
    "# trajctory is terminated.\n",
    "planet.h_low=10.0E3\n",
    "\n",
    "# Set target orbit = 450 km x 450 km, tolerance = 50 km\n",
    "vehicle1.setTargetOrbitParams(450.0, 450.0, 20.0)\n",
    "vehicle2.setTargetOrbitParams(450.0, 33000.0, 20.0)\n",
    "\n",
    "# Set entry phase parameters\n",
    "# v_switch_kms = 2.0, lowAlt_km = 20.0, \n",
    "# numPoints_lowAlt = 101, hdot_threshold = -200.0 m/s.\n",
    "# These are somewhat arbitary based on experience.\n",
    "vehicle1.setDragEntryPhaseParams(2.0, 20.0, 101, -200.0)\n",
    "vehicle2.setDragEntryPhaseParams(2.0, 20.0, 101, -200.0)\n",
    "\n",
    "# Set beta_1 and beta_ratio\n",
    "vehicle1.setDragModulationVehicleParams(66.4,4.72)\n",
    "vehicle2.setDragModulationVehicleParams(66.4,4.72)\n",
    "\n",
    "# Set vehicle initial state\n",
    "vehicle1.setInitialState(150.0,0.0,0.0,5.74,0.0,-12.10,0.0,0.0)\n",
    "vehicle2.setInitialState(150.0,0.0,0.0,5.74,0.0,-11.80,0.0,0.0)"
   ]
  },
  {
   "cell_type": "code",
   "execution_count": 75,
   "metadata": {},
   "outputs": [],
   "source": [
    "vehicle1.propogateGuidedEntryD(1.0,1.0,0.1,2400.0)"
   ]
  },
  {
   "cell_type": "code",
   "execution_count": 72,
   "metadata": {},
   "outputs": [
    {
     "data": {
      "text/plain": [
       "164.88993107463605"
      ]
     },
     "execution_count": 72,
     "metadata": {},
     "output_type": "execute_result"
    }
   ],
   "source": [
    "vehicle1.terminal_apoapsis"
   ]
  },
  {
   "cell_type": "code",
   "execution_count": 37,
   "metadata": {},
   "outputs": [
    {
     "data": {
      "text/plain": [
       "200"
      ]
     },
     "execution_count": 37,
     "metadata": {},
     "output_type": "execute_result"
    }
   ],
   "source": [
    "np.size(vehicle1.h_step_array)"
   ]
  },
  {
   "cell_type": "code",
   "execution_count": 31,
   "metadata": {},
   "outputs": [
    {
     "data": {
      "text/plain": [
       "1529"
      ]
     },
     "execution_count": 31,
     "metadata": {},
     "output_type": "execute_result"
    }
   ],
   "source": [
    "np.size(vehicle1.hddot_array)"
   ]
  },
  {
   "cell_type": "code",
   "execution_count": 78,
   "metadata": {},
   "outputs": [
    {
     "data": {
      "text/plain": [
       "[<matplotlib.lines.Line2D at 0x7fdb009bf588>]"
      ]
     },
     "execution_count": 78,
     "metadata": {},
     "output_type": "execute_result"
    },
    {
     "data": {
      "image/png": "[encoded data removed]",
      "text/plain": [
       "<Figure size 432x288 with 1 Axes>"
      ]
     },
     "metadata": {
      "needs_background": "light"
     },
     "output_type": "display_data"
    }
   ],
   "source": [
    "plt.plot(vehicle1.t_step_array, vehicle1.hdot_array)"
   ]
  },
  {
   "cell_type": "code",
   "execution_count": 77,
   "metadata": {},
   "outputs": [
    {
     "data": {
      "text/plain": [
       "[<matplotlib.lines.Line2D at 0x7fdb009f43c8>]"
      ]
     },
     "execution_count": 77,
     "metadata": {},
     "output_type": "execute_result"
    },
    {
     "data": {
      "image/png": "[encoded data removed]",
      "text/plain": [
       "<Figure size 432x288 with 1 Axes>"
      ]
     },
     "metadata": {
      "needs_background": "light"
     },
     "output_type": "display_data"
    }
   ],
   "source": [
    "plt.plot(vehicle1.v_kms_full,vehicle1.h_km_full)"
   ]
  },
  {
   "cell_type": "code",
   "execution_count": 5,
   "metadata": {},
   "outputs": [],
   "source": [
    "ATM_height, ATM_density_low, ATM_density_avg, ATM_density_high, ATM_density_pert = planet.loadMonteCarloDensityFile2('../atmdata/Mars/LAT80N.txt', 0, 1, 2, 3, 4, heightInKmFlag=True)\n",
    "density_int_low = planet.loadAtmosphereModel6(ATM_height, ATM_density_low, ATM_density_avg, ATM_density_high, -3.0, 41, 200)\n",
    "density_int_avg = planet.loadAtmosphereModel6(ATM_height, ATM_density_low, ATM_density_avg, ATM_density_high,  0.0, 41, 200)\n",
    "density_int_hig = planet.loadAtmosphereModel6(ATM_height, ATM_density_low, ATM_density_avg, ATM_density_high, +3.0, 41, 200)"
   ]
  },
  {
   "cell_type": "code",
   "execution_count": 6,
   "metadata": {},
   "outputs": [],
   "source": [
    "planet.density_int = density_int_low"
   ]
  },
  {
   "cell_type": "code",
   "execution_count": 7,
   "metadata": {},
   "outputs": [
    {
     "name": "stdout",
     "output_type": "stream",
     "text": [
      "450 km circ.\n",
      "----------------\n",
      "-14.16304443981062 1.0\n",
      "-13.9575517202029 1.0\n",
      "----------------\n",
      "1-sol.\n",
      "----------------\n",
      "-14.16304443981062 1.0\n",
      "-11.259089339044294 1.0\n",
      "----------------\n"
     ]
    }
   ],
   "source": [
    "underShootLimit, exitflag_us =  vehicle1.findUnderShootLimitD(2400.0, 0.1, -30.0,-2.0, 1E-10, 450.0)\n",
    "overShootLimit , exitflag_os =  vehicle1.findOverShootLimitD(2400.0, 0.1, -30.0,-2.0, 1E-10,  450.0)\n",
    "\n",
    "print(\"450 km circ.\")\n",
    "print(\"----------------\")\n",
    "print(underShootLimit, exitflag_us)\n",
    "print(overShootLimit,  exitflag_os)\n",
    "print(\"----------------\")\n",
    "\n",
    "underShootLimit, exitflag_us =  vehicle2.findUnderShootLimitD(2400.0, 0.1, -30.0,-2.0, 1E-10, 33000.0)\n",
    "overShootLimit , exitflag_os =  vehicle2.findOverShootLimitD(2400.0, 0.1, -30.0,-2.0, 1E-10,  33000.0)\n",
    "print(\"1-sol.\")\n",
    "print(\"----------------\")\n",
    "print(underShootLimit, exitflag_us)\n",
    "print(overShootLimit,  exitflag_os)\n",
    "print(\"----------------\")"
   ]
  },
  {
   "cell_type": "code",
   "execution_count": 8,
   "metadata": {},
   "outputs": [],
   "source": [
    "planet.density_int = density_int_avg"
   ]
  },
  {
   "cell_type": "code",
   "execution_count": 9,
   "metadata": {},
   "outputs": [
    {
     "name": "stdout",
     "output_type": "stream",
     "text": [
      "450 km circ.\n",
      "----------------\n",
      "-14.149672343977727 1.0\n",
      "-13.871650488035812 1.0\n",
      "----------------\n",
      "1-sol.\n",
      "----------------\n",
      "-14.149672343977727 1.0\n",
      "-11.078272602826473 1.0\n",
      "----------------\n"
     ]
    }
   ],
   "source": [
    "underShootLimit, exitflag_us =  vehicle1.findUnderShootLimitD(2400.0, 0.1, -30.0,-2.0, 1E-10, 450.0)\n",
    "overShootLimit , exitflag_os =  vehicle1.findOverShootLimitD(2400.0, 0.1, -30.0,-2.0, 1E-10,  450.0)\n",
    "\n",
    "print(\"450 km circ.\")\n",
    "print(\"----------------\")\n",
    "print(underShootLimit, exitflag_us)\n",
    "print(overShootLimit,  exitflag_os)\n",
    "print(\"----------------\")\n",
    "\n",
    "underShootLimit, exitflag_us =  vehicle2.findUnderShootLimitD(2400.0, 0.1, -30.0,-2.0, 1E-10, 33000.0)\n",
    "overShootLimit , exitflag_os =  vehicle2.findOverShootLimitD(2400.0, 0.1, -30.0,-2.0, 1E-10,  33000.0)\n",
    "print(\"1-sol.\")\n",
    "print(\"----------------\")\n",
    "print(underShootLimit, exitflag_us)\n",
    "print(overShootLimit,  exitflag_os)\n",
    "print(\"----------------\")"
   ]
  },
  {
   "cell_type": "code",
   "execution_count": 10,
   "metadata": {},
   "outputs": [],
   "source": [
    "planet.density_int = density_int_hig"
   ]
  },
  {
   "cell_type": "code",
   "execution_count": 11,
   "metadata": {},
   "outputs": [
    {
     "name": "stdout",
     "output_type": "stream",
     "text": [
      "450 km circ.\n",
      "----------------\n",
      "-14.135052020479634 1.0\n",
      "-11.36014926736243 1.0\n",
      "----------------\n",
      "1-sol.\n",
      "----------------\n",
      "-14.135052020479634 1.0\n",
      "-10.893794343879563 1.0\n",
      "----------------\n"
     ]
    }
   ],
   "source": [
    "underShootLimit, exitflag_us =  vehicle1.findUnderShootLimitD(2400.0, 0.1, -30.0,-2.0, 1E-10, 450.0)\n",
    "overShootLimit , exitflag_os =  vehicle1.findOverShootLimitD(2400.0, 0.1, -30.0,-2.0, 1E-10,  450.0)\n",
    "\n",
    "print(\"450 km circ.\")\n",
    "print(\"----------------\")\n",
    "print(underShootLimit, exitflag_us)\n",
    "print(overShootLimit,  exitflag_os)\n",
    "print(\"----------------\")\n",
    "\n",
    "underShootLimit, exitflag_us =  vehicle2.findUnderShootLimitD(2400.0, 0.1, -30.0,-2.0, 1E-10, 33000.0)\n",
    "overShootLimit , exitflag_os =  vehicle2.findOverShootLimitD(2400.0, 0.1, -30.0,-2.0, 1E-10,  33000.0)\n",
    "print(\"1-sol.\")\n",
    "print(\"----------------\")\n",
    "print(underShootLimit, exitflag_us)\n",
    "print(overShootLimit,  exitflag_os)\n",
    "print(\"----------------\")"
   ]
  },
  {
   "cell_type": "code",
   "execution_count": 12,
   "metadata": {},
   "outputs": [],
   "source": [
    "ATM_height, ATM_density_low, ATM_density_avg, ATM_density_high, ATM_density_pert = planet.loadMonteCarloDensityFile2('../atmdata/Mars/LAT40N.txt', 0, 1, 2, 3, 4, heightInKmFlag=True)\n",
    "density_int_low = planet.loadAtmosphereModel6(ATM_height, ATM_density_low, ATM_density_avg, ATM_density_high, -3.0, 41, 200)\n",
    "density_int_avg = planet.loadAtmosphereModel6(ATM_height, ATM_density_low, ATM_density_avg, ATM_density_high,  0.0, 41, 200)\n",
    "density_int_hig = planet.loadAtmosphereModel6(ATM_height, ATM_density_low, ATM_density_avg, ATM_density_high, +3.0, 41, 200)"
   ]
  },
  {
   "cell_type": "code",
   "execution_count": 13,
   "metadata": {},
   "outputs": [],
   "source": [
    "planet.density_int = density_int_low"
   ]
  },
  {
   "cell_type": "code",
   "execution_count": 14,
   "metadata": {},
   "outputs": [
    {
     "name": "stdout",
     "output_type": "stream",
     "text": [
      "450 km circ.\n",
      "----------------\n",
      "-14.178431694577739 1.0\n",
      "-14.047776200211956 1.0\n",
      "----------------\n",
      "1-sol.\n",
      "----------------\n",
      "-14.178431694577739 1.0\n",
      "-11.513649040192831 1.0\n",
      "----------------\n"
     ]
    }
   ],
   "source": [
    "underShootLimit, exitflag_us =  vehicle1.findUnderShootLimitD(2400.0, 0.1, -30.0,-2.0, 1E-10, 450.0)\n",
    "overShootLimit , exitflag_os =  vehicle1.findOverShootLimitD(2400.0, 0.1, -30.0,-2.0, 1E-10,  450.0)\n",
    "\n",
    "print(\"450 km circ.\")\n",
    "print(\"----------------\")\n",
    "print(underShootLimit, exitflag_us)\n",
    "print(overShootLimit,  exitflag_os)\n",
    "print(\"----------------\")\n",
    "\n",
    "underShootLimit, exitflag_us =  vehicle2.findUnderShootLimitD(2400.0, 0.1, -30.0,-2.0, 1E-10, 33000.0)\n",
    "overShootLimit , exitflag_os =  vehicle2.findOverShootLimitD(2400.0, 0.1, -30.0,-2.0, 1E-10,  33000.0)\n",
    "print(\"1-sol.\")\n",
    "print(\"----------------\")\n",
    "print(underShootLimit, exitflag_us)\n",
    "print(overShootLimit,  exitflag_os)\n",
    "print(\"----------------\")"
   ]
  },
  {
   "cell_type": "code",
   "execution_count": null,
   "metadata": {},
   "outputs": [],
   "source": []
  }
 ],
 "metadata": {
  "kernelspec": {
   "display_name": "Python 3",
   "language": "python",
   "name": "python3"
  },
  "language_info": {
   "codemirror_mode": {
    "name": "ipython",
    "version": 3
   },
   "file_extension": ".py",
   "mimetype": "text/x-python",
   "name": "python",
   "nbconvert_exporter": "python",
   "pygments_lexer": "ipython3",
   "version": "3.7.3"
  }
 },
 "nbformat": 4,
 "nbformat_minor": 2
}
