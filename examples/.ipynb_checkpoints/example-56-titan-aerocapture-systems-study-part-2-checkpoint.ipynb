{
 "cells": [
  {
   "cell_type": "markdown",
   "metadata": {},
   "source": [
    "# Example - 56 - Titan Aerocapture Systems Study - Part 2"
   ]
  },
  {
   "cell_type": "code",
   "execution_count": 1,
   "metadata": {},
   "outputs": [],
   "source": [
    "from AMAT.planet import Planet\n",
    "from AMAT.vehicle import Vehicle"
   ]
  },
  {
   "cell_type": "code",
   "execution_count": 2,
   "metadata": {},
   "outputs": [],
   "source": [
    "import numpy as np\n",
    "from scipy import interpolate\n",
    "import pandas as pd\n",
    "\n",
    "import matplotlib.pyplot as plt\n",
    "from matplotlib import rcParams"
   ]
  },
  {
   "cell_type": "code",
   "execution_count": 3,
   "metadata": {},
   "outputs": [],
   "source": [
    "planet = Planet('TITAN')\n",
    "planet.loadAtmosphereModel('../atmdata/Titan/titan-gram-avg.dat', 0 , 1 ,2, 3)\n",
    "planet.h_skip = 1000.0E3"
   ]
  },
  {
   "cell_type": "code",
   "execution_count": 4,
   "metadata": {},
   "outputs": [],
   "source": [
    "vehicle=Vehicle('TitanAC', 818.0, 90.0, 0.25, np.pi*0.25*3.75**2, 0.0, 0.91, planet)\n",
    "vehicle.setInitialState(1000.0,0.0,0.0,6.5,0.0,-36.00,0.0,0.0)\n",
    "vehicle.setSolverParams(1E-6)"
   ]
  },
  {
   "cell_type": "code",
   "execution_count": 5,
   "metadata": {},
   "outputs": [],
   "source": [
    "vehicle.propogateEntry (4.5*60.0,1.0,0.0)"
   ]
  },
  {
   "cell_type": "code",
   "execution_count": 6,
   "metadata": {},
   "outputs": [
    {
     "data": {
      "image/png": "[encoded data removed]",
      "text/plain": [
       "<Figure size 468x468 with 1 Axes>"
      ]
     },
     "metadata": {
      "needs_background": "light"
     },
     "output_type": "display_data"
    }
   ],
   "source": [
    "fig = plt.figure()\n",
    "fig.set_size_inches([6.5,6.5])\n",
    "plt.rc('font',family='Times New Roman')\n",
    "params = {'mathtext.default': 'regular' }          \n",
    "plt.rcParams.update(params)\n",
    "plt.plot(vehicle.h_kmc*1E3 , vehicle.dyn_pres_atm*1.01325E5, linestyle='solid' , color='xkcd:red',linewidth=2.0)\n",
    "\n",
    "\n",
    "plt.xlabel(\"Altitude, m\",fontsize=14)\n",
    "plt.ylabel('Dynamic pressure, Pa',fontsize=14)\n",
    "\n",
    "ax = plt.gca()\n",
    "ax.tick_params(direction='in')\n",
    "ax.yaxis.set_ticks_position('both')\n",
    "ax.xaxis.set_ticks_position('both')\n",
    "plt.tick_params(direction='in')\n",
    "plt.tick_params(axis='x',labelsize=14)\n",
    "plt.tick_params(axis='y',labelsize=14)\n",
    "\n",
    "\n",
    "x_arr = np.linspace(320.0E3,410.0E3,101)\n",
    "a = -0.0159471\n",
    "b =  6817.29\n",
    "y_arr = a*x_arr + b\n",
    "\n",
    "plt.plot(x_arr,y_arr,'k-',linewidth=2.0,linestyle='dashed')\n",
    "\n",
    "plt.show()\n"
   ]
  },
  {
   "cell_type": "code",
   "execution_count": 22,
   "metadata": {},
   "outputs": [
    {
     "data": {
      "text/plain": [
       "array([323152.88452549,   1664.36366336])"
      ]
     },
     "execution_count": 22,
     "metadata": {},
     "output_type": "execute_result"
    }
   ],
   "source": [
    "np.array([vehicle.h_kmc[-1]*1E3  , vehicle.dyn_pres_atm[-1]*1.01325E5])"
   ]
  },
  {
   "cell_type": "code",
   "execution_count": 26,
   "metadata": {},
   "outputs": [
    {
     "data": {
      "text/plain": [
       "array([393570.59594583,    541.95830742])"
      ]
     },
     "execution_count": 26,
     "metadata": {},
     "output_type": "execute_result"
    }
   ],
   "source": [
    "np.array([vehicle.h_kmc[-60]*1E3  , vehicle.dyn_pres_atm[-60]*1.01325E5])"
   ]
  },
  {
   "cell_type": "code",
   "execution_count": 31,
   "metadata": {},
   "outputs": [
    {
     "data": {
      "text/plain": [
       "-0.015939247858256803"
      ]
     },
     "execution_count": 31,
     "metadata": {},
     "output_type": "execute_result"
    }
   ],
   "source": [
    "(541.95830742-1664.36366336)/(393570.59594583-323152.88452549)"
   ]
  },
  {
   "cell_type": "code",
   "execution_count": 37,
   "metadata": {},
   "outputs": [
    {
     "data": {
      "text/plain": [
       "56.46442364880635"
      ]
     },
     "execution_count": 37,
     "metadata": {},
     "output_type": "execute_result"
    }
   ],
   "source": [
    "0.05**2*(90/0.25)*(1/0.01593924)"
   ]
  },
  {
   "cell_type": "code",
   "execution_count": 38,
   "metadata": {},
   "outputs": [
    {
     "data": {
      "text/plain": [
       "54.00000000000001"
      ]
     },
     "execution_count": 38,
     "metadata": {},
     "output_type": "execute_result"
    }
   ],
   "source": [
    "2*1.5*0.05*(90/0.25)"
   ]
  },
  {
   "cell_type": "code",
   "execution_count": 45,
   "metadata": {},
   "outputs": [],
   "source": [
    "# Set the guidance parameters described in the paper.\n",
    "# See the function description for parameter details.\n",
    "\n",
    "# Set max roll rate constraint to 30 deg/s\n",
    "vehicle.setMaxRollRate(30.0)\n",
    "\n",
    "# Set Ghdot = 56\n",
    "# Set Gq = 54\n",
    "# Set v_switch_kms = 0.5 \n",
    "# Set low_Alt_km = 100\n",
    "# Set numPoints_lowAlt = 101\n",
    "# Set hdot_threshold = -300 m/s\n",
    "vehicle.setEquilibriumGlideParams(56.0, 54.0, 0.5, 100.0, 101, -1000.0)\n",
    "\n",
    "# Set target orbit parameters\n",
    "# periapsis = 1700.0 km\n",
    "# apoapsis = 1700 km\n",
    "# apoapsis tolerance = 50 km\n",
    "vehicle.setTargetOrbitParams(1700.0E3, 1700.0E3, 50.0E3)"
   ]
  },
  {
   "cell_type": "code",
   "execution_count": 29,
   "metadata": {},
   "outputs": [],
   "source": [
    "# Set path to atmfiles with randomly perturbed atmosphere files.\n",
    "\n",
    "atmfiles = ['../atmdata/Titan/FMINMAX-10.txt', \n",
    "            '../atmdata/Titan/FMINMAX-08.txt',\n",
    "            '../atmdata/Titan/FMINMAX-06.txt',  \n",
    "            '../atmdata/Titan/FMINMAX-04.txt',\n",
    "            '../atmdata/Titan/FMINMAX-02.txt',\n",
    "            '../atmdata/Titan/FMINMAX+00.txt',  \n",
    "            '../atmdata/Titan/FMINMAX+02.txt',\n",
    "            '../atmdata/Titan/FMINMAX+04.txt',\n",
    "            '../atmdata/Titan/FMINMAX+06.txt',\n",
    "            '../atmdata/Titan/FMINMAX+08.txt', \n",
    "            '../atmdata/Titan/FMINMAX+10.txt']"
   ]
  },
  {
   "cell_type": "code",
   "execution_count": 46,
   "metadata": {},
   "outputs": [],
   "source": [
    "# Set up Monte Carlo simulation parameters\n",
    "\n",
    "# See function description for details.\n",
    "\n",
    "# NPOS = 201\n",
    "# NMONTE = 200\n",
    "\n",
    "vehicle.setupMonteCarloSimulation(201, 200, atmfiles, 0, 1, 2, 3, 4, True, \\\n",
    "                                 -36.00, 0.33, 0.25, 0.01, 10.0, 1.0, 60.0*60.0) "
   ]
  },
  {
   "cell_type": "code",
   "execution_count": 47,
   "metadata": {},
   "outputs": [
    {
     "ename": "KeyboardInterrupt",
     "evalue": "",
     "output_type": "error",
     "traceback": [
      "\u001b[0;31m---------------------------------------------------------------------------\u001b[0m",
      "\u001b[0;31mKeyboardInterrupt\u001b[0m                         Traceback (most recent call last)",
      "\u001b[0;32m<ipython-input-47-9e099e672225>\u001b[0m in \u001b[0;36m<module>\u001b[0;34m\u001b[0m\n\u001b[0;32m----> 1\u001b[0;31m \u001b[0mvehicle\u001b[0m\u001b[0;34m.\u001b[0m\u001b[0mrunMonteCarlo\u001b[0m\u001b[0;34m(\u001b[0m\u001b[0;36m5\u001b[0m\u001b[0;34m,\u001b[0m \u001b[0;34m'../data/titan-systems/MCB17'\u001b[0m\u001b[0;34m)\u001b[0m\u001b[0;34m\u001b[0m\u001b[0;34m\u001b[0m\u001b[0m\n\u001b[0m",
      "\u001b[0;32m~/anaconda3/lib/python3.7/site-packages/AMAT-2.1.3-py3.7.egg/AMAT/vehicle.py\u001b[0m in \u001b[0;36mrunMonteCarlo\u001b[0;34m(self, N, mainFolder)\u001b[0m\n\u001b[1;32m   4752\u001b[0m \t\t\tself.setInitialState(h0_km,theta0_deg,phi0_deg,v0_kms,\\\n\u001b[1;32m   4753\u001b[0m \t\t\t\t\t\t         psi0_deg,selected_efpa,drange0_km,heatLoad0)\n\u001b[0;32m-> 4754\u001b[0;31m                         \u001b[0mself\u001b[0m\u001b[0;34m.\u001b[0m\u001b[0mpropogateGuidedEntry\u001b[0m\u001b[0;34m(\u001b[0m\u001b[0mself\u001b[0m\u001b[0;34m.\u001b[0m\u001b[0mtimeStep\u001b[0m\u001b[0;34m,\u001b[0m \u001b[0mself\u001b[0m\u001b[0;34m.\u001b[0m\u001b[0mdt\u001b[0m\u001b[0;34m,\u001b[0m \u001b[0mself\u001b[0m\u001b[0;34m.\u001b[0m\u001b[0mmaxTimeSecs\u001b[0m\u001b[0;34m)\u001b[0m\u001b[0;34m\u001b[0m\u001b[0;34m\u001b[0m\u001b[0m\n\u001b[0m\u001b[1;32m   4755\u001b[0m \u001b[0;34m\u001b[0m\u001b[0m\n\u001b[1;32m   4756\u001b[0m                         \u001b[0mterminal_apoapsis\u001b[0m \u001b[0;34m=\u001b[0m \u001b[0mself\u001b[0m\u001b[0;34m.\u001b[0m\u001b[0mterminal_apoapsis\u001b[0m\u001b[0;34m\u001b[0m\u001b[0;34m\u001b[0m\u001b[0m\n",
      "\u001b[0;32m~/anaconda3/lib/python3.7/site-packages/AMAT-2.1.3-py3.7.egg/AMAT/vehicle.py\u001b[0m in \u001b[0;36mpropogateGuidedEntry\u001b[0;34m(self, timeStep, dt, maxTimeSecs)\u001b[0m\n\u001b[1;32m   4622\u001b[0m \t\t\"\"\"\n\u001b[1;32m   4623\u001b[0m                 \u001b[0mself\u001b[0m\u001b[0;34m.\u001b[0m\u001b[0mpropogateEquilibriumGlide\u001b[0m\u001b[0;34m(\u001b[0m\u001b[0mtimeStep\u001b[0m\u001b[0;34m,\u001b[0m \u001b[0mdt\u001b[0m\u001b[0;34m,\u001b[0m \u001b[0mmaxTimeSecs\u001b[0m\u001b[0;34m)\u001b[0m\u001b[0;34m\u001b[0m\u001b[0;34m\u001b[0m\u001b[0m\n\u001b[0;32m-> 4624\u001b[0;31m                 \u001b[0mself\u001b[0m\u001b[0;34m.\u001b[0m\u001b[0mpropogateExitPhase\u001b[0m\u001b[0;34m(\u001b[0m\u001b[0mtimeStep\u001b[0m\u001b[0;34m,\u001b[0m \u001b[0mdt\u001b[0m\u001b[0;34m,\u001b[0m \u001b[0mmaxTimeSecs\u001b[0m\u001b[0;34m)\u001b[0m\u001b[0;34m\u001b[0m\u001b[0;34m\u001b[0m\u001b[0m\n\u001b[0m\u001b[1;32m   4625\u001b[0m \u001b[0;34m\u001b[0m\u001b[0m\n\u001b[1;32m   4626\u001b[0m \tdef setupMonteCarloSimulation(self, NPOS, NMONTE, atmfiles,\n",
      "\u001b[0;32m~/anaconda3/lib/python3.7/site-packages/AMAT-2.1.3-py3.7.egg/AMAT/vehicle.py\u001b[0m in \u001b[0;36mpropogateExitPhase\u001b[0;34m(self, timeStep, dt, maxTimeSecs)\u001b[0m\n\u001b[1;32m   4507\u001b[0m \t\t\tself.setInitialState(h0_km,theta0_deg,phi0_deg,v0_kms,psi0_deg,gamma0_deg,\\\n\u001b[1;32m   4508\u001b[0m \t\t\t\t\t\t\t\t drange0_km,Ji)\n\u001b[0;32m-> 4509\u001b[0;31m                         \u001b[0mself\u001b[0m\u001b[0;34m.\u001b[0m\u001b[0mpropogateEntry\u001b[0m\u001b[0;34m(\u001b[0m\u001b[0mtimeStep\u001b[0m\u001b[0;34m,\u001b[0m \u001b[0mdt\u001b[0m\u001b[0;34m,\u001b[0m \u001b[0mDeltaCMD_deg\u001b[0m\u001b[0;34m)\u001b[0m\u001b[0;34m\u001b[0m\u001b[0;34m\u001b[0m\u001b[0m\n\u001b[0m\u001b[1;32m   4510\u001b[0m \u001b[0;34m\u001b[0m\u001b[0m\n\u001b[1;32m   4511\u001b[0m                         \u001b[0mt_min_c\u001b[0m     \u001b[0;34m=\u001b[0m \u001b[0mself\u001b[0m\u001b[0;34m.\u001b[0m\u001b[0mt_minc\u001b[0m\u001b[0;34m\u001b[0m\u001b[0;34m\u001b[0m\u001b[0m\n",
      "\u001b[0;32m~/anaconda3/lib/python3.7/site-packages/AMAT-2.1.3-py3.7.egg/AMAT/vehicle.py\u001b[0m in \u001b[0;36mpropogateEntry\u001b[0;34m(self, t_sec, dt, delta_deg)\u001b[0m\n\u001b[1;32m   2257\u001b[0m                 \u001b[0mtbar\u001b[0m\u001b[0;34m,\u001b[0m\u001b[0mrbar\u001b[0m\u001b[0;34m,\u001b[0m\u001b[0mtheta\u001b[0m\u001b[0;34m,\u001b[0m\u001b[0mphi\u001b[0m\u001b[0;34m,\u001b[0m\u001b[0mvbar\u001b[0m\u001b[0;34m,\u001b[0m\u001b[0mpsi\u001b[0m\u001b[0;34m,\u001b[0m\u001b[0mgamma\u001b[0m\u001b[0;34m,\u001b[0m\u001b[0mdrangebar\u001b[0m   \u001b[0;34m=\u001b[0m\u001b[0;31m \u001b[0m\u001b[0;31m\\\u001b[0m\u001b[0;34m\u001b[0m\u001b[0;34m\u001b[0m\u001b[0m\n\u001b[1;32m   2258\u001b[0m \t\tself.solveTrajectory(rbar0, theta0, phi0, vbar0, psi0, gamma0, \\\n\u001b[0;32m-> 2259\u001b[0;31m \t\t\tdrangebar0, t_sec, dt, delta)\t\n\u001b[0m\u001b[1;32m   2260\u001b[0m                 \u001b[0;31m# Note : solver returns non-dimensional variables\u001b[0m\u001b[0;34m\u001b[0m\u001b[0;34m\u001b[0m\u001b[0;34m\u001b[0m\u001b[0m\n\u001b[1;32m   2261\u001b[0m                 \u001b[0;31m# Convert to dimensional variables for plotting\u001b[0m\u001b[0;34m\u001b[0m\u001b[0;34m\u001b[0m\u001b[0;34m\u001b[0m\u001b[0m\n",
      "\u001b[0;32m~/anaconda3/lib/python3.7/site-packages/AMAT-2.1.3-py3.7.egg/AMAT/vehicle.py\u001b[0m in \u001b[0;36msolveTrajectory\u001b[0;34m(self, rbar0, theta0, phi0, vbar0, psi0, gamma0, drangebar0, t_sec, dt, delta)\u001b[0m\n\u001b[1;32m   1606\u001b[0m                 \u001b[0;31m# conditions xbar_0 and vehicle parameters in args\u001b[0m\u001b[0;34m\u001b[0m\u001b[0;34m\u001b[0m\u001b[0;34m\u001b[0m\u001b[0m\n\u001b[1;32m   1607\u001b[0m \t\txbar          = odeint(self.EOM, xbar_0, tbar, \\\n\u001b[0;32m-> 1608\u001b[0;31m \t\t\t\t\t\trtol=self.tol, atol=self.tol, args=(delta,))\n\u001b[0m\u001b[1;32m   1609\u001b[0m \u001b[0;34m\u001b[0m\u001b[0m\n\u001b[1;32m   1610\u001b[0m                 \u001b[0;31m# extract solution from odeint into solution variable vectors\u001b[0m\u001b[0;34m\u001b[0m\u001b[0;34m\u001b[0m\u001b[0;34m\u001b[0m\u001b[0m\n",
      "\u001b[0;32m~/anaconda3/lib/python3.7/site-packages/scipy/integrate/odepack.py\u001b[0m in \u001b[0;36modeint\u001b[0;34m(func, y0, t, args, Dfun, col_deriv, full_output, ml, mu, rtol, atol, tcrit, h0, hmax, hmin, ixpr, mxstep, mxhnil, mxordn, mxords, printmessg, tfirst)\u001b[0m\n\u001b[1;32m    243\u001b[0m                              \u001b[0mfull_output\u001b[0m\u001b[0;34m,\u001b[0m \u001b[0mrtol\u001b[0m\u001b[0;34m,\u001b[0m \u001b[0matol\u001b[0m\u001b[0;34m,\u001b[0m \u001b[0mtcrit\u001b[0m\u001b[0;34m,\u001b[0m \u001b[0mh0\u001b[0m\u001b[0;34m,\u001b[0m \u001b[0mhmax\u001b[0m\u001b[0;34m,\u001b[0m \u001b[0mhmin\u001b[0m\u001b[0;34m,\u001b[0m\u001b[0;34m\u001b[0m\u001b[0;34m\u001b[0m\u001b[0m\n\u001b[1;32m    244\u001b[0m                              \u001b[0mixpr\u001b[0m\u001b[0;34m,\u001b[0m \u001b[0mmxstep\u001b[0m\u001b[0;34m,\u001b[0m \u001b[0mmxhnil\u001b[0m\u001b[0;34m,\u001b[0m \u001b[0mmxordn\u001b[0m\u001b[0;34m,\u001b[0m \u001b[0mmxords\u001b[0m\u001b[0;34m,\u001b[0m\u001b[0;34m\u001b[0m\u001b[0;34m\u001b[0m\u001b[0m\n\u001b[0;32m--> 245\u001b[0;31m                              int(bool(tfirst)))\n\u001b[0m\u001b[1;32m    246\u001b[0m     \u001b[0;32mif\u001b[0m \u001b[0moutput\u001b[0m\u001b[0;34m[\u001b[0m\u001b[0;34m-\u001b[0m\u001b[0;36m1\u001b[0m\u001b[0;34m]\u001b[0m \u001b[0;34m<\u001b[0m \u001b[0;36m0\u001b[0m\u001b[0;34m:\u001b[0m\u001b[0;34m\u001b[0m\u001b[0;34m\u001b[0m\u001b[0m\n\u001b[1;32m    247\u001b[0m         \u001b[0mwarning_msg\u001b[0m \u001b[0;34m=\u001b[0m \u001b[0m_msgs\u001b[0m\u001b[0;34m[\u001b[0m\u001b[0moutput\u001b[0m\u001b[0;34m[\u001b[0m\u001b[0;34m-\u001b[0m\u001b[0;36m1\u001b[0m\u001b[0;34m]\u001b[0m\u001b[0;34m]\u001b[0m \u001b[0;34m+\u001b[0m \u001b[0;34m\" Run with full_output = 1 to get quantitative information.\"\u001b[0m\u001b[0;34m\u001b[0m\u001b[0;34m\u001b[0m\u001b[0m\n",
      "\u001b[0;32m~/anaconda3/lib/python3.7/site-packages/AMAT-2.1.3-py3.7.egg/AMAT/vehicle.py\u001b[0m in \u001b[0;36mEOM\u001b[0;34m(self, y, t, delta)\u001b[0m\n\u001b[1;32m   1527\u001b[0m                                 \u001b[0;34m(\u001b[0m\u001b[0mself\u001b[0m\u001b[0;34m.\u001b[0m\u001b[0ma_sbar\u001b[0m\u001b[0;34m(\u001b[0m\u001b[0mrbar\u001b[0m\u001b[0;34m,\u001b[0m\u001b[0mtheta\u001b[0m\u001b[0;34m,\u001b[0m\u001b[0mphi\u001b[0m\u001b[0;34m,\u001b[0m\u001b[0mvbar\u001b[0m\u001b[0;34m,\u001b[0m\u001b[0mdelta\u001b[0m\u001b[0;34m)\u001b[0m\u001b[0;34m)\u001b[0m\u001b[0;31m \u001b[0m\u001b[0;31m\\\u001b[0m\u001b[0;34m\u001b[0m\u001b[0;34m\u001b[0m\u001b[0m\n\u001b[1;32m   1528\u001b[0m                                  \u001b[0;34m+\u001b[0m \u001b[0mself\u001b[0m\u001b[0;34m.\u001b[0m\u001b[0mgsbar\u001b[0m\u001b[0;34m(\u001b[0m\u001b[0mrbar\u001b[0m\u001b[0;34m,\u001b[0m\u001b[0mphi\u001b[0m\u001b[0;34m,\u001b[0m\u001b[0mgamma\u001b[0m\u001b[0;34m,\u001b[0m\u001b[0mpsi\u001b[0m\u001b[0;34m)\u001b[0m\u001b[0;31m \u001b[0m\u001b[0;31m\\\u001b[0m\u001b[0;34m\u001b[0m\u001b[0;34m\u001b[0m\u001b[0m\n\u001b[0;32m-> 1529\u001b[0;31m                                  \u001b[0;34m+\u001b[0m \u001b[0mself\u001b[0m\u001b[0;34m.\u001b[0m\u001b[0mcfvbar\u001b[0m\u001b[0;34m(\u001b[0m\u001b[0mrbar\u001b[0m\u001b[0;34m,\u001b[0m\u001b[0mphi\u001b[0m\u001b[0;34m,\u001b[0m\u001b[0mvbar\u001b[0m\u001b[0;34m,\u001b[0m\u001b[0mpsi\u001b[0m\u001b[0;34m,\u001b[0m\u001b[0mgamma\u001b[0m\u001b[0;34m)\u001b[0m\u001b[0;34m,\u001b[0m\u001b[0;34m\u001b[0m\u001b[0;34m\u001b[0m\u001b[0m\n\u001b[0m\u001b[1;32m   1530\u001b[0m \t\t\t\t(self.a_wbar(rbar,theta,phi,vbar,delta) \\\n\u001b[1;32m   1531\u001b[0m \t\t\t\t + self.gwbar(rbar,phi,gamma,psi))/(vbar*np.cos(gamma)) \\\n",
      "\u001b[0;32m~/anaconda3/lib/python3.7/site-packages/AMAT-2.1.3-py3.7.egg/AMAT/vehicle.py\u001b[0m in \u001b[0;36mcfvbar\u001b[0;34m(self, rbar, phi, vbar, psi, gamma)\u001b[0m\n\u001b[1;32m   1214\u001b[0m                 \u001b[0mans\u001b[0m \u001b[0;34m=\u001b[0m \u001b[0mself\u001b[0m\u001b[0;34m.\u001b[0m\u001b[0mplanetObj\u001b[0m\u001b[0;34m.\u001b[0m\u001b[0mOMEGAbar\u001b[0m\u001b[0;34m**\u001b[0m\u001b[0;36m2.0\u001b[0m\u001b[0;34m*\u001b[0m\u001b[0mrbar\u001b[0m\u001b[0;34m*\u001b[0m\u001b[0mnp\u001b[0m\u001b[0;34m.\u001b[0m\u001b[0mcos\u001b[0m\u001b[0;34m(\u001b[0m\u001b[0mphi\u001b[0m\u001b[0;34m)\u001b[0m\u001b[0;34m*\u001b[0m\u001b[0;31m \u001b[0m\u001b[0;31m\\\u001b[0m\u001b[0;34m\u001b[0m\u001b[0;34m\u001b[0m\u001b[0m\n\u001b[1;32m   1215\u001b[0m \t\t\t\t(np.sin(gamma)*np.cos(phi) - \\\n\u001b[0;32m-> 1216\u001b[0;31m \t\t\t\tnp.cos(gamma)*np.sin(phi)*np.sin(psi))\n\u001b[0m\u001b[1;32m   1217\u001b[0m                 \u001b[0;32mreturn\u001b[0m \u001b[0mans\u001b[0m\u001b[0;34m\u001b[0m\u001b[0;34m\u001b[0m\u001b[0m\n\u001b[1;32m   1218\u001b[0m \u001b[0;34m\u001b[0m\u001b[0m\n",
      "\u001b[0;31mKeyboardInterrupt\u001b[0m: "
     ]
    }
   ],
   "source": [
    "vehicle.runMonteCarlo(5, '../data/titan-systems/MCB17') "
   ]
  },
  {
   "cell_type": "code",
   "execution_count": null,
   "metadata": {},
   "outputs": [],
   "source": []
  }
 ],
 "metadata": {
  "kernelspec": {
   "display_name": "Python 3",
   "language": "python",
   "name": "python3"
  },
  "language_info": {
   "codemirror_mode": {
    "name": "ipython",
    "version": 3
   },
   "file_extension": ".py",
   "mimetype": "text/x-python",
   "name": "python",
   "nbconvert_exporter": "python",
   "pygments_lexer": "ipython3",
   "version": "3.7.3"
  }
 },
 "nbformat": 4,
 "nbformat_minor": 2
}
