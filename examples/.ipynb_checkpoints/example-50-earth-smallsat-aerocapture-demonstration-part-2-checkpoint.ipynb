{
 "cells": [
  {
   "cell_type": "markdown",
   "metadata": {},
   "source": [
    "# Example - 50 - Earth SmallSat Aerocapture Demonstration - Part 2"
   ]
  },
  {
   "cell_type": "markdown",
   "metadata": {},
   "source": [
    "In this example, we will use Monte Carlo simulations to assess flight performance. Reference: M.S.Werner and R.D.Braun, Mission Design and Performance Analysis of a Smallsat Aerocapture Flight Test, Journal of Spacecraft and Rockets, DOI: 10.2514/1.A33997"
   ]
  },
  {
   "cell_type": "code",
   "execution_count": 1,
   "metadata": {},
   "outputs": [],
   "source": [
    "from AMAT.planet import Planet\n",
    "from AMAT.vehicle import Vehicle"
   ]
  },
  {
   "cell_type": "code",
   "execution_count": 2,
   "metadata": {},
   "outputs": [],
   "source": [
    "import numpy as np\n",
    "from scipy import interpolate\n",
    "import pandas as pd\n",
    "\n",
    "import matplotlib.pyplot as plt\n",
    "from matplotlib import rcParams\n",
    "from matplotlib.patches import Polygon"
   ]
  },
  {
   "cell_type": "code",
   "execution_count": 3,
   "metadata": {},
   "outputs": [
    {
     "name": "stdout",
     "output_type": "stream",
     "text": [
      "BATCH :../data/werner2019/MCB1, RUN #: 1, PROF: ../atmdata/Earth/LAT40S.txt, SAMPLE #: 107, EFPA: -4.83, SIGMA: 0.22, APO : 1915.51\n",
      "BATCH :../data/werner2019/MCB1, RUN #: 2, PROF: ../atmdata/Earth/LAT80S.txt, SAMPLE #: 14, EFPA: -4.79, SIGMA: -1.00, APO : 2874.42\n",
      "BATCH :../data/werner2019/MCB1, RUN #: 3, PROF: ../atmdata/Earth/LAT20S.txt, SAMPLE #: 138, EFPA: -4.84, SIGMA: 0.54, APO : 1901.08\n",
      "BATCH :../data/werner2019/MCB1, RUN #: 4, PROF: ../atmdata/Earth/LAT40S.txt, SAMPLE #: 126, EFPA: -4.83, SIGMA: 0.10, APO : 1877.14\n",
      "BATCH :../data/werner2019/MCB1, RUN #: 5, PROF: ../atmdata/Earth/LAT80S.txt, SAMPLE #: 138, EFPA: -4.85, SIGMA: 0.23, APO : 1676.20\n",
      "BATCH :../data/werner2019/MCB1, RUN #: 6, PROF: ../atmdata/Earth/LAT20S.txt, SAMPLE #: 18, EFPA: -4.99, SIGMA: -1.71, APO : 1533.84\n",
      "BATCH :../data/werner2019/MCB1, RUN #: 7, PROF: ../atmdata/Earth/LAT60N.txt, SAMPLE #: 22, EFPA: -4.93, SIGMA: 0.05, APO : 1855.16\n",
      "BATCH :../data/werner2019/MCB1, RUN #: 8, PROF: ../atmdata/Earth/LAT00N.txt, SAMPLE #: 38, EFPA: -4.89, SIGMA: -0.84, APO : 2005.10\n",
      "BATCH :../data/werner2019/MCB1, RUN #: 9, PROF: ../atmdata/Earth/LAT80S.txt, SAMPLE #: 187, EFPA: -4.79, SIGMA: -0.30, APO : 2394.91\n",
      "BATCH :../data/werner2019/MCB1, RUN #: 10, PROF: ../atmdata/Earth/LAT80S.txt, SAMPLE #: 123, EFPA: -4.77, SIGMA: 0.85, APO : 2404.43\n",
      "BATCH :../data/werner2019/MCB1, RUN #: 11, PROF: ../atmdata/Earth/LAT80S.txt, SAMPLE #: 143, EFPA: -4.84, SIGMA: -0.55, APO : 2553.98\n",
      "BATCH :../data/werner2019/MCB1, RUN #: 12, PROF: ../atmdata/Earth/LAT00N.txt, SAMPLE #: 82, EFPA: -4.82, SIGMA: -1.59, APO : 1813.22\n",
      "BATCH :../data/werner2019/MCB1, RUN #: 13, PROF: ../atmdata/Earth/LAT20N.txt, SAMPLE #: 82, EFPA: -4.87, SIGMA: 0.05, APO : 1944.94\n",
      "BATCH :../data/werner2019/MCB1, RUN #: 14, PROF: ../atmdata/Earth/LAT20S.txt, SAMPLE #: 77, EFPA: -4.82, SIGMA: 1.32, APO : 1789.71\n",
      "BATCH :../data/werner2019/MCB1, RUN #: 15, PROF: ../atmdata/Earth/LAT60N.txt, SAMPLE #: 32, EFPA: -4.88, SIGMA: 1.99, APO : 1788.18\n",
      "BATCH :../data/werner2019/MCB1, RUN #: 16, PROF: ../atmdata/Earth/LAT40S.txt, SAMPLE #: 186, EFPA: -4.89, SIGMA: 0.75, APO : 2094.33\n",
      "BATCH :../data/werner2019/MCB1, RUN #: 17, PROF: ../atmdata/Earth/LAT60N.txt, SAMPLE #: 160, EFPA: -4.80, SIGMA: 0.80, APO : 2229.93\n",
      "BATCH :../data/werner2019/MCB1, RUN #: 18, PROF: ../atmdata/Earth/LAT00N.txt, SAMPLE #: 196, EFPA: -4.91, SIGMA: -0.04, APO : 1757.71\n",
      "BATCH :../data/werner2019/MCB1, RUN #: 19, PROF: ../atmdata/Earth/LAT40S.txt, SAMPLE #: 134, EFPA: -4.87, SIGMA: -1.32, APO : 2048.48\n",
      "BATCH :../data/werner2019/MCB1, RUN #: 20, PROF: ../atmdata/Earth/LAT80S.txt, SAMPLE #: 75, EFPA: -4.83, SIGMA: 0.33, APO : 2973.29\n",
      "BATCH :../data/werner2019/MCB1, RUN #: 21, PROF: ../atmdata/Earth/LAT60S.txt, SAMPLE #: 132, EFPA: -4.88, SIGMA: -0.51, APO : 2467.30\n",
      "BATCH :../data/werner2019/MCB1, RUN #: 22, PROF: ../atmdata/Earth/LAT20N.txt, SAMPLE #: 177, EFPA: -4.75, SIGMA: -0.25, APO : 1815.59\n",
      "BATCH :../data/werner2019/MCB1, RUN #: 23, PROF: ../atmdata/Earth/LAT60N.txt, SAMPLE #: 107, EFPA: -4.90, SIGMA: 2.15, APO : 1641.88\n",
      "BATCH :../data/werner2019/MCB1, RUN #: 24, PROF: ../atmdata/Earth/LAT60S.txt, SAMPLE #: 77, EFPA: -4.87, SIGMA: 0.79, APO : 2346.24\n",
      "BATCH :../data/werner2019/MCB1, RUN #: 25, PROF: ../atmdata/Earth/LAT80S.txt, SAMPLE #: 56, EFPA: -4.79, SIGMA: 0.52, APO : 2748.76\n",
      "BATCH :../data/werner2019/MCB1, RUN #: 26, PROF: ../atmdata/Earth/LAT20N.txt, SAMPLE #: 163, EFPA: -4.81, SIGMA: 0.91, APO : 1921.23\n",
      "BATCH :../data/werner2019/MCB1, RUN #: 27, PROF: ../atmdata/Earth/LAT00N.txt, SAMPLE #: 198, EFPA: -4.85, SIGMA: -1.79, APO : 1978.05\n",
      "BATCH :../data/werner2019/MCB1, RUN #: 28, PROF: ../atmdata/Earth/LAT40N.txt, SAMPLE #: 180, EFPA: -4.89, SIGMA: -0.43, APO : 1856.87\n",
      "BATCH :../data/werner2019/MCB1, RUN #: 29, PROF: ../atmdata/Earth/LAT80S.txt, SAMPLE #: 171, EFPA: -4.83, SIGMA: 0.45, APO : 1940.96\n",
      "BATCH :../data/werner2019/MCB1, RUN #: 30, PROF: ../atmdata/Earth/LAT60N.txt, SAMPLE #: 38, EFPA: -4.80, SIGMA: 0.23, APO : 1808.58\n",
      "BATCH :../data/werner2019/MCB1, RUN #: 31, PROF: ../atmdata/Earth/LAT40S.txt, SAMPLE #: 1, EFPA: -4.85, SIGMA: -1.00, APO : 2002.24\n",
      "BATCH :../data/werner2019/MCB1, RUN #: 32, PROF: ../atmdata/Earth/LAT00N.txt, SAMPLE #: 49, EFPA: -4.84, SIGMA: 0.04, APO : 2074.28\n",
      "BATCH :../data/werner2019/MCB1, RUN #: 33, PROF: ../atmdata/Earth/LAT40S.txt, SAMPLE #: 105, EFPA: -4.85, SIGMA: -0.88, APO : 2267.95\n",
      "BATCH :../data/werner2019/MCB1, RUN #: 34, PROF: ../atmdata/Earth/LAT60N.txt, SAMPLE #: 54, EFPA: -4.79, SIGMA: 3.02, APO : 1817.77\n",
      "BATCH :../data/werner2019/MCB1, RUN #: 35, PROF: ../atmdata/Earth/LAT80S.txt, SAMPLE #: 142, EFPA: -4.89, SIGMA: -1.61, APO : 959.84\n",
      "BATCH :../data/werner2019/MCB1, RUN #: 36, PROF: ../atmdata/Earth/LAT40N.txt, SAMPLE #: 43, EFPA: -4.84, SIGMA: -1.32, APO : 1808.74\n",
      "BATCH :../data/werner2019/MCB1, RUN #: 37, PROF: ../atmdata/Earth/LAT60N.txt, SAMPLE #: 117, EFPA: -4.83, SIGMA: 0.46, APO : 1806.22\n",
      "BATCH :../data/werner2019/MCB1, RUN #: 38, PROF: ../atmdata/Earth/LAT80N.txt, SAMPLE #: 126, EFPA: -4.97, SIGMA: -0.78, APO : 1885.88\n",
      "BATCH :../data/werner2019/MCB1, RUN #: 39, PROF: ../atmdata/Earth/LAT20N.txt, SAMPLE #: 73, EFPA: -4.92, SIGMA: 1.39, APO : 2295.27\n",
      "BATCH :../data/werner2019/MCB1, RUN #: 40, PROF: ../atmdata/Earth/LAT40S.txt, SAMPLE #: 41, EFPA: -4.79, SIGMA: -0.06, APO : 1910.13\n",
      "BATCH :../data/werner2019/MCB1, RUN #: 41, PROF: ../atmdata/Earth/LAT00N.txt, SAMPLE #: 29, EFPA: -4.84, SIGMA: 0.12, APO : 1860.60\n",
      "BATCH :../data/werner2019/MCB1, RUN #: 42, PROF: ../atmdata/Earth/LAT40N.txt, SAMPLE #: 58, EFPA: -4.81, SIGMA: 0.82, APO : 1810.06\n",
      "BATCH :../data/werner2019/MCB1, RUN #: 43, PROF: ../atmdata/Earth/LAT80N.txt, SAMPLE #: 88, EFPA: -4.86, SIGMA: -0.66, APO : 5832.76\n",
      "BATCH :../data/werner2019/MCB1, RUN #: 44, PROF: ../atmdata/Earth/LAT60N.txt, SAMPLE #: 164, EFPA: -4.82, SIGMA: 0.47, APO : 3232.68\n",
      "BATCH :../data/werner2019/MCB1, RUN #: 45, PROF: ../atmdata/Earth/LAT80S.txt, SAMPLE #: 93, EFPA: -4.84, SIGMA: 0.51, APO : 1893.28\n",
      "BATCH :../data/werner2019/MCB1, RUN #: 46, PROF: ../atmdata/Earth/LAT60S.txt, SAMPLE #: 141, EFPA: -4.87, SIGMA: -0.69, APO : 2347.15\n",
      "BATCH :../data/werner2019/MCB1, RUN #: 47, PROF: ../atmdata/Earth/LAT60S.txt, SAMPLE #: 115, EFPA: -4.82, SIGMA: -2.88, APO : 2131.86\n",
      "BATCH :../data/werner2019/MCB1, RUN #: 48, PROF: ../atmdata/Earth/LAT80S.txt, SAMPLE #: 96, EFPA: -4.84, SIGMA: 0.66, APO : 2325.42\n",
      "BATCH :../data/werner2019/MCB1, RUN #: 49, PROF: ../atmdata/Earth/LAT40S.txt, SAMPLE #: 183, EFPA: -4.83, SIGMA: -0.20, APO : 1924.36\n",
      "BATCH :../data/werner2019/MCB1, RUN #: 50, PROF: ../atmdata/Earth/LAT20N.txt, SAMPLE #: 14, EFPA: -4.80, SIGMA: 0.36, APO : 1848.65\n",
      "BATCH :../data/werner2019/MCB1, RUN #: 51, PROF: ../atmdata/Earth/LAT80S.txt, SAMPLE #: 148, EFPA: -4.78, SIGMA: 0.50, APO : 2519.58\n",
      "BATCH :../data/werner2019/MCB1, RUN #: 52, PROF: ../atmdata/Earth/LAT40N.txt, SAMPLE #: 4, EFPA: -4.86, SIGMA: 0.24, APO : 1934.50\n",
      "BATCH :../data/werner2019/MCB1, RUN #: 53, PROF: ../atmdata/Earth/LAT60S.txt, SAMPLE #: 44, EFPA: -4.89, SIGMA: -1.57, APO : 2895.36\n",
      "BATCH :../data/werner2019/MCB1, RUN #: 54, PROF: ../atmdata/Earth/LAT60N.txt, SAMPLE #: 196, EFPA: -4.88, SIGMA: 0.86, APO : 1813.61\n",
      "BATCH :../data/werner2019/MCB1, RUN #: 55, PROF: ../atmdata/Earth/LAT60N.txt, SAMPLE #: 93, EFPA: -4.87, SIGMA: 0.60, APO : 1830.42\n",
      "BATCH :../data/werner2019/MCB1, RUN #: 56, PROF: ../atmdata/Earth/LAT00N.txt, SAMPLE #: 73, EFPA: -4.92, SIGMA: -0.96, APO : 1713.14\n",
      "BATCH :../data/werner2019/MCB1, RUN #: 57, PROF: ../atmdata/Earth/LAT40N.txt, SAMPLE #: 175, EFPA: -4.81, SIGMA: 0.65, APO : 1807.05\n",
      "BATCH :../data/werner2019/MCB1, RUN #: 58, PROF: ../atmdata/Earth/LAT20N.txt, SAMPLE #: 77, EFPA: -4.82, SIGMA: 0.28, APO : 1840.52\n",
      "BATCH :../data/werner2019/MCB1, RUN #: 59, PROF: ../atmdata/Earth/LAT20S.txt, SAMPLE #: 110, EFPA: -4.82, SIGMA: 0.26, APO : 1889.03\n",
      "BATCH :../data/werner2019/MCB1, RUN #: 60, PROF: ../atmdata/Earth/LAT80S.txt, SAMPLE #: 174, EFPA: -4.79, SIGMA: -0.74, APO : 2839.38\n",
      "BATCH :../data/werner2019/MCB1, RUN #: 61, PROF: ../atmdata/Earth/LAT60N.txt, SAMPLE #: 151, EFPA: -4.92, SIGMA: -1.81, APO : 1810.20\n",
      "BATCH :../data/werner2019/MCB1, RUN #: 62, PROF: ../atmdata/Earth/LAT80N.txt, SAMPLE #: 93, EFPA: -4.82, SIGMA: 1.75, APO : 1809.73\n"
     ]
    },
    {
     "name": "stdout",
     "output_type": "stream",
     "text": [
      "BATCH :../data/werner2019/MCB1, RUN #: 63, PROF: ../atmdata/Earth/LAT20S.txt, SAMPLE #: 52, EFPA: -4.87, SIGMA: 0.78, APO : 1810.62\n",
      "BATCH :../data/werner2019/MCB1, RUN #: 64, PROF: ../atmdata/Earth/LAT00N.txt, SAMPLE #: 67, EFPA: -4.86, SIGMA: -0.45, APO : 1700.97\n",
      "BATCH :../data/werner2019/MCB1, RUN #: 65, PROF: ../atmdata/Earth/LAT80S.txt, SAMPLE #: 12, EFPA: -4.82, SIGMA: 0.32, APO : 2646.75\n",
      "BATCH :../data/werner2019/MCB1, RUN #: 66, PROF: ../atmdata/Earth/LAT80S.txt, SAMPLE #: 183, EFPA: -4.90, SIGMA: -0.44, APO : 333.28\n",
      "BATCH :../data/werner2019/MCB1, RUN #: 67, PROF: ../atmdata/Earth/LAT00N.txt, SAMPLE #: 59, EFPA: -4.90, SIGMA: -0.17, APO : 1692.33\n",
      "BATCH :../data/werner2019/MCB1, RUN #: 68, PROF: ../atmdata/Earth/LAT20N.txt, SAMPLE #: 18, EFPA: -4.84, SIGMA: 0.51, APO : 1928.06\n",
      "BATCH :../data/werner2019/MCB1, RUN #: 69, PROF: ../atmdata/Earth/LAT20N.txt, SAMPLE #: 25, EFPA: -4.85, SIGMA: 0.94, APO : 1940.93\n",
      "BATCH :../data/werner2019/MCB1, RUN #: 70, PROF: ../atmdata/Earth/LAT60N.txt, SAMPLE #: 151, EFPA: -4.88, SIGMA: 1.75, APO : 1873.31\n",
      "BATCH :../data/werner2019/MCB1, RUN #: 71, PROF: ../atmdata/Earth/LAT80S.txt, SAMPLE #: 130, EFPA: -4.84, SIGMA: -0.57, APO : 2509.63\n",
      "BATCH :../data/werner2019/MCB1, RUN #: 72, PROF: ../atmdata/Earth/LAT40N.txt, SAMPLE #: 33, EFPA: -4.90, SIGMA: 0.97, APO : 1824.60\n",
      "BATCH :../data/werner2019/MCB1, RUN #: 73, PROF: ../atmdata/Earth/LAT60S.txt, SAMPLE #: 154, EFPA: -4.88, SIGMA: 0.57, APO : 1485.52\n",
      "BATCH :../data/werner2019/MCB1, RUN #: 74, PROF: ../atmdata/Earth/LAT20S.txt, SAMPLE #: 21, EFPA: -4.82, SIGMA: -1.09, APO : 1833.94\n",
      "BATCH :../data/werner2019/MCB1, RUN #: 75, PROF: ../atmdata/Earth/LAT60S.txt, SAMPLE #: 27, EFPA: -4.85, SIGMA: -0.38, APO : 2849.74\n",
      "BATCH :../data/werner2019/MCB1, RUN #: 76, PROF: ../atmdata/Earth/LAT40S.txt, SAMPLE #: 11, EFPA: -4.90, SIGMA: 0.87, APO : 2129.86\n",
      "BATCH :../data/werner2019/MCB1, RUN #: 77, PROF: ../atmdata/Earth/LAT40N.txt, SAMPLE #: 149, EFPA: -4.87, SIGMA: 0.24, APO : 1729.69\n",
      "BATCH :../data/werner2019/MCB1, RUN #: 78, PROF: ../atmdata/Earth/LAT20S.txt, SAMPLE #: 20, EFPA: -4.86, SIGMA: 0.11, APO : 1778.55\n",
      "BATCH :../data/werner2019/MCB1, RUN #: 79, PROF: ../atmdata/Earth/LAT60S.txt, SAMPLE #: 61, EFPA: -4.85, SIGMA: -0.36, APO : 1967.42\n",
      "BATCH :../data/werner2019/MCB1, RUN #: 80, PROF: ../atmdata/Earth/LAT00N.txt, SAMPLE #: 151, EFPA: -4.80, SIGMA: -0.53, APO : 1867.09\n",
      "BATCH :../data/werner2019/MCB1, RUN #: 81, PROF: ../atmdata/Earth/LAT40N.txt, SAMPLE #: 9, EFPA: -4.87, SIGMA: 0.24, APO : 1780.05\n",
      "BATCH :../data/werner2019/MCB1, RUN #: 82, PROF: ../atmdata/Earth/LAT40N.txt, SAMPLE #: 78, EFPA: -4.78, SIGMA: -0.15, APO : 4029.84\n",
      "BATCH :../data/werner2019/MCB1, RUN #: 83, PROF: ../atmdata/Earth/LAT80S.txt, SAMPLE #: 14, EFPA: -4.88, SIGMA: -0.21, APO : 124.35\n",
      "BATCH :../data/werner2019/MCB1, RUN #: 84, PROF: ../atmdata/Earth/LAT40S.txt, SAMPLE #: 152, EFPA: -4.80, SIGMA: 0.27, APO : 1906.28\n",
      "BATCH :../data/werner2019/MCB1, RUN #: 85, PROF: ../atmdata/Earth/LAT40N.txt, SAMPLE #: 141, EFPA: -4.88, SIGMA: -0.44, APO : 1893.22\n",
      "BATCH :../data/werner2019/MCB1, RUN #: 86, PROF: ../atmdata/Earth/LAT80S.txt, SAMPLE #: 171, EFPA: -4.85, SIGMA: 0.90, APO : 706.47\n",
      "BATCH :../data/werner2019/MCB1, RUN #: 87, PROF: ../atmdata/Earth/LAT40N.txt, SAMPLE #: 87, EFPA: -4.82, SIGMA: 0.13, APO : 1825.07\n",
      "BATCH :../data/werner2019/MCB1, RUN #: 88, PROF: ../atmdata/Earth/LAT40S.txt, SAMPLE #: 70, EFPA: -4.83, SIGMA: -1.14, APO : 1918.20\n",
      "BATCH :../data/werner2019/MCB1, RUN #: 89, PROF: ../atmdata/Earth/LAT40N.txt, SAMPLE #: 166, EFPA: -4.83, SIGMA: -0.06, APO : 1752.07\n",
      "BATCH :../data/werner2019/MCB1, RUN #: 90, PROF: ../atmdata/Earth/LAT20N.txt, SAMPLE #: 40, EFPA: -4.84, SIGMA: -0.77, APO : 1837.95\n",
      "BATCH :../data/werner2019/MCB1, RUN #: 91, PROF: ../atmdata/Earth/LAT40N.txt, SAMPLE #: 189, EFPA: -4.87, SIGMA: -0.62, APO : 1843.50\n",
      "BATCH :../data/werner2019/MCB1, RUN #: 92, PROF: ../atmdata/Earth/LAT60S.txt, SAMPLE #: 127, EFPA: -4.87, SIGMA: -0.79, APO : 2685.77\n",
      "BATCH :../data/werner2019/MCB1, RUN #: 93, PROF: ../atmdata/Earth/LAT20S.txt, SAMPLE #: 131, EFPA: -4.85, SIGMA: 0.13, APO : 1829.54\n",
      "BATCH :../data/werner2019/MCB1, RUN #: 94, PROF: ../atmdata/Earth/LAT40N.txt, SAMPLE #: 97, EFPA: -4.86, SIGMA: 0.20, APO : 1769.45\n",
      "BATCH :../data/werner2019/MCB1, RUN #: 95, PROF: ../atmdata/Earth/LAT60S.txt, SAMPLE #: 37, EFPA: -4.84, SIGMA: 0.08, APO : 2547.89\n",
      "BATCH :../data/werner2019/MCB1, RUN #: 96, PROF: ../atmdata/Earth/LAT40S.txt, SAMPLE #: 14, EFPA: -4.88, SIGMA: -1.27, APO : 2019.88\n",
      "BATCH :../data/werner2019/MCB1, RUN #: 97, PROF: ../atmdata/Earth/LAT60N.txt, SAMPLE #: 53, EFPA: -4.91, SIGMA: 0.98, APO : 1816.88\n",
      "BATCH :../data/werner2019/MCB1, RUN #: 98, PROF: ../atmdata/Earth/LAT20S.txt, SAMPLE #: 197, EFPA: -4.82, SIGMA: 0.22, APO : 1804.41\n",
      "BATCH :../data/werner2019/MCB1, RUN #: 99, PROF: ../atmdata/Earth/LAT40S.txt, SAMPLE #: 195, EFPA: -4.79, SIGMA: 0.75, APO : 1966.88\n",
      "BATCH :../data/werner2019/MCB1, RUN #: 100, PROF: ../atmdata/Earth/LAT60N.txt, SAMPLE #: 107, EFPA: -4.89, SIGMA: -1.37, APO : 2458.49\n",
      "BATCH :../data/werner2019/MCB1, RUN #: 101, PROF: ../atmdata/Earth/LAT60N.txt, SAMPLE #: 1, EFPA: -4.88, SIGMA: -2.25, APO : 5353.50\n",
      "BATCH :../data/werner2019/MCB1, RUN #: 102, PROF: ../atmdata/Earth/LAT40S.txt, SAMPLE #: 40, EFPA: -4.89, SIGMA: -0.66, APO : 2664.62\n",
      "BATCH :../data/werner2019/MCB1, RUN #: 103, PROF: ../atmdata/Earth/LAT20S.txt, SAMPLE #: 114, EFPA: -4.91, SIGMA: 0.64, APO : 1700.72\n",
      "BATCH :../data/werner2019/MCB1, RUN #: 104, PROF: ../atmdata/Earth/LAT80S.txt, SAMPLE #: 13, EFPA: -4.92, SIGMA: -1.19, APO : 22.63\n",
      "BATCH :../data/werner2019/MCB1, RUN #: 105, PROF: ../atmdata/Earth/LAT60N.txt, SAMPLE #: 132, EFPA: -4.78, SIGMA: 0.83, APO : 1815.90\n",
      "BATCH :../data/werner2019/MCB1, RUN #: 106, PROF: ../atmdata/Earth/LAT40S.txt, SAMPLE #: 25, EFPA: -4.88, SIGMA: 0.37, APO : 2613.84\n",
      "BATCH :../data/werner2019/MCB1, RUN #: 107, PROF: ../atmdata/Earth/LAT40N.txt, SAMPLE #: 184, EFPA: -4.86, SIGMA: -0.02, APO : 1823.35\n",
      "BATCH :../data/werner2019/MCB1, RUN #: 108, PROF: ../atmdata/Earth/LAT60S.txt, SAMPLE #: 52, EFPA: -4.83, SIGMA: 0.86, APO : 2309.78\n",
      "BATCH :../data/werner2019/MCB1, RUN #: 109, PROF: ../atmdata/Earth/LAT00N.txt, SAMPLE #: 48, EFPA: -4.87, SIGMA: -0.43, APO : 1908.16\n",
      "BATCH :../data/werner2019/MCB1, RUN #: 110, PROF: ../atmdata/Earth/LAT40N.txt, SAMPLE #: 89, EFPA: -4.84, SIGMA: -1.45, APO : 2984.50\n",
      "BATCH :../data/werner2019/MCB1, RUN #: 111, PROF: ../atmdata/Earth/LAT20S.txt, SAMPLE #: 96, EFPA: -4.83, SIGMA: 0.13, APO : 1895.90\n",
      "BATCH :../data/werner2019/MCB1, RUN #: 112, PROF: ../atmdata/Earth/LAT80S.txt, SAMPLE #: 176, EFPA: -4.90, SIGMA: 1.10, APO : 22.69\n",
      "BATCH :../data/werner2019/MCB1, RUN #: 113, PROF: ../atmdata/Earth/LAT20S.txt, SAMPLE #: 67, EFPA: -4.85, SIGMA: 0.49, APO : 1760.06\n",
      "BATCH :../data/werner2019/MCB1, RUN #: 114, PROF: ../atmdata/Earth/LAT40S.txt, SAMPLE #: 72, EFPA: -4.83, SIGMA: 1.05, APO : 1822.80\n",
      "BATCH :../data/werner2019/MCB1, RUN #: 115, PROF: ../atmdata/Earth/LAT20S.txt, SAMPLE #: 84, EFPA: -4.84, SIGMA: -0.73, APO : 2175.26\n",
      "BATCH :../data/werner2019/MCB1, RUN #: 116, PROF: ../atmdata/Earth/LAT20N.txt, SAMPLE #: 171, EFPA: -4.83, SIGMA: 1.08, APO : 1878.67\n",
      "BATCH :../data/werner2019/MCB1, RUN #: 117, PROF: ../atmdata/Earth/LAT20S.txt, SAMPLE #: 68, EFPA: -4.86, SIGMA: -1.16, APO : 1808.78\n",
      "BATCH :../data/werner2019/MCB1, RUN #: 118, PROF: ../atmdata/Earth/LAT20N.txt, SAMPLE #: 200, EFPA: -4.84, SIGMA: 1.32, APO : 1766.54\n",
      "BATCH :../data/werner2019/MCB1, RUN #: 119, PROF: ../atmdata/Earth/LAT40N.txt, SAMPLE #: 51, EFPA: -4.80, SIGMA: 0.01, APO : 1793.98\n",
      "BATCH :../data/werner2019/MCB1, RUN #: 120, PROF: ../atmdata/Earth/LAT60S.txt, SAMPLE #: 14, EFPA: -4.81, SIGMA: -0.63, APO : 2147.00\n",
      "BATCH :../data/werner2019/MCB1, RUN #: 121, PROF: ../atmdata/Earth/LAT80N.txt, SAMPLE #: 136, EFPA: -4.87, SIGMA: -0.15, APO : 3850.89\n",
      "BATCH :../data/werner2019/MCB1, RUN #: 122, PROF: ../atmdata/Earth/LAT60N.txt, SAMPLE #: 10, EFPA: -4.80, SIGMA: -0.83, APO : 3750.97\n",
      "BATCH :../data/werner2019/MCB1, RUN #: 123, PROF: ../atmdata/Earth/LAT80S.txt, SAMPLE #: 193, EFPA: -4.91, SIGMA: 0.53, APO : 22.77\n",
      "BATCH :../data/werner2019/MCB1, RUN #: 124, PROF: ../atmdata/Earth/LAT20N.txt, SAMPLE #: 112, EFPA: -4.84, SIGMA: -0.21, APO : 1965.62\n"
     ]
    },
    {
     "name": "stdout",
     "output_type": "stream",
     "text": [
      "BATCH :../data/werner2019/MCB1, RUN #: 125, PROF: ../atmdata/Earth/LAT80S.txt, SAMPLE #: 135, EFPA: -4.89, SIGMA: 0.06, APO : 22.54\n",
      "BATCH :../data/werner2019/MCB1, RUN #: 126, PROF: ../atmdata/Earth/LAT20S.txt, SAMPLE #: 164, EFPA: -4.84, SIGMA: 0.21, APO : 1941.02\n",
      "BATCH :../data/werner2019/MCB1, RUN #: 127, PROF: ../atmdata/Earth/LAT60S.txt, SAMPLE #: 17, EFPA: -4.87, SIGMA: -1.32, APO : 2672.25\n",
      "BATCH :../data/werner2019/MCB1, RUN #: 128, PROF: ../atmdata/Earth/LAT80N.txt, SAMPLE #: 124, EFPA: -4.80, SIGMA: 1.49, APO : 1803.72\n",
      "BATCH :../data/werner2019/MCB1, RUN #: 129, PROF: ../atmdata/Earth/LAT20S.txt, SAMPLE #: 195, EFPA: -4.80, SIGMA: 0.22, APO : 1835.42\n",
      "BATCH :../data/werner2019/MCB1, RUN #: 130, PROF: ../atmdata/Earth/LAT80N.txt, SAMPLE #: 102, EFPA: -4.80, SIGMA: 1.93, APO : 1835.56\n",
      "BATCH :../data/werner2019/MCB1, RUN #: 131, PROF: ../atmdata/Earth/LAT80N.txt, SAMPLE #: 18, EFPA: -4.84, SIGMA: -0.79, APO : 1811.93\n",
      "BATCH :../data/werner2019/MCB1, RUN #: 132, PROF: ../atmdata/Earth/LAT20N.txt, SAMPLE #: 4, EFPA: -4.84, SIGMA: -0.69, APO : 2030.44\n",
      "BATCH :../data/werner2019/MCB1, RUN #: 133, PROF: ../atmdata/Earth/LAT80N.txt, SAMPLE #: 37, EFPA: -4.86, SIGMA: 0.16, APO : 1812.47\n",
      "BATCH :../data/werner2019/MCB1, RUN #: 134, PROF: ../atmdata/Earth/LAT00N.txt, SAMPLE #: 181, EFPA: -4.84, SIGMA: -3.70, APO : 1818.59\n",
      "BATCH :../data/werner2019/MCB1, RUN #: 135, PROF: ../atmdata/Earth/LAT20S.txt, SAMPLE #: 4, EFPA: -4.79, SIGMA: -0.71, APO : 1868.37\n",
      "BATCH :../data/werner2019/MCB1, RUN #: 136, PROF: ../atmdata/Earth/LAT20S.txt, SAMPLE #: 184, EFPA: -4.85, SIGMA: -1.87, APO : 1771.29\n",
      "BATCH :../data/werner2019/MCB1, RUN #: 137, PROF: ../atmdata/Earth/LAT60S.txt, SAMPLE #: 102, EFPA: -4.85, SIGMA: -0.48, APO : 2188.19\n",
      "BATCH :../data/werner2019/MCB1, RUN #: 138, PROF: ../atmdata/Earth/LAT80N.txt, SAMPLE #: 99, EFPA: -4.75, SIGMA: -0.85, APO : 9823.91\n",
      "BATCH :../data/werner2019/MCB1, RUN #: 139, PROF: ../atmdata/Earth/LAT40N.txt, SAMPLE #: 138, EFPA: -4.86, SIGMA: 0.28, APO : 1777.30\n",
      "BATCH :../data/werner2019/MCB1, RUN #: 140, PROF: ../atmdata/Earth/LAT80S.txt, SAMPLE #: 166, EFPA: -4.83, SIGMA: -0.17, APO : 1900.76\n",
      "BATCH :../data/werner2019/MCB1, RUN #: 141, PROF: ../atmdata/Earth/LAT60N.txt, SAMPLE #: 160, EFPA: -4.89, SIGMA: 0.06, APO : 1798.07\n",
      "BATCH :../data/werner2019/MCB1, RUN #: 142, PROF: ../atmdata/Earth/LAT00N.txt, SAMPLE #: 196, EFPA: -4.88, SIGMA: 0.33, APO : 1885.40\n",
      "BATCH :../data/werner2019/MCB1, RUN #: 143, PROF: ../atmdata/Earth/LAT60S.txt, SAMPLE #: 19, EFPA: -4.89, SIGMA: 2.38, APO : 1298.20\n",
      "BATCH :../data/werner2019/MCB1, RUN #: 144, PROF: ../atmdata/Earth/LAT00N.txt, SAMPLE #: 185, EFPA: -4.90, SIGMA: 0.52, APO : 1942.11\n",
      "BATCH :../data/werner2019/MCB1, RUN #: 145, PROF: ../atmdata/Earth/LAT20N.txt, SAMPLE #: 95, EFPA: -4.83, SIGMA: 2.00, APO : 2038.34\n",
      "BATCH :../data/werner2019/MCB1, RUN #: 146, PROF: ../atmdata/Earth/LAT60N.txt, SAMPLE #: 11, EFPA: -4.85, SIGMA: 0.68, APO : 1814.08\n",
      "BATCH :../data/werner2019/MCB1, RUN #: 147, PROF: ../atmdata/Earth/LAT00N.txt, SAMPLE #: 187, EFPA: -4.90, SIGMA: -0.51, APO : 1868.46\n",
      "BATCH :../data/werner2019/MCB1, RUN #: 148, PROF: ../atmdata/Earth/LAT20S.txt, SAMPLE #: 81, EFPA: -4.85, SIGMA: 0.87, APO : 1835.14\n",
      "BATCH :../data/werner2019/MCB1, RUN #: 149, PROF: ../atmdata/Earth/LAT60S.txt, SAMPLE #: 67, EFPA: -4.78, SIGMA: 1.77, APO : 2056.58\n",
      "BATCH :../data/werner2019/MCB1, RUN #: 150, PROF: ../atmdata/Earth/LAT20S.txt, SAMPLE #: 47, EFPA: -4.84, SIGMA: 0.08, APO : 2000.82\n",
      "BATCH :../data/werner2019/MCB1, RUN #: 151, PROF: ../atmdata/Earth/LAT80N.txt, SAMPLE #: 28, EFPA: -4.80, SIGMA: 0.33, APO : 4423.67\n",
      "BATCH :../data/werner2019/MCB1, RUN #: 152, PROF: ../atmdata/Earth/LAT80N.txt, SAMPLE #: 14, EFPA: -4.89, SIGMA: -0.18, APO : 1826.45\n",
      "BATCH :../data/werner2019/MCB1, RUN #: 153, PROF: ../atmdata/Earth/LAT20S.txt, SAMPLE #: 35, EFPA: -4.83, SIGMA: 0.58, APO : 1913.70\n",
      "BATCH :../data/werner2019/MCB1, RUN #: 154, PROF: ../atmdata/Earth/LAT40S.txt, SAMPLE #: 49, EFPA: -4.83, SIGMA: 0.04, APO : 1839.21\n",
      "BATCH :../data/werner2019/MCB1, RUN #: 155, PROF: ../atmdata/Earth/LAT60S.txt, SAMPLE #: 99, EFPA: -4.85, SIGMA: -1.20, APO : 1911.89\n",
      "BATCH :../data/werner2019/MCB1, RUN #: 156, PROF: ../atmdata/Earth/LAT20S.txt, SAMPLE #: 93, EFPA: -4.91, SIGMA: -2.07, APO : 2050.29\n",
      "BATCH :../data/werner2019/MCB1, RUN #: 157, PROF: ../atmdata/Earth/LAT60S.txt, SAMPLE #: 150, EFPA: -4.82, SIGMA: 0.80, APO : 2043.39\n",
      "BATCH :../data/werner2019/MCB1, RUN #: 158, PROF: ../atmdata/Earth/LAT60N.txt, SAMPLE #: 93, EFPA: -4.85, SIGMA: -0.89, APO : 2905.72\n",
      "BATCH :../data/werner2019/MCB1, RUN #: 159, PROF: ../atmdata/Earth/LAT60S.txt, SAMPLE #: 119, EFPA: -4.87, SIGMA: 1.05, APO : 1762.34\n",
      "BATCH :../data/werner2019/MCB1, RUN #: 160, PROF: ../atmdata/Earth/LAT60N.txt, SAMPLE #: 88, EFPA: -4.86, SIGMA: 0.97, APO : 1768.09\n",
      "BATCH :../data/werner2019/MCB1, RUN #: 161, PROF: ../atmdata/Earth/LAT00N.txt, SAMPLE #: 137, EFPA: -4.82, SIGMA: 0.27, APO : 1874.13\n",
      "BATCH :../data/werner2019/MCB1, RUN #: 162, PROF: ../atmdata/Earth/LAT80N.txt, SAMPLE #: 113, EFPA: -4.85, SIGMA: -0.48, APO : 1808.50\n",
      "BATCH :../data/werner2019/MCB1, RUN #: 163, PROF: ../atmdata/Earth/LAT80N.txt, SAMPLE #: 90, EFPA: -4.82, SIGMA: -0.51, APO : 4621.58\n",
      "BATCH :../data/werner2019/MCB1, RUN #: 164, PROF: ../atmdata/Earth/LAT80S.txt, SAMPLE #: 119, EFPA: -4.93, SIGMA: -0.25, APO : 22.55\n",
      "BATCH :../data/werner2019/MCB1, RUN #: 165, PROF: ../atmdata/Earth/LAT80N.txt, SAMPLE #: 188, EFPA: -4.80, SIGMA: 0.77, APO : 2672.75\n",
      "BATCH :../data/werner2019/MCB1, RUN #: 166, PROF: ../atmdata/Earth/LAT60S.txt, SAMPLE #: 77, EFPA: -4.93, SIGMA: -0.62, APO : 1391.23\n",
      "BATCH :../data/werner2019/MCB1, RUN #: 167, PROF: ../atmdata/Earth/LAT20S.txt, SAMPLE #: 55, EFPA: -4.88, SIGMA: -0.00, APO : 1905.84\n",
      "BATCH :../data/werner2019/MCB1, RUN #: 168, PROF: ../atmdata/Earth/LAT40S.txt, SAMPLE #: 162, EFPA: -4.86, SIGMA: -0.02, APO : 1887.71\n",
      "BATCH :../data/werner2019/MCB1, RUN #: 169, PROF: ../atmdata/Earth/LAT20N.txt, SAMPLE #: 6, EFPA: -4.88, SIGMA: 0.29, APO : 2017.17\n",
      "BATCH :../data/werner2019/MCB1, RUN #: 170, PROF: ../atmdata/Earth/LAT80N.txt, SAMPLE #: 159, EFPA: -4.84, SIGMA: 0.94, APO : 1814.33\n",
      "BATCH :../data/werner2019/MCB1, RUN #: 171, PROF: ../atmdata/Earth/LAT60N.txt, SAMPLE #: 200, EFPA: -4.87, SIGMA: -0.82, APO : 3258.49\n",
      "BATCH :../data/werner2019/MCB1, RUN #: 172, PROF: ../atmdata/Earth/LAT20N.txt, SAMPLE #: 57, EFPA: -4.93, SIGMA: -1.65, APO : 2096.31\n",
      "BATCH :../data/werner2019/MCB1, RUN #: 173, PROF: ../atmdata/Earth/LAT60S.txt, SAMPLE #: 92, EFPA: -4.90, SIGMA: -0.13, APO : 1450.62\n",
      "BATCH :../data/werner2019/MCB1, RUN #: 174, PROF: ../atmdata/Earth/LAT80S.txt, SAMPLE #: 67, EFPA: -4.85, SIGMA: -1.60, APO : 2194.75\n",
      "BATCH :../data/werner2019/MCB1, RUN #: 175, PROF: ../atmdata/Earth/LAT20N.txt, SAMPLE #: 20, EFPA: -4.82, SIGMA: -1.65, APO : 1855.57\n",
      "BATCH :../data/werner2019/MCB1, RUN #: 176, PROF: ../atmdata/Earth/LAT60S.txt, SAMPLE #: 111, EFPA: -4.85, SIGMA: 0.13, APO : 2629.28\n",
      "BATCH :../data/werner2019/MCB1, RUN #: 177, PROF: ../atmdata/Earth/LAT20S.txt, SAMPLE #: 86, EFPA: -4.90, SIGMA: -0.57, APO : 1953.92\n",
      "BATCH :../data/werner2019/MCB1, RUN #: 178, PROF: ../atmdata/Earth/LAT60N.txt, SAMPLE #: 200, EFPA: -4.82, SIGMA: 0.17, APO : 3527.15\n",
      "BATCH :../data/werner2019/MCB1, RUN #: 179, PROF: ../atmdata/Earth/LAT40S.txt, SAMPLE #: 73, EFPA: -4.80, SIGMA: 0.96, APO : 1870.57\n",
      "BATCH :../data/werner2019/MCB1, RUN #: 180, PROF: ../atmdata/Earth/LAT80N.txt, SAMPLE #: 70, EFPA: -4.85, SIGMA: 0.25, APO : 1813.48\n",
      "BATCH :../data/werner2019/MCB1, RUN #: 181, PROF: ../atmdata/Earth/LAT60N.txt, SAMPLE #: 181, EFPA: -4.91, SIGMA: 0.02, APO : 1800.06\n",
      "BATCH :../data/werner2019/MCB1, RUN #: 182, PROF: ../atmdata/Earth/LAT40S.txt, SAMPLE #: 135, EFPA: -4.86, SIGMA: 1.21, APO : 2210.22\n",
      "BATCH :../data/werner2019/MCB1, RUN #: 183, PROF: ../atmdata/Earth/LAT40N.txt, SAMPLE #: 200, EFPA: -4.83, SIGMA: 0.42, APO : 1796.40\n",
      "BATCH :../data/werner2019/MCB1, RUN #: 184, PROF: ../atmdata/Earth/LAT40N.txt, SAMPLE #: 34, EFPA: -4.84, SIGMA: 1.11, APO : 1853.91\n",
      "BATCH :../data/werner2019/MCB1, RUN #: 185, PROF: ../atmdata/Earth/LAT40S.txt, SAMPLE #: 136, EFPA: -4.93, SIGMA: 0.08, APO : 1870.74\n",
      "BATCH :../data/werner2019/MCB1, RUN #: 186, PROF: ../atmdata/Earth/LAT20S.txt, SAMPLE #: 144, EFPA: -4.90, SIGMA: 0.93, APO : 1764.16\n"
     ]
    },
    {
     "name": "stdout",
     "output_type": "stream",
     "text": [
      "BATCH :../data/werner2019/MCB1, RUN #: 187, PROF: ../atmdata/Earth/LAT80N.txt, SAMPLE #: 67, EFPA: -4.88, SIGMA: -2.00, APO : 2258.70\n",
      "BATCH :../data/werner2019/MCB1, RUN #: 188, PROF: ../atmdata/Earth/LAT80S.txt, SAMPLE #: 81, EFPA: -4.92, SIGMA: -0.95, APO : 22.62\n",
      "BATCH :../data/werner2019/MCB1, RUN #: 189, PROF: ../atmdata/Earth/LAT20N.txt, SAMPLE #: 164, EFPA: -4.84, SIGMA: -1.46, APO : 1904.96\n",
      "BATCH :../data/werner2019/MCB1, RUN #: 190, PROF: ../atmdata/Earth/LAT20S.txt, SAMPLE #: 112, EFPA: -4.87, SIGMA: -1.30, APO : 1737.33\n",
      "BATCH :../data/werner2019/MCB1, RUN #: 191, PROF: ../atmdata/Earth/LAT60N.txt, SAMPLE #: 111, EFPA: -4.88, SIGMA: -1.19, APO : 1818.10\n",
      "BATCH :../data/werner2019/MCB1, RUN #: 192, PROF: ../atmdata/Earth/LAT60N.txt, SAMPLE #: 35, EFPA: -4.83, SIGMA: -0.38, APO : 3184.55\n",
      "BATCH :../data/werner2019/MCB1, RUN #: 193, PROF: ../atmdata/Earth/LAT60S.txt, SAMPLE #: 184, EFPA: -4.91, SIGMA: -0.57, APO : 1939.20\n",
      "BATCH :../data/werner2019/MCB1, RUN #: 194, PROF: ../atmdata/Earth/LAT40S.txt, SAMPLE #: 96, EFPA: -4.85, SIGMA: 1.09, APO : 1742.70\n",
      "BATCH :../data/werner2019/MCB1, RUN #: 195, PROF: ../atmdata/Earth/LAT00N.txt, SAMPLE #: 22, EFPA: -4.86, SIGMA: -0.01, APO : 1843.61\n",
      "BATCH :../data/werner2019/MCB1, RUN #: 196, PROF: ../atmdata/Earth/LAT40S.txt, SAMPLE #: 73, EFPA: -4.82, SIGMA: -1.92, APO : 1873.99\n",
      "BATCH :../data/werner2019/MCB1, RUN #: 197, PROF: ../atmdata/Earth/LAT20S.txt, SAMPLE #: 26, EFPA: -4.84, SIGMA: 0.28, APO : 1885.78\n",
      "BATCH :../data/werner2019/MCB1, RUN #: 198, PROF: ../atmdata/Earth/LAT40S.txt, SAMPLE #: 122, EFPA: -4.85, SIGMA: -1.06, APO : 1897.63\n",
      "BATCH :../data/werner2019/MCB1, RUN #: 199, PROF: ../atmdata/Earth/LAT60N.txt, SAMPLE #: 114, EFPA: -4.84, SIGMA: -0.12, APO : 3436.07\n",
      "BATCH :../data/werner2019/MCB1, RUN #: 200, PROF: ../atmdata/Earth/LAT60N.txt, SAMPLE #: 4, EFPA: -4.86, SIGMA: -0.87, APO : 3910.03\n"
     ]
    }
   ],
   "source": [
    "# Set up the planet and atmosphere model.\n",
    "planet=Planet(\"EARTH\")\n",
    "planet.loadAtmosphereModel('../atmdata/Earth/earth-gram-avg.dat', 0 , 1 ,2, 3)\n",
    "planet.h_skip = 125000.0\n",
    "planet.h_low=10.0E3\n",
    "\n",
    "# Set up the drag modulation vehicle.\n",
    "vehicle=Vehicle('EarthSmallSat', 2.82, 66.4, 0.0, np.pi*0.25**2, 0.0, 0.0563, planet)\n",
    "vehicle.setInitialState(125.0,0.0,0.0,9.8,0.0,-5.00,0.0,0.0)\n",
    "vehicle.setSolverParams(1E-6)\n",
    "vehicle.setDragModulationVehicleParams(66.4,4.72)\n",
    "\n",
    "# Set up the drag modulation entry phase guidance parameters.\n",
    "vehicle.setDragEntryPhaseParams(5.0, 50.0, 101, -200.0)\n",
    "\n",
    "# Set the target orbit parameters.\n",
    "vehicle.setTargetOrbitParams(180.0, 1760.0, 50.0)\n",
    "\n",
    "# Define the path to atmospheric files to be used for the Monte Carlo simulations.\n",
    "#atmfiles = ['../atmdata/Earth/LAT00N.txt']\n",
    "\n",
    "atmfiles = ['../atmdata/Earth/LAT00N.txt',\n",
    "            '../atmdata/Earth/LAT20N.txt',\n",
    "            '../atmdata/Earth/LAT20S.txt',\n",
    "            '../atmdata/Earth/LAT40N.txt',\n",
    "            '../atmdata/Earth/LAT40S.txt',\n",
    "            '../atmdata/Earth/LAT60N.txt',\n",
    "            '../atmdata/Earth/LAT60S.txt',\n",
    "            '../atmdata/Earth/LAT80N.txt',\n",
    "            '../atmdata/Earth/LAT80S.txt']\n",
    "\n",
    "# Set up the Monte Carlo simulation for drag modulation.\n",
    "# NPOS = 141, NMONTE = 200\n",
    "# Target EFPA = -4.85 deg\n",
    "# EFPA 1-sigma error = +/- 0.04 deg\n",
    "# Nominal beta_1 = 66.4 kg/m2\n",
    "# beta_1 1-sigma = 0.0\n",
    "# guidance time step for entry = 1.0s (Freq. = 1 Hz)\n",
    "# guidance time step after jettison = 1.0 s\n",
    "# max. solver time step = 0.1 s\n",
    "# max. time used by solver = 2400 s\n",
    "\n",
    "vehicle.setupMonteCarloSimulationD_Earth(141, 200, atmfiles,1, 4, 14, 9, True,\n",
    "                                   -4.85,  0.04, 66.4, 0.0,\n",
    "                                    1.0, 1.0, 0.1, 2400.0)\n",
    "# Run 200 trajectories\n",
    "vehicle.runMonteCarloD_Earth(200, '../data/werner2019/MCB1')"
   ]
  },
  {
   "cell_type": "markdown",
   "metadata": {},
   "source": [
    "Load the terminal apoapsis, deceleration and heat rate data."
   ]
  },
  {
   "cell_type": "code",
   "execution_count": 85,
   "metadata": {},
   "outputs": [],
   "source": [
    "apoap = np.loadtxt('../data/werner2019/MCB1/terminal_apoapsis_arr.txt')\n",
    "peria = np.loadtxt('../data/werner2019/MCB1/terminal_periapsis_arr.txt')\n",
    "decel = np.loadtxt('../data/werner2019/MCB1/acc_net_g_max_arr.txt')\n",
    "heatr = np.loadtxt('../data/werner2019/MCB1/q_stag_max_arr.txt')"
   ]
  },
  {
   "cell_type": "markdown",
   "metadata": {},
   "source": [
    "Remove cases which resulted in apoapsis < 1000 km or < 6000 km."
   ]
  },
  {
   "cell_type": "code",
   "execution_count": 86,
   "metadata": {},
   "outputs": [
    {
     "name": "stdout",
     "output_type": "stream",
     "text": [
      "(array([ 34,  65,  82,  85, 103, 111, 122, 124, 163, 187]),)\n"
     ]
    }
   ],
   "source": [
    "del_index_low = np.where(apoap < 1000) \n",
    "print(del_index_low)"
   ]
  },
  {
   "cell_type": "markdown",
   "metadata": {},
   "source": [
    "Seven cases resulted in apoapis less than 1000 km, and are considered to crash."
   ]
  },
  {
   "cell_type": "markdown",
   "metadata": {},
   "source": [
    "Remove these entries from the data before plotting."
   ]
  },
  {
   "cell_type": "code",
   "execution_count": 87,
   "metadata": {},
   "outputs": [],
   "source": [
    "apoap_clean = np.delete(apoap, del_index_low)\n",
    "peria_clean = np.delete(peria, del_index_low)\n",
    "decel_clean = np.delete(decel, del_index_low)\n",
    "heatr_clean = np.delete(heatr, del_index_low)"
   ]
  },
  {
   "cell_type": "markdown",
   "metadata": {},
   "source": [
    "Also remove cases with apoapsis > 3000 km."
   ]
  },
  {
   "cell_type": "code",
   "execution_count": 88,
   "metadata": {},
   "outputs": [
    {
     "name": "stdout",
     "output_type": "stream",
     "text": [
      "(array([ 41,  42,  79,  96, 114, 115, 129, 142, 154, 161, 168, 181, 188,\n",
      "       189]),)\n"
     ]
    }
   ],
   "source": [
    "del_index_high = np.where(apoap_clean > 3000) \n",
    "print(del_index_high)"
   ]
  },
  {
   "cell_type": "code",
   "execution_count": 89,
   "metadata": {},
   "outputs": [],
   "source": [
    "apoap_clean2 = np.delete(apoap_clean, del_index_high)\n",
    "peria_clean2 = np.delete(peria_clean, del_index_high)\n",
    "decel_clean2 = np.delete(decel_clean, del_index_high)\n",
    "heatr_clean2 = np.delete(heatr_clean, del_index_high)"
   ]
  },
  {
   "cell_type": "code",
   "execution_count": 95,
   "metadata": {},
   "outputs": [
    {
     "data": {
      "image/png": "[encoded data removed]",
      "text/plain": [
       "<Figure size 432x432 with 1 Axes>"
      ]
     },
     "metadata": {
      "needs_background": "light"
     },
     "output_type": "display_data"
    }
   ],
   "source": [
    "plt.figure(figsize=(6,6))\n",
    "plt.rc('font',family='Times New Roman')\n",
    "params = {'mathtext.default': 'regular' }\n",
    "plt.rcParams.update(params)\n",
    "plt.hist(apoap_clean2, bins=25, color='xkcd:red')\n",
    "plt.xlabel('Apoapsis altitude, km',fontsize=14)\n",
    "plt.ylabel('Number of cases',fontsize=14)\n",
    "ax=plt.gca()\n",
    "ax.tick_params(direction='in')\n",
    "ax.yaxis.set_ticks_position('both')\n",
    "ax.xaxis.set_ticks_position('both')\n",
    "ax.tick_params(axis='x',labelsize=14)\n",
    "ax.tick_params(axis='y',labelsize=14)\n",
    "\n",
    "plt.savefig('../plots/werner-smallsat-apoa-hist.png',bbox_inches='tight')\n",
    "plt.savefig('../plots/werner-smallsat-apoa-hist.pdf', dpi=300,bbox_inches='tight')\n",
    "plt.savefig('../plots/werner-smallsat-apoa-hist.eps', dpi=300,bbox_inches='tight')\n",
    "plt.show()"
   ]
  },
  {
   "cell_type": "code",
   "execution_count": 96,
   "metadata": {},
   "outputs": [
    {
     "data": {
      "image/png": "[encoded data removed]",
      "text/plain": [
       "<Figure size 432x432 with 1 Axes>"
      ]
     },
     "metadata": {
      "needs_background": "light"
     },
     "output_type": "display_data"
    }
   ],
   "source": [
    "plt.figure(figsize=(6,6))\n",
    "plt.rc('font',family='Times New Roman')\n",
    "params = {'mathtext.default': 'regular' }\n",
    "plt.rcParams.update(params)\n",
    "plt.hist(decel_clean2, bins=20, color='xkcd:green')\n",
    "plt.xlabel('Deceleration, g',fontsize=14)\n",
    "plt.ylabel('Number of cases',fontsize=14)\n",
    "ax=plt.gca()\n",
    "ax.tick_params(direction='in')\n",
    "ax.yaxis.set_ticks_position('both')\n",
    "ax.xaxis.set_ticks_position('both')\n",
    "ax.tick_params(axis='x',labelsize=14)\n",
    "ax.tick_params(axis='y',labelsize=14)\n",
    "\n",
    "plt.savefig('../plots/werner-smallsat-decel-hist.png',bbox_inches='tight')\n",
    "plt.savefig('../plots/werner-smallsat-decel-hist.pdf', dpi=300,bbox_inches='tight')\n",
    "plt.savefig('../plots/werner-smallsat-decel-hist.eps', dpi=300,bbox_inches='tight')\n",
    "plt.show()"
   ]
  },
  {
   "cell_type": "code",
   "execution_count": 97,
   "metadata": {},
   "outputs": [
    {
     "data": {
      "image/png": "[encoded data removed]",
      "text/plain": [
       "<Figure size 432x432 with 1 Axes>"
      ]
     },
     "metadata": {
      "needs_background": "light"
     },
     "output_type": "display_data"
    }
   ],
   "source": [
    "plt.figure(figsize=(6,6))\n",
    "plt.rc('font',family='Times New Roman')\n",
    "params = {'mathtext.default': 'regular' }\n",
    "plt.rcParams.update(params)\n",
    "plt.hist(heatr_clean2, bins=20, color='xkcd:blue')\n",
    "plt.xlabel('Heat rate, '+r'$W/cm^2$',fontsize=14)\n",
    "plt.ylabel('Number of cases',fontsize=14)\n",
    "ax=plt.gca()\n",
    "ax.tick_params(direction='in')\n",
    "ax.yaxis.set_ticks_position('both')\n",
    "ax.xaxis.set_ticks_position('both')\n",
    "ax.tick_params(axis='x',labelsize=14)\n",
    "ax.tick_params(axis='y',labelsize=14)\n",
    "\n",
    "plt.savefig('../plots/werner-smallsat-heat-hist.png',bbox_inches='tight')\n",
    "plt.savefig('../plots/werner-smallsat-heat-hist.pdf', dpi=300,bbox_inches='tight')\n",
    "plt.savefig('../plots/werner-smallsat-heat-hist.eps', dpi=300,bbox_inches='tight')\n",
    "plt.show()"
   ]
  },
  {
   "cell_type": "code",
   "execution_count": 98,
   "metadata": {},
   "outputs": [
    {
     "data": {
      "image/png": "[encoded data removed]",
      "text/plain": [
       "<Figure size 432x432 with 1 Axes>"
      ]
     },
     "metadata": {
      "needs_background": "light"
     },
     "output_type": "display_data"
    }
   ],
   "source": [
    "plt.figure(figsize=(6,6))\n",
    "plt.rc('font',family='Times New Roman')\n",
    "params = {'mathtext.default': 'regular' }\n",
    "plt.rcParams.update(params)\n",
    "plt.scatter(peria_clean2, apoap_clean2, s=30, facecolors='none', edgecolors='b', lw=2)\n",
    "plt.axhline(y=1760, lw=2.0, ls='dashed', color='k')\n",
    "plt.xlabel('Periapsis altitude, km',fontsize=14)\n",
    "plt.ylabel('Apoapsis altitude, km',fontsize=14)\n",
    "ax=plt.gca()\n",
    "ax.tick_params(direction='in')\n",
    "ax.yaxis.set_ticks_position('both')\n",
    "ax.xaxis.set_ticks_position('both')\n",
    "ax.tick_params(axis='x',labelsize=14)\n",
    "ax.tick_params(axis='y',labelsize=14)\n",
    "\n",
    "plt.savefig('../plots/werner-smallsat-apoa-peri.png',bbox_inches='tight')\n",
    "plt.savefig('../plots/werner-smallsat-apoa-peri.pdf', dpi=300,bbox_inches='tight')\n",
    "plt.savefig('../plots/werner-smallsat-apoa-peri.eps', dpi=300,bbox_inches='tight')\n",
    "plt.show()"
   ]
  },
  {
   "cell_type": "markdown",
   "metadata": {},
   "source": [
    "Find the percentage of cases which achieved apoapsis between 1000 and 3000 km."
   ]
  },
  {
   "cell_type": "code",
   "execution_count": 94,
   "metadata": {},
   "outputs": [
    {
     "data": {
      "text/plain": [
       "88.0"
      ]
     },
     "execution_count": 94,
     "metadata": {},
     "output_type": "execute_result"
    }
   ],
   "source": [
    "(np.size(apoap) - np.size(del_index_low) - np.size(del_index_high))*100/np.size(apoap)"
   ]
  },
  {
   "cell_type": "markdown",
   "metadata": {},
   "source": [
    "These results are different from those in the paper because of the different guidance schemes used here. This exercide did not attempt to optimize the guidance parameters. Further study can improve the apoapsis targeting."
   ]
  }
 ],
 "metadata": {
  "kernelspec": {
   "display_name": "Python 3",
   "language": "python",
   "name": "python3"
  },
  "language_info": {
   "codemirror_mode": {
    "name": "ipython",
    "version": 3
   },
   "file_extension": ".py",
   "mimetype": "text/x-python",
   "name": "python",
   "nbconvert_exporter": "python",
   "pygments_lexer": "ipython3",
   "version": "3.7.3"
  }
 },
 "nbformat": 4,
 "nbformat_minor": 2
}
