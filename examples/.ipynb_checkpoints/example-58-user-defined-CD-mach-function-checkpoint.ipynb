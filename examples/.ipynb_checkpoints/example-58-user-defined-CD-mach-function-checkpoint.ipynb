{
 "cells": [
  {
   "cell_type": "markdown",
   "id": "25f4d4ba",
   "metadata": {},
   "source": [
    "# Example - 58 - User-defined CD Mach Function - Earth Re-entry"
   ]
  },
  {
   "cell_type": "markdown",
   "id": "fa4d33d1",
   "metadata": {},
   "source": [
    "This example illustrates using a user-defined CD Mach function for Earth re-entry."
   ]
  },
  {
   "cell_type": "code",
   "execution_count": 1,
   "id": "1244ffef",
   "metadata": {},
   "outputs": [],
   "source": [
    "from AMAT.planet import Planet\n",
    "from AMAT.vehicle import Vehicle"
   ]
  },
  {
   "cell_type": "code",
   "execution_count": 2,
   "id": "42b8d6dc",
   "metadata": {},
   "outputs": [],
   "source": [
    "import numpy as np\n",
    "from scipy.interpolate import interp1d"
   ]
  },
  {
   "cell_type": "code",
   "execution_count": 3,
   "id": "27047ead",
   "metadata": {},
   "outputs": [],
   "source": [
    "planet = Planet(\"EARTH\")\n",
    "planet.loadAtmosphereModel(\"../atmdata/Earth/earth-gram-avg.dat\", 0, 1, 2, 3)"
   ]
  },
  {
   "cell_type": "code",
   "execution_count": 4,
   "id": "42032804",
   "metadata": {},
   "outputs": [],
   "source": [
    "vehicle1 = Vehicle(\"Apollo-AS-201-A\", 5400.0, 400.0, 0.3, 12.0, 0.0, 3.0, planet)\n",
    "vehicle2 = Vehicle(\"Apollo-AS-201-B\", 5400.0, 400.0, 0.3, 12.0, 0.0, 3.0, planet, userDefinedCDMach=True)\n",
    "vehicle3 = Vehicle(\"Apollo-AS-201-C\", 5400.0, 400.0, 0.3, 12.0, 0.0, 3.0, planet, userDefinedCDMach=True)"
   ]
  },
  {
   "cell_type": "code",
   "execution_count": 5,
   "id": "d76ba0b4",
   "metadata": {},
   "outputs": [],
   "source": [
    "# Example of user defined function for CD(M)\n",
    "def f(M):\n",
    "    return 0.9 + 0.5 * np.tanh(M - 1.0)"
   ]
  },
  {
   "cell_type": "code",
   "execution_count": 6,
   "id": "fd76fcde",
   "metadata": {},
   "outputs": [],
   "source": [
    "# Example of user defined function derived from look up table for Mach no. vs CD\n",
    "xx = np.linspace(0,30,101) # replace with mach no. array, if needed\n",
    "yy = f(xx)                 # replace with CD array, if needed\n",
    "\n",
    "# create interpolation function\n",
    "f_int = interp1d(xx, yy, kind=\"linear\", fill_value=(xx[0], xx[-1]), bounds_error=False)\n",
    "\n",
    "# vectorize interpolation function.\n",
    "\n",
    "# **Note**: important, function must return scalar for scalar input, and array for array input!\n",
    "\n",
    "def g(x):\n",
    "    # return scalar for scalar input\n",
    "    if np.size(x) == 1:\n",
    "        return float(f_int(x))\n",
    "    # return array for array input\n",
    "    else:\n",
    "        return f_int(x)"
   ]
  },
  {
   "cell_type": "code",
   "execution_count": 7,
   "id": "43d34ace",
   "metadata": {},
   "outputs": [],
   "source": [
    "#set user-defined Mach number function\n",
    "\n",
    "vehicle2.setCDMachFunction(f) # vehicle2 - set function f\n",
    "vehicle3.setCDMachFunction(g) # vehicle3 - set function g"
   ]
  },
  {
   "cell_type": "code",
   "execution_count": 8,
   "id": "a84820b8",
   "metadata": {},
   "outputs": [],
   "source": [
    "# set initial states, copied from Example-15: Apollo AS-201\n",
    "\n",
    "vehicle1.setInitialState(120.0, 0.0, 0.0, 7.67, 0.0, -9.03, 0.0, 0.0)\n",
    "vehicle2.setInitialState(120.0, 0.0, 0.0, 7.67, 0.0, -9.03, 0.0, 0.0)\n",
    "vehicle3.setInitialState(120.0, 0.0, 0.0, 7.67, 0.0, -9.03, 0.0, 0.0)"
   ]
  },
  {
   "cell_type": "code",
   "execution_count": 9,
   "id": "a1e8bc0d",
   "metadata": {},
   "outputs": [],
   "source": [
    "# set solver params\n",
    "\n",
    "vehicle1.setSolverParams(1e-6)\n",
    "vehicle2.setSolverParams(1e-6)\n",
    "vehicle3.setSolverParams(1e-6)"
   ]
  },
  {
   "cell_type": "code",
   "execution_count": 10,
   "id": "8f874214",
   "metadata": {},
   "outputs": [],
   "source": [
    "# propogate vehicle(s) entry;\n",
    "# t = 2400s\n",
    "# timestep_max = 0.1 s\n",
    "# bank_angle = 60 deg\n",
    "\n",
    "vehicle1.propogateEntry(2400.0, 0.1, 60.0)\n",
    "vehicle2.propogateEntry(2400.0, 0.1, 60.0)\n",
    "vehicle3.propogateEntry(2400.0, 0.1, 60.0)"
   ]
  },
  {
   "cell_type": "code",
   "execution_count": 11,
   "id": "3ab4d6b2",
   "metadata": {},
   "outputs": [],
   "source": [
    "import matplotlib.pyplot as plt"
   ]
  },
  {
   "cell_type": "code",
   "execution_count": 12,
   "id": "f3f7263d",
   "metadata": {},
   "outputs": [
    {
     "name": "stderr",
     "output_type": "stream",
     "text": [
      "The PostScript backend does not support transparency; partially transparent artists will be rendered opaque.\n"
     ]
    },
    {
     "data": {
      "image/png": "[encoded data removed]",
      "text/plain": [
       "<Figure size 576x432 with 1 Axes>"
      ]
     },
     "metadata": {
      "needs_background": "light"
     },
     "output_type": "display_data"
    }
   ],
   "source": [
    "fig = plt.figure(figsize=(8,6))\n",
    "\n",
    "plt.plot(vehicle1.v_kmsc, vehicle1.h_kmc, 'k',   linewidth=2.0, label='Vehicle1')\n",
    "plt.plot(vehicle2.v_kmsc, vehicle2.h_kmc, 'r-',  linewidth=2.0, label='Vehicle2')\n",
    "plt.plot(vehicle3.v_kmsc, vehicle3.h_kmc, 'b--', linewidth=2.0, label='Vehicle3')\n",
    "\n",
    "plt.xlabel('Speed, km/s',fontsize=14)\n",
    "plt.ylabel('Altitude, km', fontsize=14)\n",
    "ax=plt.gca()\n",
    "ax.tick_params(direction='in')\n",
    "ax.yaxis.set_ticks_position('both')\n",
    "ax.xaxis.set_ticks_position('both')\n",
    "ax.tick_params(axis='x',labelsize=14)\n",
    "ax.tick_params(axis='y',labelsize=14)\n",
    "plt.legend(loc='upper left', fontsize=14)\n",
    "\n",
    "\n",
    "plt.savefig('../plots/example-58-user-defined-cd-earth-reentry.png',bbox_inches='tight')\n",
    "plt.savefig('../plots/example-58-user-defined-cd-earth-reentry.pdf', dpi=300,bbox_inches='tight')\n",
    "plt.savefig('../plots/example-58-user-defined-cd-earth-reentry.eps', dpi=300,bbox_inches='tight')\n",
    "\n",
    "plt.show()"
   ]
  }
 ],
 "metadata": {
  "kernelspec": {
   "display_name": "Python 3 (ipykernel)",
   "language": "python",
   "name": "python3"
  },
  "language_info": {
   "codemirror_mode": {
    "name": "ipython",
    "version": 3
   },
   "file_extension": ".py",
   "mimetype": "text/x-python",
   "name": "python",
   "nbconvert_exporter": "python",
   "pygments_lexer": "ipython3",
   "version": "3.8.10"
  }
 },
 "nbformat": 4,
 "nbformat_minor": 5
}
