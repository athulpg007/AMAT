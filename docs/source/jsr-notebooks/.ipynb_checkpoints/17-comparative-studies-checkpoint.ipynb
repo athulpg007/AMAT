{
 "cells": [
  {
   "cell_type": "markdown",
   "metadata": {},
   "source": [
    "# 17 - Comparative Studies"
   ]
  },
  {
   "cell_type": "code",
   "execution_count": 1,
   "metadata": {},
   "outputs": [],
   "source": [
    "from AMAT.planet import Planet\n",
    "from AMAT.vehicle import Vehicle"
   ]
  },
  {
   "cell_type": "code",
   "execution_count": 2,
   "metadata": {},
   "outputs": [],
   "source": [
    "import numpy as np\n",
    "import matplotlib.pyplot as plt"
   ]
  },
  {
   "cell_type": "code",
   "execution_count": 3,
   "metadata": {},
   "outputs": [],
   "source": [
    "planet1 = Planet('VENUS')\n",
    "planet2 = Planet('EARTH')\n",
    "planet3 = Planet('MARS')\n",
    "planet4 = Planet('JUPITER')\n",
    "planet5 = Planet('SATURN')\n",
    "planet6 = Planet('TITAN')\n",
    "planet7 = Planet('URANUS')\n",
    "planet8 = Planet('NEPTUNE')"
   ]
  },
  {
   "cell_type": "code",
   "execution_count": 5,
   "metadata": {},
   "outputs": [],
   "source": [
    "planet1.loadAtmosphereModel('../atmdata/Venus/venus-gram-avg.dat', 0 , 1 ,2, 3)\n",
    "planet2.loadAtmosphereModel('../atmdata/Earth/earth-gram-avg.dat', 0 , 1 ,2, 3)\n",
    "planet3.loadAtmosphereModel('../atmdata/Mars/mars-gram-avg.dat', 0 , 1 , 2, 3)\n",
    "planet4.loadAtmosphereModel('../atmdata/Jupiter/jupiter-galileo-asi.dat', 0 , 1 , 2, 3, heightInKmFlag=True)\n",
    "planet5.loadAtmosphereModel('../atmdata/Saturn/saturn-nominal.dat', 0 , 1 , 2, 3, heightInKmFlag=True)\n",
    "planet6.loadAtmosphereModel('../atmdata/Titan/titan-gram-avg.dat', 0 , 1 , 2, 3)\n",
    "planet7.loadAtmosphereModel('../atmdata/Uranus/uranus-ames.dat', 0 , 1 , 2, 3)\n",
    "planet8.loadAtmosphereModel('../atmdata/Neptune/neptune-gram-avg.dat', 0 , 7 ,6, 5 , heightInKmFlag=True)"
   ]
  },
  {
   "cell_type": "code",
   "execution_count": 6,
   "metadata": {},
   "outputs": [],
   "source": [
    "planet1.h_skip = 150E3\n",
    "planet2.h_skip = 140E3\n",
    "planet3.h_skip = 120E3\n",
    "planet4.h_skip = 1000E3\n",
    "planet5.h_skip = 1000E3\n",
    "planet6.h_skip = 1000E3\n",
    "planet7.h_skip = 1000E3\n",
    "planet8.h_skip = 1000E3"
   ]
  },
  {
   "cell_type": "code",
   "execution_count": 7,
   "metadata": {},
   "outputs": [],
   "source": [
    "vehicle1=Vehicle('Venus',  1000.0, 200.0, 0.30, 3.1416, 0.0, 1.00, planet1)\n",
    "vehicle2=Vehicle('Earth',  1000.0, 200.0, 0.30, 3.1416, 0.0, 1.00, planet2)\n",
    "vehicle3=Vehicle('Mars' ,  1000.0, 200.0, 0.30, 3.1416, 0.0, 1.00, planet3)\n",
    "vehicle4=Vehicle('Jupiter',1000.0, 200.0, 0.30, 3.1416, 0.0, 1.00, planet4)\n",
    "vehicle5=Vehicle('Saturn' ,1000.0, 200.0, 0.30, 3.1416, 0.0, 1.00, planet5)\n",
    "vehicle6=Vehicle('Titan'  ,1000.0, 200.0, 0.30, 3.1416, 0.0, 1.00, planet6)\n",
    "vehicle7=Vehicle('Uranus' ,1000.0, 200.0, 0.30, 3.1416, 0.0, 1.00, planet7)\n",
    "vehicle8=Vehicle('Neptune',1000.0, 200.0, 0.30, 3.1416, 0.0, 1.00, planet8)"
   ]
  },
  {
   "cell_type": "code",
   "execution_count": 8,
   "metadata": {},
   "outputs": [
    {
     "name": "stdout",
     "output_type": "stream",
     "text": [
      "VENUS\n",
      "10.235384752669699\n",
      "11.864362647659727\n",
      "EARTH\n",
      "11.06521903710534\n",
      "12.58725833289833\n",
      "MARS\n",
      "4.940354888610406\n",
      "7.772200873974933\n",
      "JUPITER\n",
      "59.984279058078336\n",
      "60.606218609293016\n",
      "SATURN\n",
      "36.135394199294566\n",
      "37.15866943175457\n",
      "TITAN\n",
      "5.479293507620972\n",
      "10.248056271442763\n",
      "URANUS\n",
      "23.158303361242414\n",
      "28.918973262744508\n",
      "NEPTUNE\n",
      "25.172312110936126\n",
      "30.555609910626586\n"
     ]
    }
   ],
   "source": [
    "print(\"VENUS\")\n",
    "print(np.sqrt(0.0E3**2+2*planet1.GM/(planet1.h_skip+planet1.RP))/1E3)\n",
    "print(np.sqrt(6.0E3**2+2*planet1.GM/(planet1.h_skip+planet1.RP))/1E3)\n",
    "print(\"EARTH\")\n",
    "print(np.sqrt(0.0E3**2+2*planet2.GM/(planet2.h_skip+planet2.RP))/1E3)\n",
    "print(np.sqrt(6.0E3**2+2*planet2.GM/(planet2.h_skip+planet2.RP))/1E3)\n",
    "print(\"MARS\")\n",
    "print(np.sqrt(0.0E3**2+2*planet3.GM/(planet3.h_skip+planet3.RP))/1E3)\n",
    "print(np.sqrt(6.0E3**2+2*planet3.GM/(planet3.h_skip+planet3.RP))/1E3)\n",
    "print(\"JUPITER\")\n",
    "print(np.sqrt(5.0E3**2+2*planet4.GM/(planet4.h_skip+planet4.RP))/1E3)\n",
    "print(np.sqrt(10.0E3**2+2*planet4.GM/(planet4.h_skip+planet4.RP))/1E3)\n",
    "print(\"SATURN\")\n",
    "print(np.sqrt(5.0E3**2+2*planet5.GM/(planet5.h_skip+planet5.RP))/1E3)\n",
    "print(np.sqrt(10.0E3**2+2*planet5.GM/(planet5.h_skip+planet5.RP))/1E3)\n",
    "print(\"TITAN\")\n",
    "print(np.sqrt(5.0E3**2+2*planet6.GM/(planet6.h_skip+planet6.RP))/1E3)\n",
    "print(np.sqrt(10.0E3**2+2*planet6.GM/(planet6.h_skip+planet6.RP))/1E3)\n",
    "print(\"URANUS\")\n",
    "print(np.sqrt(10.0E3**2+2*planet7.GM/(planet7.h_skip+planet7.RP))/1E3)\n",
    "print(np.sqrt(20.0E3**2+2*planet7.GM/(planet7.h_skip+planet7.RP))/1E3)\n",
    "print(\"NEPTUNE\")\n",
    "print(np.sqrt(10.0E3**2+2*planet8.GM/(planet8.h_skip+planet8.RP))/1E3)\n",
    "print(np.sqrt(20.0E3**2+2*planet8.GM/(planet8.h_skip+planet8.RP))/1E3)"
   ]
  },
  {
   "cell_type": "code",
   "execution_count": 9,
   "metadata": {},
   "outputs": [
    {
     "name": "stdout",
     "output_type": "stream",
     "text": [
      "VENUS\n",
      "EARTH\n",
      "MARS\n",
      "JUPITER\n",
      "SATURN\n",
      "TITAN\n",
      "URANUS\n",
      "NEPTUNE\n"
     ]
    }
   ],
   "source": [
    "print(\"VENUS\")\n",
    "v1a = (np.sqrt(0.0E3**2+2*planet1.GM/(planet1.h_skip+planet1.RP))/1E3)\n",
    "v1b = (np.sqrt(6.0E3**2+2*planet1.GM/(planet1.h_skip+planet1.RP))/1E3)\n",
    "print(\"EARTH\")\n",
    "v2a = (np.sqrt(0.0E3**2+2*planet2.GM/(planet2.h_skip+planet2.RP))/1E3)\n",
    "v2b = (np.sqrt(6.0E3**2+2*planet2.GM/(planet2.h_skip+planet2.RP))/1E3)\n",
    "print(\"MARS\")\n",
    "v3a = (np.sqrt(0.0E3**2+2*planet3.GM/(planet3.h_skip+planet3.RP))/1E3)\n",
    "v3b = (np.sqrt(6.0E3**2+2*planet3.GM/(planet3.h_skip+planet3.RP))/1E3)\n",
    "print(\"JUPITER\")\n",
    "v4a = (np.sqrt(5.0E3**2+2*planet4.GM/(planet4.h_skip+planet4.RP))/1E3)\n",
    "v4b = (np.sqrt(10.0E3**2+2*planet4.GM/(planet4.h_skip+planet4.RP))/1E3)\n",
    "print(\"SATURN\")\n",
    "v5a = (np.sqrt(5.0E3**2+2*planet5.GM/(planet5.h_skip+planet5.RP))/1E3)\n",
    "v5b = (np.sqrt(10.0E3**2+2*planet5.GM/(planet5.h_skip+planet5.RP))/1E3)\n",
    "print(\"TITAN\")\n",
    "v6a = (np.sqrt(5.0E3**2+2*planet6.GM/(planet6.h_skip+planet6.RP))/1E3)\n",
    "v6b = (np.sqrt(10.0E3**2+2*planet6.GM/(planet6.h_skip+planet6.RP))/1E3)\n",
    "print(\"URANUS\")\n",
    "v7a = (np.sqrt(10.0E3**2+2*planet7.GM/(planet7.h_skip+planet7.RP))/1E3)\n",
    "v7b = (np.sqrt(20.0E3**2+2*planet7.GM/(planet7.h_skip+planet7.RP))/1E3)\n",
    "print(\"NEPTUNE\")\n",
    "v8a = (np.sqrt(10.0E3**2+2*planet8.GM/(planet8.h_skip+planet8.RP))/1E3)\n",
    "v8b = (np.sqrt(20.0E3**2+2*planet8.GM/(planet8.h_skip+planet8.RP))/1E3)"
   ]
  },
  {
   "cell_type": "code",
   "execution_count": 25,
   "metadata": {},
   "outputs": [],
   "source": [
    "vehicle1.setInitialState (150.0,0.0,0.0,11.0,0.0,-4.5,0.0,0.0)\n",
    "vehicle2.setInitialState (140.0,0.0,0.0,11.5,0.0,-4.5,0.0,0.0)\n",
    "vehicle3.setInitialState (120.0,0.0,0.0, 7.0,0.0,-4.5,0.0,0.0)\n",
    "vehicle4.setInitialState(1000.0,0.0,0.0,60.0,0.0,-4.5,0.0,0.0)\n",
    "vehicle5.setInitialState(1000.0,0.0,0.0,36.0,0.0,-4.5,0.0,0.0)\n",
    "vehicle6.setInitialState(1000.0,0.0,0.0, 7.5,0.0,-4.5,0.0,0.0)\n",
    "vehicle7.setInitialState(1000.0,0.0,0.0,25.0,0.0,-4.5,0.0,0.0)\n",
    "vehicle8.setInitialState(1000.0,0.0,0.0,27.5,0.0,-4.5,0.0,0.0)"
   ]
  },
  {
   "cell_type": "code",
   "execution_count": 11,
   "metadata": {},
   "outputs": [],
   "source": [
    "vehicle1.setSolverParams(1E-6)\n",
    "vehicle2.setSolverParams(1E-6)\n",
    "vehicle3.setSolverParams(1E-6)\n",
    "vehicle4.setSolverParams(1E-6)\n",
    "vehicle5.setSolverParams(1E-6)\n",
    "vehicle6.setSolverParams(1E-6)\n",
    "vehicle7.setSolverParams(1E-6)\n",
    "vehicle8.setSolverParams(1E-6)"
   ]
  },
  {
   "cell_type": "code",
   "execution_count": 12,
   "metadata": {},
   "outputs": [],
   "source": [
    "overShootLimit1, exitflag_os1  = vehicle1.findOverShootLimit (2400.0,0.1,-80.0,-4.0,1E-10,400.0)\n",
    "underShootLimit1,exitflag_us1  = vehicle1.findUnderShootLimit(2400.0,0.1,-80.0,-4.0,1E-10,400.0)"
   ]
  },
  {
   "cell_type": "code",
   "execution_count": 13,
   "metadata": {},
   "outputs": [
    {
     "name": "stdout",
     "output_type": "stream",
     "text": [
      "-5.337756426539272 1.0\n",
      "-7.068433752585406 1.0\n"
     ]
    }
   ],
   "source": [
    "print(overShootLimit1, exitflag_os1)\n",
    "print(underShootLimit1,exitflag_us1)"
   ]
  },
  {
   "cell_type": "code",
   "execution_count": 14,
   "metadata": {},
   "outputs": [],
   "source": [
    "overShootLimit2, exitflag_os2  = vehicle2.findOverShootLimit (2400.0,0.1,-80.0,-4.0,1E-10,400.0)\n",
    "underShootLimit2,exitflag_us2  = vehicle2.findUnderShootLimit(2400.0,0.1,-80.0,-4.0,1E-10,400.0)"
   ]
  },
  {
   "cell_type": "code",
   "execution_count": 15,
   "metadata": {},
   "outputs": [
    {
     "name": "stdout",
     "output_type": "stream",
     "text": [
      "-6.3867313949158415 1.0\n",
      "-8.141700465788745 1.0\n"
     ]
    }
   ],
   "source": [
    "print(overShootLimit2, exitflag_os2)\n",
    "print(underShootLimit2,exitflag_us2)"
   ]
  },
  {
   "cell_type": "code",
   "execution_count": 16,
   "metadata": {},
   "outputs": [
    {
     "name": "stderr",
     "output_type": "stream",
     "text": [
      "C:\\Users\\AthulGirija\\anaconda3\\envs\\env1\\lib\\site-packages\\scipy\\integrate\\odepack.py:247: ODEintWarning: Excess work done on this call (perhaps wrong Dfun type). Run with full_output = 1 to get quantitative information.\n",
      "  warnings.warn(warning_msg, ODEintWarning)\n"
     ]
    }
   ],
   "source": [
    "overShootLimit3, exitflag_os3  = vehicle3.findOverShootLimit (2400.0,0.1,-30.0,-2.0,1E-10,400.0)\n",
    "underShootLimit3,exitflag_us3  = vehicle3.findUnderShootLimit(2400.0,0.1,-30.0,-2.0,1E-10,400.0)"
   ]
  },
  {
   "cell_type": "code",
   "execution_count": 17,
   "metadata": {},
   "outputs": [
    {
     "name": "stdout",
     "output_type": "stream",
     "text": [
      "-10.656794067006558 1.0\n",
      "-13.765197287466435 1.0\n"
     ]
    }
   ],
   "source": [
    "print(overShootLimit3, exitflag_os3)\n",
    "print(underShootLimit3,exitflag_us3)"
   ]
  },
  {
   "cell_type": "code",
   "execution_count": 18,
   "metadata": {},
   "outputs": [],
   "source": [
    "planet4.h_trap = -130.0E3\n",
    "planet4.h_low  = 50.0E3\n",
    "\n",
    "overShootLimit4, exitflag_os4  = vehicle4.findOverShootLimit (2400.0,0.1,-80.0,-4.0,1E-10,430E3)\n",
    "underShootLimit4,exitflag_us4  = vehicle4.findUnderShootLimit(2400.0,0.1,-80.0,-4.0,1E-10,430E3)"
   ]
  },
  {
   "cell_type": "code",
   "execution_count": 19,
   "metadata": {},
   "outputs": [
    {
     "name": "stdout",
     "output_type": "stream",
     "text": [
      "-8.190509113308508 1.0\n",
      "-8.361646710389323 1.0\n"
     ]
    }
   ],
   "source": [
    "print(overShootLimit4, exitflag_os4)\n",
    "print(underShootLimit4,exitflag_us4)"
   ]
  },
  {
   "cell_type": "code",
   "execution_count": 20,
   "metadata": {},
   "outputs": [],
   "source": [
    "planet5.h_low  = 50.0E3\n",
    "\n",
    "overShootLimit5, exitflag_os5  = vehicle5.findOverShootLimit (2400.0,0.1,-80.0,-4.0,1E-10,263E3)\n",
    "underShootLimit5,exitflag_us5  = vehicle5.findUnderShootLimit(2400.0,0.1,-80.0,-4.0,1E-10,263E3)"
   ]
  },
  {
   "cell_type": "code",
   "execution_count": 21,
   "metadata": {},
   "outputs": [
    {
     "name": "stdout",
     "output_type": "stream",
     "text": [
      "-6.708508475014241 1.0\n",
      "-7.192161418864998 1.0\n"
     ]
    }
   ],
   "source": [
    "print(overShootLimit5, exitflag_os5)\n",
    "print(underShootLimit5,exitflag_us5)"
   ]
  },
  {
   "cell_type": "code",
   "execution_count": 22,
   "metadata": {},
   "outputs": [],
   "source": [
    "overShootLimit6, exitflag_os6  = vehicle6.findOverShootLimit (6000.0,0.1,-80.0,-4.0,1E-10,1700.0)\n",
    "underShootLimit6,exitflag_us6  = vehicle6.findUnderShootLimit(6000.0,0.1,-80.0,-4.0,1E-10,1700.0)"
   ]
  },
  {
   "cell_type": "code",
   "execution_count": 23,
   "metadata": {},
   "outputs": [
    {
     "name": "stdout",
     "output_type": "stream",
     "text": [
      "-35.511385259556846 1.0\n",
      "-40.08044252597756 1.0\n"
     ]
    }
   ],
   "source": [
    "print(overShootLimit6, exitflag_os6)\n",
    "print(underShootLimit6,exitflag_us6)"
   ]
  },
  {
   "cell_type": "code",
   "execution_count": 26,
   "metadata": {},
   "outputs": [],
   "source": [
    "overShootLimit7, exitflag_os7  = vehicle7.findOverShootLimit (2400.0,1.0,-50.0,-4.0,1E-10,900E3)\n",
    "underShootLimit7,exitflag_us7  = vehicle7.findUnderShootLimit(2400.0,1.0,-50.0,-4.0,1E-10,900E3)"
   ]
  },
  {
   "cell_type": "code",
   "execution_count": 27,
   "metadata": {},
   "outputs": [
    {
     "name": "stdout",
     "output_type": "stream",
     "text": [
      "-8.378781035331485 1.0\n",
      "-9.03231991237044 1.0\n"
     ]
    }
   ],
   "source": [
    "print(overShootLimit7, exitflag_os7)\n",
    "print(underShootLimit7,exitflag_us7)"
   ]
  },
  {
   "cell_type": "code",
   "execution_count": 28,
   "metadata": {},
   "outputs": [],
   "source": [
    "overShootLimit8, exitflag_os8  = vehicle8.findOverShootLimit (3000.0,0.1,-50.0,-4.0,1E-10,400E3)\n",
    "underShootLimit8,exitflag_us8  = vehicle8.findUnderShootLimit(3000.0,0.1,-50.0,-4.0,1E-10,400E3)"
   ]
  },
  {
   "cell_type": "code",
   "execution_count": 29,
   "metadata": {},
   "outputs": [
    {
     "name": "stdout",
     "output_type": "stream",
     "text": [
      "-12.738614854639309 1.0\n",
      "-13.40074354888202 1.0\n"
     ]
    }
   ],
   "source": [
    "print(overShootLimit8, exitflag_os8)\n",
    "print(underShootLimit8,exitflag_us8)"
   ]
  },
  {
   "cell_type": "code",
   "execution_count": 32,
   "metadata": {},
   "outputs": [],
   "source": [
    "import os"
   ]
  },
  {
   "cell_type": "code",
   "execution_count": 30,
   "metadata": {},
   "outputs": [],
   "source": [
    "from matplotlib import pyplot as plt\n",
    "from matplotlib.patches import Rectangle\n",
    "\n",
    "%matplotlib inline"
   ]
  },
  {
   "cell_type": "code",
   "execution_count": 33,
   "metadata": {},
   "outputs": [],
   "source": [
    "os.makedirs('../data/jsr-paper/comparative-studies/')"
   ]
  },
  {
   "cell_type": "code",
   "execution_count": 34,
   "metadata": {},
   "outputs": [
    {
     "data": {
      "image/png": "[encoded data removed]",
      "text/plain": [
       "<Figure size 450x450 with 1 Axes>"
      ]
     },
     "metadata": {
      "needs_background": "light"
     },
     "output_type": "display_data"
    }
   ],
   "source": [
    "params = {'mathtext.default': 'regular' }\n",
    "plt.rcParams.update(params)\n",
    "\n",
    "plt.figure(figsize=(6.25,6.25))\n",
    "ax = plt.gca()\n",
    "ax.add_patch(Rectangle((v1a,underShootLimit1), v1b-v1a, overShootLimit1-underShootLimit1, alpha=1, facecolor='xkcd:orange'))\n",
    "ax.add_patch(Rectangle((v2a,underShootLimit2), v2b-v2a, overShootLimit2-underShootLimit2, alpha=1, facecolor='xkcd:pastel blue'))\n",
    "ax.add_patch(Rectangle((v3a,underShootLimit3), v3b-v3a, overShootLimit3-underShootLimit3, alpha=1, facecolor='xkcd:light red'))\n",
    "ax.add_patch(Rectangle((v4a,underShootLimit4), v4b-v4a, overShootLimit4-underShootLimit4, alpha=1, facecolor='xkcd:amber'))\n",
    "ax.add_patch(Rectangle((v6a,underShootLimit6), v6b-v6a, overShootLimit6-underShootLimit6, alpha=1, facecolor='xkcd:goldenrod'))\n",
    "ax.add_patch(Rectangle((v7a,underShootLimit7), v7b-v7a, overShootLimit7-underShootLimit7, alpha=1, facecolor='xkcd:light turquoise'))\n",
    "ax.add_patch(Rectangle((v8a,underShootLimit8), v8b-v8a, overShootLimit8-underShootLimit8, alpha=1, facecolor='xkcd:cerulean blue'))\n",
    "\n",
    "plt.text( 6, -7, 'Venus' ,color='xkcd:orange', fontsize=12)\n",
    "plt.text( 13, -8, 'Earth' ,color='xkcd:pastel blue', fontsize=12)\n",
    "plt.text( 8, -13, 'Mars' ,color='xkcd:light red', fontsize=12)\n",
    "plt.text( 6.3, -35, 'Titan' ,color='xkcd:goldenrod', fontsize=12)\n",
    "plt.text( 23.5, -10.5, 'Uranus' ,color='xkcd:light turquoise', fontsize=12)\n",
    "plt.text( 24.5, -14.9, 'Neptune' ,color='xkcd:cerulean blue', fontsize=12)\n",
    "\n",
    "plt.xlim([2.0, 30.0])\n",
    "plt.ylim([-40.0, -2.0])\n",
    "\n",
    "plt.xlabel('Entry speed '+r'$V_e$, km/s', fontsize=16)\n",
    "plt.ylabel('Entry flight path angle '+r'$\\gamma_e$, deg', fontsize=16)\n",
    "\n",
    "ax.tick_params(direction='in')\n",
    "ax.yaxis.set_ticks_position('both')\n",
    "ax.xaxis.set_ticks_position('both')\n",
    "ax.tick_params(axis='x',labelsize=16)\n",
    "ax.tick_params(axis='y',labelsize=16)\n",
    "\n",
    "plt.savefig('../data/jsr-paper/comparative-studies/v-gamma-lift-modulation.png', dpi= 300,bbox_inches='tight')\n",
    "plt.savefig('../data/jsr-paper/comparative-studies/v-gamma-lift-modulation.pdf', dpi=300,bbox_inches='tight')\n",
    "plt.savefig('../data/jsr-paper/comparative-studies/v-gamma-lift-modulation.eps', dpi=300,bbox_inches='tight')"
   ]
  },
  {
   "cell_type": "code",
   "execution_count": 35,
   "metadata": {},
   "outputs": [],
   "source": [
    "vehicle1D=Vehicle('Venus',  200.0, 20.0, 0.00, 3.1416, 0.0, 0.10, planet1)\n",
    "vehicle2D=Vehicle('Earth',  200.0, 20.0, 0.00, 3.1416, 0.0, 0.10, planet2)\n",
    "vehicle3D=Vehicle('Mars' ,  200.0, 20.0, 0.00, 3.1416, 0.0, 0.10, planet3)\n",
    "vehicle4D=Vehicle('Jupiter',200.0, 20.0, 0.00, 3.1416, 0.0, 0.10, planet4)\n",
    "vehicle5D=Vehicle('Saturn' ,200.0, 20.0, 0.00, 3.1416, 0.0, 0.10, planet5)\n",
    "vehicle6D=Vehicle('Titan'  ,200.0, 20.0, 0.00, 3.1416, 0.0, 0.10, planet6)\n",
    "vehicle7D=Vehicle('Uranus' ,200.0, 20.0, 0.00, 3.1416, 0.0, 0.10, planet7)\n",
    "vehicle8D=Vehicle('Neptune',200.0, 20.0, 0.00, 3.1416, 0.0, 0.10, planet8)"
   ]
  },
  {
   "cell_type": "code",
   "execution_count": 36,
   "metadata": {},
   "outputs": [],
   "source": [
    "vehicle1D.setInitialState (150.0,0.0,0.0,11.0,0.0,-4.5,0.0,0.0)\n",
    "vehicle2D.setInitialState (140.0,0.0,0.0,11.5,0.0,-4.5,0.0,0.0)\n",
    "vehicle3D.setInitialState (120.0,0.0,0.0, 7.0,0.0,-4.5,0.0,0.0)\n",
    "vehicle4D.setInitialState(1000.0,0.0,0.0,60.0,0.0,-4.5,0.0,0.0)\n",
    "vehicle5D.setInitialState(1000.0,0.0,0.0,36.0,0.0,-4.5,0.0,0.0)\n",
    "vehicle6D.setInitialState(1000.0,0.0,0.0, 7.5,0.0,-4.5,0.0,0.0)\n",
    "vehicle7D.setInitialState(1000.0,0.0,0.0,25.0,0.0,-4.5,0.0,0.0)\n",
    "vehicle8D.setInitialState(1000.0,0.0,0.0,27.5,0.0,-4.5,0.0,0.0)"
   ]
  },
  {
   "cell_type": "code",
   "execution_count": 37,
   "metadata": {},
   "outputs": [],
   "source": [
    "vehicle1D.setSolverParams(1E-6)\n",
    "vehicle2D.setSolverParams(1E-6)\n",
    "vehicle3D.setSolverParams(1E-6)\n",
    "vehicle4D.setSolverParams(1E-6)\n",
    "vehicle5D.setSolverParams(1E-6)\n",
    "vehicle6D.setSolverParams(1E-6)\n",
    "vehicle7D.setSolverParams(1E-6)\n",
    "vehicle8D.setSolverParams(1E-6)"
   ]
  },
  {
   "cell_type": "code",
   "execution_count": 38,
   "metadata": {},
   "outputs": [],
   "source": [
    "vehicle1D.setDragModulationVehicleParams(20.0,7.0)\n",
    "vehicle2D.setDragModulationVehicleParams(20.0,7.0)\n",
    "vehicle3D.setDragModulationVehicleParams(20.0,7.0)\n",
    "vehicle4D.setDragModulationVehicleParams(20.0,7.0)\n",
    "vehicle5D.setDragModulationVehicleParams(20.0,7.0)\n",
    "vehicle6D.setDragModulationVehicleParams(20.0,7.0)\n",
    "vehicle7D.setDragModulationVehicleParams(20.0,7.0)\n",
    "vehicle8D.setDragModulationVehicleParams(20.0,7.0)"
   ]
  },
  {
   "cell_type": "code",
   "execution_count": 39,
   "metadata": {},
   "outputs": [],
   "source": [
    "overShootLimit1D, exitflag_os1D  = vehicle1D.findOverShootLimitD(2400.0,0.1,-80.0,-4.0,1E-10,400.0)\n",
    "underShootLimit1D,exitflag_us1D  = vehicle1D.findUnderShootLimitD(2400.0,0.1,-80.0,-4.0,1E-10,400.0)"
   ]
  },
  {
   "cell_type": "code",
   "execution_count": 40,
   "metadata": {},
   "outputs": [
    {
     "name": "stdout",
     "output_type": "stream",
     "text": [
      "-5.203492604807252 1.0\n",
      "-5.614676727258484 1.0\n"
     ]
    }
   ],
   "source": [
    "print(overShootLimit1D, exitflag_os1D)\n",
    "print(underShootLimit1D,exitflag_us1D)"
   ]
  },
  {
   "cell_type": "code",
   "execution_count": 41,
   "metadata": {},
   "outputs": [],
   "source": [
    "overShootLimit2D, exitflag_os2D  = vehicle2D.findOverShootLimitD(2400.0,0.1,-80.0,-4.0,1E-10,400.0)\n",
    "underShootLimit2D,exitflag_us2D  = vehicle2D.findUnderShootLimitD(2400.0,0.1,-80.0,-4.0,1E-10,400.0)"
   ]
  },
  {
   "cell_type": "code",
   "execution_count": 42,
   "metadata": {},
   "outputs": [
    {
     "name": "stdout",
     "output_type": "stream",
     "text": [
      "-6.103771843398135 1.0\n",
      "-6.732959025812306 1.0\n"
     ]
    }
   ],
   "source": [
    "print(overShootLimit2D, exitflag_os2D)\n",
    "print(underShootLimit2D,exitflag_us2D)"
   ]
  },
  {
   "cell_type": "code",
   "execution_count": 43,
   "metadata": {},
   "outputs": [],
   "source": [
    "overShootLimit3D, exitflag_os3D  = vehicle3D.findOverShootLimitD(2400.0,0.1,-80.0,-4.0,1E-10,400.0)\n",
    "underShootLimit3D,exitflag_us3D  = vehicle3D.findUnderShootLimitD(2400.0,0.1,-80.0,-4.0,1E-10,400.0)"
   ]
  },
  {
   "cell_type": "code",
   "execution_count": 44,
   "metadata": {},
   "outputs": [
    {
     "name": "stdout",
     "output_type": "stream",
     "text": [
      "-10.193927379001252 1.0\n",
      "-11.291493911885482 1.0\n"
     ]
    }
   ],
   "source": [
    "print(overShootLimit3D, exitflag_os3D)\n",
    "print(underShootLimit3D,exitflag_us3D)"
   ]
  },
  {
   "cell_type": "code",
   "execution_count": 54,
   "metadata": {},
   "outputs": [],
   "source": [
    "overShootLimit4D, exitflag_os4D  = vehicle4D.findOverShootLimitD(2400.0,0.1,-30.0,-4.0,1E-10,4E3)\n",
    "underShootLimit4D,exitflag_us4D  = vehicle4D.findUnderShootLimitD(2400.0,0.1,-30.0,-4.0,1E-10,4E3)"
   ]
  },
  {
   "cell_type": "code",
   "execution_count": 55,
   "metadata": {},
   "outputs": [
    {
     "name": "stdout",
     "output_type": "stream",
     "text": [
      "-8.176375376337091 1.0\n",
      "-8.432869144795404 1.0\n"
     ]
    }
   ],
   "source": [
    "print(overShootLimit4D, exitflag_os4D)\n",
    "print(underShootLimit4D,exitflag_us4D)"
   ]
  },
  {
   "cell_type": "code",
   "execution_count": 56,
   "metadata": {},
   "outputs": [],
   "source": [
    "overShootLimit5D, exitflag_os5D  = vehicle5D.findOverShootLimitD(2400.0,0.1,-20.0,-4.0,1E-10,4E3)\n",
    "underShootLimit5D,exitflag_us5D  = vehicle5D.findUnderShootLimitD(2400.0,0.1,-20.0,-4.0,1E-10,4E3)"
   ]
  },
  {
   "cell_type": "code",
   "execution_count": 57,
   "metadata": {},
   "outputs": [
    {
     "name": "stdout",
     "output_type": "stream",
     "text": [
      "-6.428392354224343 1.0\n",
      "-7.476114542689174 1.0\n"
     ]
    }
   ],
   "source": [
    "print(overShootLimit5D, exitflag_os5D)\n",
    "print(underShootLimit5D,exitflag_us5D)"
   ]
  },
  {
   "cell_type": "code",
   "execution_count": 58,
   "metadata": {},
   "outputs": [],
   "source": [
    "overShootLimit6D, exitflag_os6D  = vehicle6D.findOverShootLimitD(6000.0,0.1,-80.0,-4.0,1E-10,1700.0)\n",
    "underShootLimit6D,exitflag_us6D  = vehicle6D.findUnderShootLimitD(6000.0,0.1,-80.0,-4.0,1E-10,1700.0)"
   ]
  },
  {
   "cell_type": "code",
   "execution_count": 59,
   "metadata": {},
   "outputs": [
    {
     "name": "stdout",
     "output_type": "stream",
     "text": [
      "-34.00011686890866 1.0\n",
      "-36.610938443158375 1.0\n"
     ]
    }
   ],
   "source": [
    "print(overShootLimit6D, exitflag_os6D)\n",
    "print(underShootLimit6D,exitflag_us6D)"
   ]
  },
  {
   "cell_type": "code",
   "execution_count": 60,
   "metadata": {},
   "outputs": [],
   "source": [
    "overShootLimit7D, exitflag_os7D  = vehicle7D.findOverShootLimitD(3000.0,0.1,-20.0,-4.0,1E-10,4E3)\n",
    "underShootLimit7D,exitflag_us7D  = vehicle7D.findUnderShootLimitD(3000.0,0.1,-20.0,-4.0,1E-10,4E3)"
   ]
  },
  {
   "cell_type": "code",
   "execution_count": 61,
   "metadata": {},
   "outputs": [
    {
     "name": "stdout",
     "output_type": "stream",
     "text": [
      "-8.112847047974356 1.0\n",
      "-8.650135981675703 1.0\n"
     ]
    }
   ],
   "source": [
    "print(overShootLimit7D, exitflag_os7D)\n",
    "print(underShootLimit7D,exitflag_us7D)"
   ]
  },
  {
   "cell_type": "code",
   "execution_count": 62,
   "metadata": {},
   "outputs": [],
   "source": [
    "overShootLimit8D, exitflag_os8D  = vehicle8D.findOverShootLimitD(3000.0,0.1,-20.0,-4.0,1E-10,4E3)\n",
    "underShootLimit8D,exitflag_us8D  = vehicle8D.findUnderShootLimitD(3000.0,0.1,-20.0,-4.0,1E-10,4E3)"
   ]
  },
  {
   "cell_type": "code",
   "execution_count": 63,
   "metadata": {},
   "outputs": [
    {
     "name": "stdout",
     "output_type": "stream",
     "text": [
      "-12.40664541971637 1.0\n",
      "-13.19187773426529 1.0\n"
     ]
    }
   ],
   "source": [
    "print(overShootLimit8D, exitflag_os8D)\n",
    "print(underShootLimit8D,exitflag_us8D)"
   ]
  },
  {
   "cell_type": "code",
   "execution_count": 66,
   "metadata": {},
   "outputs": [
    {
     "data": {
      "image/png": "[encoded data removed]",
      "text/plain": [
       "<Figure size 450x450 with 1 Axes>"
      ]
     },
     "metadata": {
      "needs_background": "light"
     },
     "output_type": "display_data"
    }
   ],
   "source": [
    "params = {'mathtext.default': 'regular' }\n",
    "plt.rcParams.update(params)\n",
    "\n",
    "plt.figure(figsize=(6.25,6.25))\n",
    "ax = plt.gca()\n",
    "ax.add_patch(Rectangle((v1a,underShootLimit1), v1b-v1a, overShootLimit1-underShootLimit1, alpha=1, facecolor='xkcd:orange', hatch='|||||'))\n",
    "ax.add_patch(Rectangle((v2a,underShootLimit2), v2b-v2a, overShootLimit2-underShootLimit2, alpha=1, facecolor='xkcd:pastel blue', hatch='|||||'))\n",
    "ax.add_patch(Rectangle((v3a,underShootLimit3), v3b-v3a, overShootLimit3-underShootLimit3, alpha=1, facecolor='xkcd:light red', hatch='|||||'))\n",
    "ax.add_patch(Rectangle((v4a,underShootLimit4), v4b-v4a, overShootLimit4-underShootLimit4, alpha=1, facecolor='xkcd:amber', hatch='|||||'))\n",
    "ax.add_patch(Rectangle((v6a,underShootLimit6), v6b-v6a, overShootLimit6-underShootLimit6, alpha=1, facecolor='xkcd:goldenrod', hatch='|||||'))\n",
    "ax.add_patch(Rectangle((v7a,underShootLimit7), v7b-v7a, overShootLimit7-underShootLimit7, alpha=1, facecolor='xkcd:light turquoise', hatch='|||||'))\n",
    "ax.add_patch(Rectangle((v8a,underShootLimit8), v8b-v8a, overShootLimit8-underShootLimit8, alpha=1, facecolor='xkcd:cerulean blue', hatch='|||||'))\n",
    "\n",
    "ax.add_patch(Rectangle((v1a,underShootLimit1D), v1b-v1a, overShootLimit1D-underShootLimit1D, alpha=1, edgecolor='xkcd:black', facecolor='None', linewidth=0.2, hatch='xxxxxxx'))\n",
    "ax.add_patch(Rectangle((v2a,underShootLimit2D), v2b-v2a, overShootLimit2D-underShootLimit2D, alpha=1, edgecolor='xkcd:black', facecolor='None', linewidth=0.2, hatch='xxxxxxx'))\n",
    "ax.add_patch(Rectangle((v3a,underShootLimit3D), v3b-v3a, overShootLimit3D-underShootLimit3D, alpha=1, edgecolor='xkcd:black', facecolor='None', linewidth=0.2, hatch='xxxx'))\n",
    "ax.add_patch(Rectangle((v6a,underShootLimit6D), v6b-v6a, overShootLimit6D-underShootLimit6D, alpha=1, edgecolor='xkcd:black', facecolor='None', linewidth=0.2, hatch='xxxx'))\n",
    "ax.add_patch(Rectangle((v7a,underShootLimit7D), v7b-v7a, overShootLimit7D-underShootLimit7D, alpha=1, edgecolor='xkcd:black', facecolor='None', linewidth=0.2, hatch='xxxxxx'))\n",
    "ax.add_patch(Rectangle((v8a,underShootLimit8D), v8b-v8a, overShootLimit8D-underShootLimit8D, alpha=1, edgecolor='xkcd:black', facecolor='None', linewidth=0.2, hatch='xxxxxx'))\n",
    "\n",
    "ax.add_patch(Rectangle((15.5, -30-5), 3.0, 2.0, alpha=1, edgecolor='xkcd:black', facecolor='None', linewidth=0.2, hatch='|||||'))\n",
    "ax.add_patch(Rectangle((15.5, -33-5), 3.0, 2.0, alpha=1, edgecolor='xkcd:black', facecolor='None', linewidth=0.2, hatch='xxxxx'))\n",
    "\n",
    "\n",
    "plt.text( 6, -7, 'Venus' ,color='xkcd:orange', fontsize=16)\n",
    "plt.text( 13, -8, 'Earth' ,color='xkcd:pastel blue', fontsize=16)\n",
    "plt.text( 8, -13, 'Mars' ,color='xkcd:light red', fontsize=16)\n",
    "plt.text( 6.2, -33, 'Titan' ,color='xkcd:goldenrod', fontsize=16)\n",
    "plt.text( 23.5, -10.5, 'Uranus' ,color='xkcd:light turquoise', fontsize=16)\n",
    "plt.text( 24.5, -14.9, 'Neptune' ,color='xkcd:cerulean blue', fontsize=16)\n",
    "\n",
    "plt.text( 19, -29.6-5, 'Lift modulation' ,color='xkcd:black', fontsize=16)\n",
    "plt.text( 19, -32.6-5, 'Drag modulation' ,color='xkcd:black', fontsize=16)\n",
    "\n",
    "\n",
    "plt.xlim([2.0, 30.0])\n",
    "plt.ylim([-40.0, -2.0])\n",
    "\n",
    "plt.xlabel('Entry speed '+r'$V_e$, km/s', fontsize=16)\n",
    "plt.ylabel('Entry flight path angle '+r'$\\gamma_e$, deg', fontsize=16)\n",
    "\n",
    "ax.tick_params(direction='in')\n",
    "ax.yaxis.set_ticks_position('both')\n",
    "ax.xaxis.set_ticks_position('both')\n",
    "ax.tick_params(axis='x',labelsize=16)\n",
    "ax.tick_params(axis='y',labelsize=16)\n",
    "\n",
    "plt.savefig('../data/jsr-paper/comparative-studies/v-gamma-lift-drag-modulation.png', dpi= 300,bbox_inches='tight')\n",
    "plt.savefig('../data/jsr-paper/comparative-studies/v-gamma-lift-drag-modulation.pdf', dpi=300,bbox_inches='tight')\n",
    "plt.savefig('../data/jsr-paper/comparative-studies/v-gamma-lift-drag-modulation.eps', dpi=300,bbox_inches='tight')"
   ]
  },
  {
   "cell_type": "code",
   "execution_count": 67,
   "metadata": {},
   "outputs": [],
   "source": [
    "TCW1 = overShootLimit1-underShootLimit1\n",
    "TCW2 = overShootLimit2-underShootLimit2\n",
    "TCW3 = overShootLimit3-underShootLimit3\n",
    "TCW4 = overShootLimit4-underShootLimit4\n",
    "TCW5 = overShootLimit5-underShootLimit5\n",
    "TCW6 = overShootLimit6-underShootLimit6\n",
    "TCW7 = overShootLimit7-underShootLimit7\n",
    "TCW8 = overShootLimit8-underShootLimit8"
   ]
  },
  {
   "cell_type": "code",
   "execution_count": 68,
   "metadata": {},
   "outputs": [
    {
     "name": "stdout",
     "output_type": "stream",
     "text": [
      "1.7306773260461341 1.754969070872903 3.108403220459877 0.17113759708081488 0.48365294385075686 4.569057266420714 0.6535388770389545 0.6621286942427105\n"
     ]
    }
   ],
   "source": [
    "print(TCW1,TCW2,TCW3,TCW4,TCW5,TCW6, TCW7, TCW8)"
   ]
  },
  {
   "cell_type": "code",
   "execution_count": 69,
   "metadata": {},
   "outputs": [],
   "source": [
    "TCW1D = overShootLimit1D-underShootLimit1D\n",
    "TCW2D = overShootLimit2D-underShootLimit2D\n",
    "TCW3D = overShootLimit3D-underShootLimit3D\n",
    "TCW4D = overShootLimit4D-underShootLimit4D\n",
    "TCW5D = overShootLimit5D-underShootLimit5D\n",
    "TCW6D = overShootLimit6D-underShootLimit6D\n",
    "TCW7D = overShootLimit7D-underShootLimit7D\n",
    "TCW8D = overShootLimit8D-underShootLimit8D"
   ]
  },
  {
   "cell_type": "code",
   "execution_count": 70,
   "metadata": {},
   "outputs": [
    {
     "name": "stdout",
     "output_type": "stream",
     "text": [
      "0.4111841224512318 0.6291871824141708 1.0975665328842297 0.25649376845831284 1.0477221884648316 2.6108215742497123 0.5372889337013476 0.7852323145489208\n"
     ]
    }
   ],
   "source": [
    "print(TCW1D,TCW2D,TCW3D,TCW4D,TCW5D,TCW6D, TCW7D, TCW8D)"
   ]
  },
  {
   "cell_type": "code",
   "execution_count": 74,
   "metadata": {},
   "outputs": [
    {
     "name": "stderr",
     "output_type": "stream",
     "text": [
      "The PostScript backend does not support transparency; partially transparent artists will be rendered opaque.\n",
      "The PostScript backend does not support transparency; partially transparent artists will be rendered opaque.\n"
     ]
    },
    {
     "data": {
      "image/png": "[encoded data removed]",
      "text/plain": [
       "<Figure size 882x450 with 1 Axes>"
      ]
     },
     "metadata": {
      "needs_background": "light"
     },
     "output_type": "display_data"
    }
   ],
   "source": [
    "params = {'mathtext.default': 'regular' }\n",
    "plt.rcParams.update(params)\n",
    "\n",
    "plt.figure(figsize=(12.25,6.25))\n",
    "\n",
    "labels = [ 'Venus', 'Earth', 'Mars', 'Jupiter', 'Saturn', 'Titan', 'Uranus', 'Neptune']\n",
    "TCW    = [TCW1,TCW2,TCW3,TCW4,TCW5,TCW6, TCW7, TCW8]\n",
    "TCWD   = [TCW1D,TCW2D,TCW3D,TCW4D,TCW5D,TCW6D, TCW7D, TCW8D]\n",
    "\n",
    "x = np.arange(len(labels))  # the label locations\n",
    "width = 0.25  # the width of the bars\n",
    "\n",
    "ax = plt.gca()\n",
    "rects1 = ax.bar(x - width/2, TCW, width, label='Lift Modulation', color='black')\n",
    "rects2 = ax.bar(x + width/2, TCWD, width, label='Drag Modulation', facecolor='None', edgecolor='black', linewidth=1.0)\n",
    "\n",
    "# Add some text for labels, title and custom x-axis tick labels, etc.\n",
    "ax.set_ylabel('Theoretical Corridor Width, deg', fontsize=16)\n",
    "ax.set_xticks(x)\n",
    "ax.set_xticklabels(labels, fontsize=16)\n",
    "ax.legend(loc='upper left', fontsize=16)\n",
    "\n",
    "ax.tick_params(direction='in')\n",
    "ax.yaxis.set_ticks_position('both')\n",
    "ax.xaxis.set_ticks_position('both')\n",
    "ax.tick_params(axis='x',labelsize=16)\n",
    "ax.tick_params(axis='y',labelsize=16)\n",
    "\n",
    "plt.savefig('../data/jsr-paper/comparative-studies/tcw-histogram.png', dpi= 300,bbox_inches='tight')\n",
    "plt.savefig('../data/jsr-paper/comparative-studies/tcw-histogram.pdf', dpi=300,bbox_inches='tight')\n",
    "plt.savefig('../data/jsr-paper/comparative-studies/tcw-histogram.eps', dpi=300,bbox_inches='tight')"
   ]
  },
  {
   "cell_type": "code",
   "execution_count": 75,
   "metadata": {},
   "outputs": [],
   "source": [
    "vehicle1.setInitialState(150.0,0.0,0.0,11.0,0.0, underShootLimit1,0.0,0.0)\n",
    "vehicle2.setInitialState (140.0,0.0,0.0,11.5,0.0,underShootLimit2,0.0,0.0)\n",
    "vehicle3.setInitialState (120.0,0.0,0.0, 7.0,0.0,underShootLimit3,0.0,0.0)\n",
    "vehicle4.setInitialState(1000.0,0.0,0.0,60.0,0.0,underShootLimit4,0.0,0.0)\n",
    "vehicle5.setInitialState(1000.0,0.0,0.0,36.0,0.0,underShootLimit5,0.0,0.0)\n",
    "vehicle6.setInitialState(1000.0,0.0,0.0, 7.5,0.0,underShootLimit6,0.0,0.0)\n",
    "vehicle7.setInitialState(1000.0,0.0,0.0,25.0,0.0,underShootLimit7,0.0,0.0)\n",
    "vehicle8.setInitialState(1000.0,0.0,0.0,27.5,0.0,underShootLimit8,0.0,0.0)"
   ]
  },
  {
   "cell_type": "code",
   "execution_count": 76,
   "metadata": {},
   "outputs": [],
   "source": [
    "vehicle1.propogateEntry(2400.0, 0.1, 0.0)\n",
    "vehicle2.propogateEntry(2400.0, 0.1, 0.0)\n",
    "vehicle3.propogateEntry(2400.0, 0.1, 0.0)\n",
    "vehicle4.propogateEntry(2400.0, 0.1, 0.0)\n",
    "vehicle5.propogateEntry(2400.0, 0.1, 0.0)\n",
    "vehicle6.propogateEntry(6000.0, 0.1, 0.0)\n",
    "vehicle7.propogateEntry(3000.0, 0.1, 0.0)\n",
    "vehicle8.propogateEntry(3000.0, 0.1, 0.0)"
   ]
  },
  {
   "cell_type": "code",
   "execution_count": 77,
   "metadata": {},
   "outputs": [],
   "source": [
    "g1a = max(vehicle1.acc_net_g)\n",
    "g2a = max(vehicle2.acc_net_g)\n",
    "g3a = max(vehicle3.acc_net_g)\n",
    "g4a = max(vehicle4.acc_net_g)\n",
    "g5a = max(vehicle5.acc_net_g)\n",
    "g6a = max(vehicle6.acc_net_g)\n",
    "g7a = max(vehicle7.acc_net_g)\n",
    "g8a = max(vehicle8.acc_net_g)"
   ]
  },
  {
   "cell_type": "code",
   "execution_count": 78,
   "metadata": {},
   "outputs": [
    {
     "name": "stdout",
     "output_type": "stream",
     "text": [
      "18.374017950196038 10.374594885516943 8.360047065222073 8.789301073476533 2.8857312714267533 5.505619347483617 3.343822672976156 5.796824037992481\n"
     ]
    }
   ],
   "source": [
    "print(g1a, g2a, g3a, g4a, g5a, g6a, g7a, g8a)"
   ]
  },
  {
   "cell_type": "code",
   "execution_count": 79,
   "metadata": {},
   "outputs": [],
   "source": [
    "vehicle1.setInitialState(150.0,0.0,0.0,11.0,0.0, overShootLimit1,0.0,0.0)\n",
    "vehicle2.setInitialState (140.0,0.0,0.0,11.5,0.0,overShootLimit2,0.0,0.0)\n",
    "vehicle3.setInitialState (120.0,0.0,0.0, 7.0,0.0,overShootLimit3,0.0,0.0)\n",
    "vehicle4.setInitialState(1000.0,0.0,0.0,60.0,0.0,overShootLimit4,0.0,0.0)\n",
    "vehicle5.setInitialState(1000.0,0.0,0.0,36.0,0.0,overShootLimit5,0.0,0.0)\n",
    "vehicle6.setInitialState(1000.0,0.0,0.0, 7.5,0.0,overShootLimit6,0.0,0.0)\n",
    "vehicle7.setInitialState(1000.0,0.0,0.0,25.0,0.0,overShootLimit7,0.0,0.0)\n",
    "vehicle8.setInitialState(1000.0,0.0,0.0,27.5,0.0,overShootLimit8,0.0,0.0)"
   ]
  },
  {
   "cell_type": "code",
   "execution_count": 80,
   "metadata": {},
   "outputs": [],
   "source": [
    "vehicle1.propogateEntry(2400.0, 0.1, 180.0)\n",
    "vehicle2.propogateEntry(2400.0, 0.1, 180.0)\n",
    "vehicle3.propogateEntry(2400.0, 0.1, 180.0)\n",
    "vehicle4.propogateEntry(2400.0, 0.1, 180.0)\n",
    "vehicle5.propogateEntry(2400.0, 0.1, 180.0)\n",
    "vehicle6.propogateEntry(6000.0, 0.1, 180.0)\n",
    "vehicle7.propogateEntry(3000.0, 0.1, 180.0)\n",
    "vehicle8.propogateEntry(3000.0, 0.1, 180.0)"
   ]
  },
  {
   "cell_type": "code",
   "execution_count": 81,
   "metadata": {},
   "outputs": [],
   "source": [
    "g1b = max(vehicle1.acc_net_g)\n",
    "g2b = max(vehicle2.acc_net_g)\n",
    "g3b = max(vehicle3.acc_net_g)\n",
    "g4b = max(vehicle4.acc_net_g)\n",
    "g5b = max(vehicle5.acc_net_g)\n",
    "g6b = max(vehicle6.acc_net_g)\n",
    "g7b = max(vehicle7.acc_net_g)\n",
    "g8b = max(vehicle8.acc_net_g)"
   ]
  },
  {
   "cell_type": "code",
   "execution_count": 82,
   "metadata": {},
   "outputs": [
    {
     "name": "stdout",
     "output_type": "stream",
     "text": [
      "2.316415423595727 2.3951724238463665 2.030574858793238 6.047715599187108 2.2109983102117203 2.1239918744654416 1.697074847865149 3.4556776816180337\n"
     ]
    }
   ],
   "source": [
    "print(g1b, g2b, g3b, g4b, g5b, g6b, g7b, g8b)"
   ]
  },
  {
   "cell_type": "code",
   "execution_count": 83,
   "metadata": {},
   "outputs": [],
   "source": [
    "vehicle1D.setInitialState(150.0,0.0,0.0,11.0,0.0, underShootLimit1D,0.0,0.0)\n",
    "vehicle2D.setInitialState (140.0,0.0,0.0,11.5,0.0,underShootLimit2D,0.0,0.0)\n",
    "vehicle3D.setInitialState (120.0,0.0,0.0, 7.0,0.0,underShootLimit3D,0.0,0.0)\n",
    "vehicle4D.setInitialState(1000.0,0.0,0.0,60.0,0.0,underShootLimit4D,0.0,0.0)\n",
    "vehicle5D.setInitialState(1000.0,0.0,0.0,36.0,0.0,underShootLimit5D,0.0,0.0)\n",
    "vehicle6D.setInitialState(1000.0,0.0,0.0, 7.5,0.0,underShootLimit6D,0.0,0.0)\n",
    "vehicle7D.setInitialState(1000.0,0.0,0.0,25.0,0.0,underShootLimit7D,0.0,0.0)\n",
    "vehicle8D.setInitialState(1000.0,0.0,0.0,27.5,0.0,underShootLimit8D,0.0,0.0)"
   ]
  },
  {
   "cell_type": "code",
   "execution_count": 84,
   "metadata": {},
   "outputs": [],
   "source": [
    "vehicle1D.propogateEntry(2400.0, 0.1, 0.0)\n",
    "vehicle2D.propogateEntry(2400.0, 0.1, 0.0)\n",
    "vehicle3D.propogateEntry(2400.0, 0.1, 0.0)\n",
    "vehicle4D.propogateEntry(2400.0, 0.1, 0.0)\n",
    "vehicle5D.propogateEntry(2400.0, 0.1, 0.0)\n",
    "vehicle6D.propogateEntry(6000.0, 0.1, 0.0)\n",
    "vehicle7D.propogateEntry(3000.0, 0.1, 0.0)\n",
    "vehicle8D.propogateEntry(3000.0, 0.1, 0.0)"
   ]
  },
  {
   "cell_type": "code",
   "execution_count": 85,
   "metadata": {},
   "outputs": [],
   "source": [
    "g1aD = max(vehicle1D.acc_net_g)\n",
    "g2aD = max(vehicle2D.acc_net_g)\n",
    "g3aD = max(vehicle3D.acc_net_g)\n",
    "g4aD = max(vehicle4D.acc_net_g)\n",
    "g5aD = max(vehicle5D.acc_net_g)\n",
    "g6aD = max(vehicle6D.acc_net_g)\n",
    "g7aD = max(vehicle7D.acc_net_g)\n",
    "g8aD = max(vehicle8D.acc_net_g)"
   ]
  },
  {
   "cell_type": "code",
   "execution_count": 86,
   "metadata": {},
   "outputs": [
    {
     "name": "stdout",
     "output_type": "stream",
     "text": [
      "5.657672791677737 4.666411475961085 3.820623202398641 29.092908983227836 7.901839420794543 3.148209939839383 3.3776314306001205 8.246800209301407\n"
     ]
    }
   ],
   "source": [
    "print(g1aD, g2aD, g3aD, g4aD, g5aD, g6aD, g7aD, g8aD)"
   ]
  },
  {
   "cell_type": "code",
   "execution_count": 87,
   "metadata": {},
   "outputs": [],
   "source": [
    "vehicle1D.setInitialState(150.0,0.0,0.0,11.0,0.0, overShootLimit1D,0.0,0.0)\n",
    "vehicle2D.setInitialState (140.0,0.0,0.0,11.5,0.0,overShootLimit2D,0.0,0.0)\n",
    "vehicle3D.setInitialState (120.0,0.0,0.0, 7.0,0.0,overShootLimit3D,0.0,0.0)\n",
    "vehicle4D.setInitialState(1000.0,0.0,0.0,60.0,0.0,overShootLimit4D,0.0,0.0)\n",
    "vehicle5D.setInitialState(1000.0,0.0,0.0,36.0,0.0,overShootLimit5D,0.0,0.0)\n",
    "vehicle6D.setInitialState(1000.0,0.0,0.0, 7.5,0.0,overShootLimit6D,0.0,0.0)\n",
    "vehicle7D.setInitialState(1000.0,0.0,0.0,25.0,0.0,overShootLimit7D,0.0,0.0)\n",
    "vehicle8D.setInitialState(1000.0,0.0,0.0,27.5,0.0,overShootLimit8D,0.0,0.0)"
   ]
  },
  {
   "cell_type": "code",
   "execution_count": 88,
   "metadata": {},
   "outputs": [],
   "source": [
    "vehicle1D.propogateEntry(2400.0, 0.1, 0.0)\n",
    "vehicle2D.propogateEntry(2400.0, 0.1, 0.0)\n",
    "vehicle3D.propogateEntry(2400.0, 0.1, 0.0)\n",
    "vehicle4D.propogateEntry(2400.0, 0.1, 0.0)\n",
    "vehicle5D.propogateEntry(2400.0, 0.1, 0.0)\n",
    "vehicle6D.propogateEntry(6000.0, 0.1, 0.0)\n",
    "vehicle7D.propogateEntry(3000.0, 0.1, 0.0)\n",
    "vehicle8D.propogateEntry(3000.0, 0.1, 0.0)"
   ]
  },
  {
   "cell_type": "code",
   "execution_count": 89,
   "metadata": {},
   "outputs": [],
   "source": [
    "g1bD = max(vehicle1D.acc_net_g)\n",
    "g2bD = max(vehicle2D.acc_net_g)\n",
    "g3bD = max(vehicle3D.acc_net_g)\n",
    "g4bD = max(vehicle4D.acc_net_g)\n",
    "g5bD = max(vehicle5D.acc_net_g)\n",
    "g6bD = max(vehicle6D.acc_net_g)\n",
    "g7bD = max(vehicle7D.acc_net_g)\n",
    "g8bD = max(vehicle8D.acc_net_g)"
   ]
  },
  {
   "cell_type": "code",
   "execution_count": 90,
   "metadata": {},
   "outputs": [
    {
     "name": "stdout",
     "output_type": "stream",
     "text": [
      "0.9687154975603938 0.8319068440187664 0.749533855592529 5.1808606325354125 1.4342199854535276 0.8411918340738396 0.47340569464643756 1.4942989124917714\n"
     ]
    }
   ],
   "source": [
    "print(g1bD, g2bD, g3bD, g4bD, g5bD, g6bD, g7bD, g8bD)"
   ]
  },
  {
   "cell_type": "code",
   "execution_count": 92,
   "metadata": {},
   "outputs": [
    {
     "name": "stderr",
     "output_type": "stream",
     "text": [
      "The PostScript backend does not support transparency; partially transparent artists will be rendered opaque.\n",
      "The PostScript backend does not support transparency; partially transparent artists will be rendered opaque.\n"
     ]
    },
    {
     "data": {
      "image/png": "[encoded data removed]",
      "text/plain": [
       "<Figure size 882x450 with 1 Axes>"
      ]
     },
     "metadata": {
      "needs_background": "light"
     },
     "output_type": "display_data"
    }
   ],
   "source": [
    "params = {'mathtext.default': 'regular' }\n",
    "plt.rcParams.update(params)\n",
    "\n",
    "plt.figure(figsize=(12.25,6.25))\n",
    "\n",
    "labels = [ 'Venus', 'Earth', 'Mars', 'Jupiter', 'Saturn', 'Titan', 'Uranus', 'Neptune']\n",
    "\n",
    "\n",
    "g1     = 0.5*(g1a+g1b) \n",
    "g2     = 0.5*(g2a+g2b) \n",
    "g3     = 0.5*(g3a+g3b) \n",
    "g4     = 0.5*(g4a+g4b) \n",
    "g5     = 0.5*(g5a+g5b) \n",
    "g6     = 0.5*(g6a+g6b) \n",
    "g7     = 0.5*(g7a+g7b) \n",
    "g8     = 0.5*(g8a+g8b) \n",
    "\n",
    "\n",
    "g1D     = 0.5*(g1aD+g1bD) \n",
    "g2D     = 0.5*(g2aD+g2bD) \n",
    "g3D     = 0.5*(g3aD+g3bD) \n",
    "g4D     = 0.5*(g4aD+g4bD) \n",
    "g5D     = 0.5*(g5aD+g5bD) \n",
    "g6D     = 0.5*(g6aD+g6bD) \n",
    "g7D     = 0.5*(g7aD+g7bD) \n",
    "g8D     = 0.5*(g8aD+g8bD) \n",
    "\n",
    "\n",
    "\n",
    "g    = [g1,g2,g3,g4,g5a,g6a, g7a,g8a]\n",
    "gD   = [g1D,g2D,g3D,g4D,g5D,g6D, g7D, g8D]\n",
    "\n",
    "x = np.arange(len(labels))  # the label locations\n",
    "width = 0.25  # the width of the bars\n",
    "\n",
    "ax = plt.gca()\n",
    "rects1 = ax.bar(x - width/2, g, width, label='Lift Modulation', color='black')\n",
    "rects2 = ax.bar(x + width/2, gD, width, label='Drag Modulation', facecolor='None', edgecolor='black', linewidth=1.0)\n",
    "\n",
    "# Add some text for labels, title and custom x-axis tick labels, etc.\n",
    "ax.set_ylabel('Peak deceleration, Earth g', fontsize=16)\n",
    "ax.set_xticks(x)\n",
    "ax.set_xticklabels(labels, fontsize=16)\n",
    "ax.legend(loc='upper right', fontsize=16)\n",
    "\n",
    "ax.tick_params(direction='in')\n",
    "ax.yaxis.set_ticks_position('both')\n",
    "ax.xaxis.set_ticks_position('both')\n",
    "ax.tick_params(axis='x',labelsize=16)\n",
    "ax.tick_params(axis='y',labelsize=16)\n",
    "\n",
    "plt.savefig('../data/jsr-paper/comparative-studies/g-load-histogram.png', dpi= 300,bbox_inches='tight')\n",
    "plt.savefig('../data/jsr-paper/comparative-studies/g-load-histogram.pdf', dpi=300,bbox_inches='tight')\n",
    "plt.savefig('../data/jsr-paper/comparative-studies/g-load-histogram.eps', dpi=300,bbox_inches='tight')"
   ]
  },
  {
   "cell_type": "code",
   "execution_count": 93,
   "metadata": {},
   "outputs": [],
   "source": [
    "vehicle1.setInitialState(150.0,0.0,0.0,11.0,0.0, underShootLimit1,0.0,0.0)\n",
    "vehicle2.setInitialState (140.0,0.0,0.0,11.5,0.0,underShootLimit2,0.0,0.0)\n",
    "vehicle3.setInitialState (120.0,0.0,0.0, 7.0,0.0,underShootLimit3,0.0,0.0)\n",
    "vehicle4.setInitialState(1000.0,0.0,0.0,60.0,0.0,underShootLimit4,0.0,0.0)\n",
    "vehicle5.setInitialState(1000.0,0.0,0.0,36.0,0.0,underShootLimit5,0.0,0.0)\n",
    "vehicle6.setInitialState(1000.0,0.0,0.0, 7.5,0.0,underShootLimit6,0.0,0.0)\n",
    "vehicle7.setInitialState(1000.0,0.0,0.0,25.0,0.0,underShootLimit7,0.0,0.0)\n",
    "vehicle8.setInitialState(1000.0,0.0,0.0,27.5,0.0,underShootLimit8,0.0,0.0)"
   ]
  },
  {
   "cell_type": "code",
   "execution_count": 94,
   "metadata": {},
   "outputs": [],
   "source": [
    "vehicle1.propogateEntry(2400.0, 0.1, 0.0)\n",
    "vehicle2.propogateEntry(2400.0, 0.1, 0.0)\n",
    "vehicle3.propogateEntry(2400.0, 0.1, 0.0)\n",
    "vehicle4.propogateEntry(2400.0, 0.1, 0.0)\n",
    "vehicle5.propogateEntry(2400.0, 0.1, 0.0)\n",
    "vehicle6.propogateEntry(6000.0, 0.1, 0.0)\n",
    "vehicle7.propogateEntry(3000.0, 0.1, 0.0)\n",
    "vehicle8.propogateEntry(3000.0, 0.1, 0.0)"
   ]
  },
  {
   "cell_type": "code",
   "execution_count": 95,
   "metadata": {},
   "outputs": [],
   "source": [
    "q1a = max(vehicle1.q_stag_total)\n",
    "q2a = max(vehicle2.q_stag_total)\n",
    "q3a = max(vehicle3.q_stag_total)\n",
    "q4a = max(vehicle4.q_stag_total)\n",
    "q5a = max(vehicle5.q_stag_total)\n",
    "q6a = max(vehicle6.q_stag_total)\n",
    "q7a = max(vehicle7.q_stag_total)\n",
    "q8a = max(vehicle8.q_stag_total)"
   ]
  },
  {
   "cell_type": "code",
   "execution_count": 96,
   "metadata": {
    "scrolled": true
   },
   "outputs": [
    {
     "name": "stdout",
     "output_type": "stream",
     "text": [
      "642.1276341392222 614.2559824945225 121.65317456170806 7191.927633087862 805.1978133056165 94.69176577591485 627.2842478635683 1182.2291718253605\n"
     ]
    }
   ],
   "source": [
    "print(q1a, q2a, q3a, q4a, q5a, q6a, q7a, q8a)"
   ]
  },
  {
   "cell_type": "code",
   "execution_count": 97,
   "metadata": {},
   "outputs": [],
   "source": [
    "Q1a = max(vehicle1.heatload)\n",
    "Q2a = max(vehicle2.heatload)\n",
    "Q3a = max(vehicle3.heatload)\n",
    "Q4a = max(vehicle4.heatload)\n",
    "Q5a = max(vehicle5.heatload)\n",
    "Q6a = max(vehicle6.heatload)\n",
    "Q7a = max(vehicle7.heatload)\n",
    "Q8a = max(vehicle8.heatload)"
   ]
  },
  {
   "cell_type": "code",
   "execution_count": 98,
   "metadata": {},
   "outputs": [
    {
     "name": "stdout",
     "output_type": "stream",
     "text": [
      "18044.889764786225 24664.83198000201 6584.470202019118 404156.7218334246 129041.91277755701 10503.10537602897 132108.93936047758 157527.4898229573\n"
     ]
    }
   ],
   "source": [
    "print(Q1a, Q2a, Q3a, Q4a, Q5a, Q6a, Q7a, Q8a)"
   ]
  },
  {
   "cell_type": "code",
   "execution_count": 99,
   "metadata": {},
   "outputs": [
    {
     "data": {
      "text/plain": [
       "[<matplotlib.lines.Line2D at 0x1adfba28820>]"
      ]
     },
     "execution_count": 99,
     "metadata": {},
     "output_type": "execute_result"
    },
    {
     "data": {
      "image/png": "[encoded data removed]",
      "text/plain": [
       "<Figure size 432x288 with 1 Axes>"
      ]
     },
     "metadata": {
      "needs_background": "light"
     },
     "output_type": "display_data"
    }
   ],
   "source": [
    "plt.plot(vehicle1.stag_pres_atm, vehicle1.q_stag_total)\n",
    "plt.plot(vehicle2.stag_pres_atm, vehicle2.q_stag_total)\n",
    "plt.plot(vehicle3.stag_pres_atm, vehicle3.q_stag_total)\n",
    "#plt.plot(vehicle4.stag_pres_atm, vehicle4.q_stag_total)\n",
    "#plt.plot(vehicle5.stag_pres_atm, vehicle5.q_stag_total)\n",
    "plt.plot(vehicle6.stag_pres_atm, vehicle6.q_stag_total)\n",
    "plt.plot(vehicle7.stag_pres_atm, vehicle7.q_stag_total)\n",
    "plt.plot(vehicle8.stag_pres_atm, vehicle8.q_stag_total)"
   ]
  },
  {
   "cell_type": "code",
   "execution_count": 101,
   "metadata": {},
   "outputs": [
    {
     "data": {
      "image/png": "[encoded data removed]",
      "text/plain": [
       "<Figure size 450x450 with 1 Axes>"
      ]
     },
     "metadata": {
      "needs_background": "light"
     },
     "output_type": "display_data"
    }
   ],
   "source": [
    "params = {'mathtext.default': 'regular' }\n",
    "plt.rcParams.update(params)\n",
    "\n",
    "plt.figure(figsize=(6.25,6.25))\n",
    "ax = plt.gca()\n",
    "\n",
    "plt.plot(vehicle1.stag_pres_atm, vehicle1.q_stag_total, linewidth=1.5, color='xkcd:orange')\n",
    "plt.plot(vehicle2.stag_pres_atm, vehicle2.q_stag_total, linewidth=1.5, color='xkcd:pastel blue')\n",
    "plt.plot(vehicle3.stag_pres_atm, vehicle3.q_stag_total, linewidth=1.5, color='xkcd:light red')\n",
    "#plt.plot(vehicle4.stag_pres_atm, vehicle4.q_stag_total, linewidth=2.0, color='xkcd:brown')\n",
    "#plt.plot(vehicle5.stag_pres_atm, vehicle5.q_stag_total, linewidth=2.0, color='xkcd:magenta')\n",
    "plt.plot(vehicle6.stag_pres_atm, vehicle6.q_stag_total, linewidth=1.5, color='xkcd:goldenrod')\n",
    "plt.plot(vehicle7.stag_pres_atm, vehicle7.q_stag_total*1.6, linewidth=1.5, color='xkcd:light turquoise')\n",
    "plt.plot(vehicle8.stag_pres_atm, vehicle8.q_stag_total, linewidth=1.5, color='xkcd:cerulean blue')\n",
    "\n",
    "\n",
    "ax.tick_params(direction='in')\n",
    "ax.yaxis.set_ticks_position('both')\n",
    "ax.xaxis.set_ticks_position('both')\n",
    "ax.tick_params(axis='x',labelsize=16)\n",
    "ax.tick_params(axis='y',labelsize=16)\n",
    "\n",
    "plt.xlabel('Stagnation pressure, '+r'$atm$', fontsize=16)\n",
    "plt.ylabel('Stagnation-point heat rate '+r'$\\dot{q}, W/cm^2$', fontsize=16)\n",
    "\n",
    "plt.xlim([0.0,0.35])\n",
    "plt.ylim([-80.0,1300])\n",
    "\n",
    "plt.text( 0.25, 700, 'Venus' ,color='xkcd:orange', fontsize=16)\n",
    "plt.text( 0.13, 650, 'Earth' ,color='xkcd:pastel blue', fontsize=16)\n",
    "plt.text( 0.17, 100, 'Mars' ,color='xkcd:light red', fontsize=16)\n",
    "plt.text( 0.05, -45, 'Titan' ,color='xkcd:goldenrod', fontsize=16)\n",
    "#plt.text( 170, 4000, 'Saturn' ,color='xkcd:magenta', fontsize=12)\n",
    "plt.text( 0.06, 800 ,  'Uranus' ,color='xkcd:light turquoise', fontsize=16)\n",
    "plt.text( 0.12 ,980,  'Neptune' ,color='xkcd:cerulean blue', fontsize=16)\n",
    "#plt.text( 640 ,16000,  'Jupiter' ,color='xkcd:brown', fontsize=8)\n",
    "\n",
    "plt.savefig('../data/jsr-paper/comparative-studies/heat-rate-stag-pres.png', dpi= 300,bbox_inches='tight')\n",
    "plt.savefig('../data/jsr-paper/comparative-studies/heat-rate-stag-pres.pdf', dpi=300,bbox_inches='tight')\n",
    "plt.savefig('../data/jsr-paper/comparative-studies/heat-rate-stag-pres.eps', dpi=300,bbox_inches='tight')"
   ]
  },
  {
   "cell_type": "code",
   "execution_count": 102,
   "metadata": {},
   "outputs": [],
   "source": [
    "vehicle1.setInitialState(150.0,0.0,0.0,11.0,0.0, overShootLimit1,0.0,0.0)\n",
    "vehicle2.setInitialState (140.0,0.0,0.0,11.5,0.0,overShootLimit2,0.0,0.0)\n",
    "vehicle3.setInitialState (120.0,0.0,0.0, 7.0,0.0,overShootLimit3,0.0,0.0)\n",
    "vehicle4.setInitialState(1000.0,0.0,0.0,60.0,0.0,overShootLimit4,0.0,0.0)\n",
    "vehicle5.setInitialState(1000.0,0.0,0.0,36.0,0.0,overShootLimit5,0.0,0.0)\n",
    "vehicle6.setInitialState(1000.0,0.0,0.0, 7.5,0.0,overShootLimit6,0.0,0.0)\n",
    "vehicle7.setInitialState(1000.0,0.0,0.0,25.0,0.0,overShootLimit7,0.0,0.0)\n",
    "vehicle8.setInitialState(1000.0,0.0,0.0,27.5,0.0,overShootLimit8,0.0,0.0)"
   ]
  },
  {
   "cell_type": "code",
   "execution_count": 103,
   "metadata": {},
   "outputs": [],
   "source": [
    "vehicle1.propogateEntry(2400.0, 0.1, 180.0)\n",
    "vehicle2.propogateEntry(2400.0, 0.1, 180.0)\n",
    "vehicle3.propogateEntry(2400.0, 0.1, 180.0)\n",
    "vehicle4.propogateEntry(2400.0, 0.1, 180.0)\n",
    "vehicle5.propogateEntry(2400.0, 0.1, 180.0)\n",
    "vehicle6.propogateEntry(6000.0, 0.1, 180.0)\n",
    "vehicle7.propogateEntry(3000.0, 0.1, 180.0)\n",
    "vehicle8.propogateEntry(3000.0, 0.1, 180.0)"
   ]
  },
  {
   "cell_type": "code",
   "execution_count": 104,
   "metadata": {},
   "outputs": [],
   "source": [
    "q1b = max(vehicle1.q_stag_total)\n",
    "q2b = max(vehicle2.q_stag_total)\n",
    "q3b = max(vehicle3.q_stag_total)\n",
    "q4b = max(vehicle4.q_stag_total)\n",
    "q5b = max(vehicle5.q_stag_total)\n",
    "q6b = max(vehicle6.q_stag_total)\n",
    "q7b = max(vehicle7.q_stag_total)\n",
    "q8b = max(vehicle8.q_stag_total)"
   ]
  },
  {
   "cell_type": "code",
   "execution_count": 105,
   "metadata": {},
   "outputs": [
    {
     "name": "stdout",
     "output_type": "stream",
     "text": [
      "213.70689411138312 249.14696923482092 66.72466001880417 4997.522281418908 703.3820311809341 65.20473125440216 472.8205177325455 959.4442316298216\n"
     ]
    }
   ],
   "source": [
    "print(q1b, q2b, q3b, q4b, q5b, q6b, q7b, q8b)"
   ]
  },
  {
   "cell_type": "code",
   "execution_count": 106,
   "metadata": {},
   "outputs": [],
   "source": [
    "Q1b = max(vehicle1.heatload)\n",
    "Q2b = max(vehicle2.heatload)\n",
    "Q3b = max(vehicle3.heatload)\n",
    "Q4b = max(vehicle4.heatload)\n",
    "Q5b = max(vehicle5.heatload)\n",
    "Q6b = max(vehicle6.heatload)\n",
    "Q7b = max(vehicle7.heatload)\n",
    "Q8b = max(vehicle8.heatload)"
   ]
  },
  {
   "cell_type": "code",
   "execution_count": 107,
   "metadata": {},
   "outputs": [
    {
     "name": "stdout",
     "output_type": "stream",
     "text": [
      "41014.212051477145 40440.18449134592 12383.296999224456 423193.2157923033 142840.38811816543 15666.053682169444 177518.4451903292 192638.13137657772\n"
     ]
    }
   ],
   "source": [
    "print(Q1b, Q2b, Q3b, Q4b, Q5b, Q6b, Q7b, Q8b)"
   ]
  },
  {
   "cell_type": "code",
   "execution_count": 108,
   "metadata": {},
   "outputs": [
    {
     "data": {
      "image/png": "[encoded data removed]",
      "text/plain": [
       "<Figure size 450x450 with 1 Axes>"
      ]
     },
     "metadata": {
      "needs_background": "light"
     },
     "output_type": "display_data"
    }
   ],
   "source": [
    "params = {'mathtext.default': 'regular' }\n",
    "plt.rcParams.update(params)\n",
    "\n",
    "plt.figure(figsize=(6.25,6.25))\n",
    "ax = plt.gca()\n",
    "\n",
    "#arbitrary scaling factors to make figure nice\n",
    "ax.add_patch(Rectangle((Q1a/1E3,q1a), (Q1b-Q1a)/1E3, q1a-q1b,  alpha=1, facecolor='xkcd:orange'))\n",
    "ax.add_patch(Rectangle((Q2a/1E3,q2a), (Q2b-Q2a)*3/1E3, q2a-q2b,  alpha=1, facecolor='xkcd:pastel blue'))\n",
    "ax.add_patch(Rectangle((Q3a/1E3,q3a), (Q3b-Q3a)*4/1E3, q3a-q3b,  alpha=1, facecolor='xkcd:light red'))\n",
    "ax.add_patch(Rectangle((Q4a/1E3,q4a), (Q4b-Q4a)*100/1E3, (q4a-q4b)*3,  alpha=1, facecolor='xkcd:brown'))\n",
    "ax.add_patch(Rectangle((Q5a/1E3,q5a*2), (Q5b-Q5a)*30/1E3, (q5a-q5b)*20,  alpha=1, facecolor='xkcd:magenta'))\n",
    "ax.add_patch(Rectangle((Q6a/1E3,q6a), (Q6b-Q6a)*7/1E3, q6a-q6b,  alpha=1, facecolor='xkcd:goldenrod'))\n",
    "ax.add_patch(Rectangle((Q7a/1E3,q7a), (Q7b-Q7a)*7/1E3, (q7a-q7b)*8,  alpha=1, facecolor='xkcd:light turquoise'))\n",
    "ax.add_patch(Rectangle((Q8a/1E3,q8a), (Q8b-Q8a)*12/1E3, (q8a-q8b)*8,  alpha=1, facecolor='xkcd:cerulean blue'))\n",
    "\n",
    "\n",
    "\n",
    "\n",
    "\n",
    "plt.text( 10, 1220, 'Venus' ,color='xkcd:orange', fontsize=16)\n",
    "plt.text( 35, 450, 'Earth' ,color='xkcd:pastel blue', fontsize=16)\n",
    "plt.text( 10, 200, 'Mars' ,color='xkcd:light red', fontsize=16)\n",
    "plt.text( 35, 70, 'Titan' ,color='xkcd:goldenrod', fontsize=16)\n",
    "plt.text( 170, 4000, 'Saturn' ,color='xkcd:magenta', fontsize=16)\n",
    "plt.text( 500 ,600 ,  'Uranus' ,color='xkcd:light turquoise', fontsize=16)\n",
    "plt.text( 650 ,980,  'Neptune' ,color='xkcd:cerulean blue', fontsize=16)\n",
    "plt.text( 640 ,16000,  'Jupiter' ,color='xkcd:brown', fontsize=16)\n",
    "\n",
    "#plt.text( 19, -29.6-5, 'Lift modulation' ,color='xkcd:black', fontsize=8)\n",
    "#plt.text( 19, -32.6-5, 'Drag modulation' ,color='xkcd:black', fontsize=8)\n",
    "\n",
    "\n",
    "ax = plt.gca()\n",
    "ax.set_xscale('log')\n",
    "ax.set_yscale('log')\n",
    "\n",
    "ax.tick_params(direction='in')\n",
    "ax.yaxis.set_ticks_position('both')\n",
    "\n",
    "ax.xaxis.set_ticks_position('both')\n",
    "ax.tick_params(axis='x',labelsize=16)\n",
    "ax.tick_params(axis='y',labelsize=16)\n",
    "\n",
    "\n",
    "ax.xaxis.set_tick_params(direction='in', which='both')\n",
    "ax.yaxis.set_tick_params(direction='in', which='both')\n",
    "\n",
    "#ax.xaxis.set_tick_params(width=2, length=8)\n",
    "#ax.yaxis.set_tick_params(width=2, length=8)\n",
    "\n",
    "#ax.xaxis.set_tick_params(width=1, length=4, which='minor')\n",
    "#ax.yaxis.set_tick_params(width=1, length=4, which='minor')\n",
    "\n",
    "\n",
    "plt.xlim([5,3000])\n",
    "plt.ylim([50,30000])\n",
    "\n",
    "plt.xlabel('Stagnation-point heat load '+r'$Q, kJ/cm^2$', fontsize=16)\n",
    "plt.ylabel('Stagnation-point heat rate '+r'$\\dot{q}, W/cm^2$', fontsize=16)\n",
    "\n",
    "ax.tick_params(direction='in')\n",
    "ax.yaxis.set_ticks_position('both')\n",
    "ax.xaxis.set_ticks_position('both')\n",
    "ax.tick_params(axis='x',labelsize=16)\n",
    "ax.tick_params(axis='y',labelsize=16)\n",
    "\n",
    "plt.savefig('../data/jsr-paper/comparative-studies/heating-planets.png', dpi= 300,bbox_inches='tight')\n",
    "plt.savefig('../data/jsr-paper/comparative-studies/heating-planets.pdf', dpi=300,bbox_inches='tight')\n",
    "plt.savefig('../data/jsr-paper/comparative-studies/heating-planets.eps', dpi=300,bbox_inches='tight')"
   ]
  },
  {
   "cell_type": "code",
   "execution_count": 109,
   "metadata": {},
   "outputs": [],
   "source": [
    "vehicle1D.setInitialState(150.0,0.0,0.0,11.0,0.0, underShootLimit1D,0.0,0.0)\n",
    "vehicle2D.setInitialState (140.0,0.0,0.0,11.5,0.0,underShootLimit2D,0.0,0.0)\n",
    "vehicle3D.setInitialState (120.0,0.0,0.0, 7.0,0.0,underShootLimit3D,0.0,0.0)\n",
    "vehicle4D.setInitialState(1000.0,0.0,0.0,60.0,0.0,underShootLimit4D,0.0,0.0)\n",
    "vehicle5D.setInitialState(1000.0,0.0,0.0,36.0,0.0,underShootLimit5D,0.0,0.0)\n",
    "vehicle6D.setInitialState(1000.0,0.0,0.0, 7.5,0.0,underShootLimit6D,0.0,0.0)\n",
    "vehicle7D.setInitialState(1000.0,0.0,0.0,25.0,0.0,underShootLimit7D,0.0,0.0)\n",
    "vehicle8D.setInitialState(1000.0,0.0,0.0,27.5,0.0,underShootLimit8D,0.0,0.0)"
   ]
  },
  {
   "cell_type": "code",
   "execution_count": 110,
   "metadata": {},
   "outputs": [],
   "source": [
    "vehicle1D.propogateEntry(2400.0, 0.1, 0.0)\n",
    "vehicle2D.propogateEntry(2400.0, 0.1, 0.0)\n",
    "vehicle3D.propogateEntry(2400.0, 0.1, 0.0)\n",
    "vehicle4D.propogateEntry(2400.0, 0.1, 0.0)\n",
    "vehicle5D.propogateEntry(2400.0, 0.1, 0.0)\n",
    "vehicle6D.propogateEntry(6000.0, 0.1, 0.0)\n",
    "vehicle7D.propogateEntry(3000.0, 0.1, 0.0)\n",
    "vehicle8D.propogateEntry(3000.0, 0.1, 0.0)"
   ]
  },
  {
   "cell_type": "code",
   "execution_count": 111,
   "metadata": {},
   "outputs": [],
   "source": [
    "q1aD = max(vehicle1D.q_stag_total)\n",
    "q2aD = max(vehicle2D.q_stag_total)\n",
    "q3aD = max(vehicle3D.q_stag_total)\n",
    "q4aD = max(vehicle4D.q_stag_total)\n",
    "q5aD = max(vehicle5D.q_stag_total)\n",
    "q6aD = max(vehicle6D.q_stag_total)\n",
    "q7aD = max(vehicle7D.q_stag_total)\n",
    "q8aD = max(vehicle8D.q_stag_total)"
   ]
  },
  {
   "cell_type": "code",
   "execution_count": 112,
   "metadata": {},
   "outputs": [
    {
     "name": "stdout",
     "output_type": "stream",
     "text": [
      "745.7953451113492 705.0900492653783 232.24889779550733 28919.33825256155 3094.717901751404 202.9699291503758 1481.0197840024714 2494.010736865881\n"
     ]
    }
   ],
   "source": [
    "print(q1aD, q2aD, q3aD, q4aD, q5aD, q6aD, q7aD, q8aD)"
   ]
  },
  {
   "cell_type": "code",
   "execution_count": 113,
   "metadata": {},
   "outputs": [],
   "source": [
    "Q1aD = max(vehicle1D.heatload)\n",
    "Q2aD = max(vehicle2D.heatload)\n",
    "Q3aD = max(vehicle3D.heatload)\n",
    "Q4aD = max(vehicle4D.heatload)\n",
    "Q5aD = max(vehicle5D.heatload)\n",
    "Q6aD = max(vehicle6D.heatload)\n",
    "Q7aD = max(vehicle7D.heatload)\n",
    "Q8aD = max(vehicle8D.heatload)"
   ]
  },
  {
   "cell_type": "code",
   "execution_count": 114,
   "metadata": {},
   "outputs": [
    {
     "name": "stdout",
     "output_type": "stream",
     "text": [
      "63225.013843509114 70037.36642182757 24048.699415528376 2022034.680126669 589062.4330898894 34263.17986232094 703556.0767908201 456933.58759085485\n"
     ]
    }
   ],
   "source": [
    "print(Q1aD, Q2aD, Q3aD, Q4aD, Q5aD, Q6aD, Q7aD, Q8aD)"
   ]
  },
  {
   "cell_type": "code",
   "execution_count": 115,
   "metadata": {},
   "outputs": [],
   "source": [
    "vehicle1D.setInitialState(150.0,0.0,0.0,11.0,0.0, overShootLimit1D,0.0,0.0)\n",
    "vehicle2D.setInitialState (140.0,0.0,0.0,11.5,0.0,overShootLimit2D,0.0,0.0)\n",
    "vehicle3D.setInitialState (120.0,0.0,0.0, 7.0,0.0,overShootLimit3D,0.0,0.0)\n",
    "vehicle4D.setInitialState(1000.0,0.0,0.0,60.0,0.0,overShootLimit4D,0.0,0.0)\n",
    "vehicle5D.setInitialState(1000.0,0.0,0.0,36.0,0.0,overShootLimit5D,0.0,0.0)\n",
    "vehicle6D.setInitialState(1000.0,0.0,0.0, 7.5,0.0,overShootLimit6D,0.0,0.0)\n",
    "vehicle7D.setInitialState(1000.0,0.0,0.0,25.0,0.0,overShootLimit7D,0.0,0.0)\n",
    "vehicle8D.setInitialState(1000.0,0.0,0.0,27.5,0.0,overShootLimit8D,0.0,0.0)"
   ]
  },
  {
   "cell_type": "code",
   "execution_count": 116,
   "metadata": {},
   "outputs": [],
   "source": [
    "vehicle1D.propogateEntry(2400.0, 0.1, 0.0)\n",
    "vehicle2D.propogateEntry(2400.0, 0.1, 0.0)\n",
    "vehicle3D.propogateEntry(2400.0, 0.1, 0.0)\n",
    "vehicle4D.propogateEntry(2400.0, 0.1, 0.0)\n",
    "vehicle5D.propogateEntry(2400.0, 0.1, 0.0)\n",
    "vehicle6D.propogateEntry(6000.0, 0.1, 0.0)\n",
    "vehicle7D.propogateEntry(3000.0, 0.1, 0.0)\n",
    "vehicle8D.propogateEntry(3000.0, 0.1, 0.0)"
   ]
  },
  {
   "cell_type": "code",
   "execution_count": 117,
   "metadata": {},
   "outputs": [],
   "source": [
    "q1bD = max(vehicle1D.q_stag_total)\n",
    "q2bD = max(vehicle2D.q_stag_total)\n",
    "q3bD = max(vehicle3D.q_stag_total)\n",
    "q4bD = max(vehicle4D.q_stag_total)\n",
    "q5bD = max(vehicle5D.q_stag_total)\n",
    "q6bD = max(vehicle6D.q_stag_total)\n",
    "q7bD = max(vehicle7D.q_stag_total)\n",
    "q8bD = max(vehicle8D.q_stag_total)"
   ]
  },
  {
   "cell_type": "code",
   "execution_count": 118,
   "metadata": {},
   "outputs": [
    {
     "name": "stdout",
     "output_type": "stream",
     "text": [
      "365.4707051163394 345.9663810607608 125.67563352755842 9711.796590326772 1568.7988952148437 132.3824890675988 703.7262586043155 1393.3043964733772\n"
     ]
    }
   ],
   "source": [
    "print(q1bD, q2bD, q3bD, q4bD, q5bD, q6bD, q7bD, q8bD)"
   ]
  },
  {
   "cell_type": "code",
   "execution_count": 119,
   "metadata": {},
   "outputs": [],
   "source": [
    "Q1bD = max(vehicle1D.heatload)\n",
    "Q2bD = max(vehicle2D.heatload)\n",
    "Q3bD = max(vehicle3D.heatload)\n",
    "Q4bD = max(vehicle4D.heatload)\n",
    "Q5bD = max(vehicle5D.heatload)\n",
    "Q6bD = max(vehicle6D.heatload)\n",
    "Q7bD = max(vehicle7D.heatload)\n",
    "Q8bD = max(vehicle8D.heatload)"
   ]
  },
  {
   "cell_type": "code",
   "execution_count": 120,
   "metadata": {},
   "outputs": [
    {
     "name": "stdout",
     "output_type": "stream",
     "text": [
      "23557.77862944383 27401.63760097738 12385.99159334015 771752.6244654971 276172.44603547413 26293.128049837567 204465.24369679764 234753.4118006923\n"
     ]
    }
   ],
   "source": [
    "print(Q1bD, Q2bD, Q3bD, Q4bD, Q5bD, Q6bD, Q7bD, Q8bD)"
   ]
  }
 ],
 "metadata": {
  "kernelspec": {
   "display_name": "Python 3 (ipykernel)",
   "language": "python",
   "name": "python3"
  },
  "language_info": {
   "codemirror_mode": {
    "name": "ipython",
    "version": 3
   },
   "file_extension": ".py",
   "mimetype": "text/x-python",
   "name": "python",
   "nbconvert_exporter": "python",
   "pygments_lexer": "ipython3",
   "version": "3.7.3"
  }
 },
 "nbformat": 4,
 "nbformat_minor": 4
}
