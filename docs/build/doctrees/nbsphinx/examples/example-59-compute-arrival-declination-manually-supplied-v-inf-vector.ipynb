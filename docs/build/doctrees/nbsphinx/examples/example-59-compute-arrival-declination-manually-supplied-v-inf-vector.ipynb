{
 "cells": [
  {
   "cell_type": "markdown",
   "id": "7d3bbaeb",
   "metadata": {},
   "source": [
    "# Example - 59 - Compute arrival declination from v-inf-vector"
   ]
  },
  {
   "cell_type": "markdown",
   "id": "111bf35d",
   "metadata": {},
   "source": [
    "In this example, we compute the arrival declination from a user-given arrival v_inf vector in ICRF."
   ]
  },
  {
   "cell_type": "code",
   "execution_count": 1,
   "id": "fb7b5263",
   "metadata": {},
   "outputs": [],
   "source": [
    "import numpy as np\n",
    "from AMAT.arrival import Arrival"
   ]
  },
  {
   "cell_type": "code",
   "execution_count": 2,
   "id": "01af1bca",
   "metadata": {},
   "outputs": [],
   "source": [
    "arrival = Arrival()\n",
    "arrival.set_vinf_vec_manually(arrivalPlanet=\"NEPTUNE\", \n",
    "                              v_inf_vec_ICRF_kms=np.array([17.78952518,  8.62038536,  3.15801163]))"
   ]
  },
  {
   "cell_type": "code",
   "execution_count": 3,
   "id": "e8aa8ff6",
   "metadata": {},
   "outputs": [
    {
     "name": "stdout",
     "output_type": "stream",
     "text": [
      "Arrival Declination: 8.76 deg.\n"
     ]
    }
   ],
   "source": [
    "print(\"Arrival Declination: \"+str(round(arrival.declination, 2))+\" deg.\")"
   ]
  }
 ],
 "metadata": {
  "kernelspec": {
   "display_name": "Python 3 (ipykernel)",
   "language": "python",
   "name": "python3"
  },
  "language_info": {
   "codemirror_mode": {
    "name": "ipython",
    "version": 3
   },
   "file_extension": ".py",
   "mimetype": "text/x-python",
   "name": "python",
   "nbconvert_exporter": "python",
   "pygments_lexer": "ipython3",
   "version": "3.8.10"
  }
 },
 "nbformat": 4,
 "nbformat_minor": 5
}
