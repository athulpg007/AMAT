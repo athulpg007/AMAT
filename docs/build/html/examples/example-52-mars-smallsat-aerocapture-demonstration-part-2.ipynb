{
 "cells": [
  {
   "cell_type": "markdown",
   "metadata": {},
   "source": [
    "# Example - 52 - Mars SmallSat Aerocapture Demonstration - Part 2"
   ]
  },
  {
   "cell_type": "markdown",
   "metadata": {},
   "source": [
    "In this example, we will use Monte Carlo simulations to assess flight performance. Reference: M.S.Werner and R.D.Braun, Mission Design and Performance Analysis of a Smallsat Aerocapture Flight Test, Journal of Spacecraft and Rockets, DOI: 10.2514/1.A33997"
   ]
  },
  {
   "cell_type": "code",
   "execution_count": 1,
   "metadata": {},
   "outputs": [],
   "source": [
    "from AMAT.planet import Planet\n",
    "from AMAT.vehicle import Vehicle"
   ]
  },
  {
   "cell_type": "code",
   "execution_count": 2,
   "metadata": {},
   "outputs": [],
   "source": [
    "import numpy as np\n",
    "from scipy import interpolate\n",
    "import pandas as pd\n",
    "\n",
    "import matplotlib.pyplot as plt\n",
    "from matplotlib import rcParams\n",
    "from matplotlib.patches import Polygon"
   ]
  },
  {
   "cell_type": "code",
   "execution_count": 3,
   "metadata": {},
   "outputs": [
    {
     "name": "stdout",
     "output_type": "stream",
     "text": [
      "BATCH :../data/werner2019/MCB1-Mars, RUN #: 1, PROF: ../atmdata/Mars/LAT00N-N1000.txt, SAMPLE #: 473, EFPA: -12.02, SIGMA: 0.05, APO : 470.71\n",
      "BATCH :../data/werner2019/MCB1-Mars, RUN #: 2, PROF: ../atmdata/Mars/LAT00N-N1000.txt, SAMPLE #: 948, EFPA: -12.11, SIGMA: -0.68, APO : 249.09\n",
      "BATCH :../data/werner2019/MCB1-Mars, RUN #: 3, PROF: ../atmdata/Mars/LAT00N-N1000.txt, SAMPLE #: 982, EFPA: -12.11, SIGMA: -0.00, APO : 183.77\n",
      "BATCH :../data/werner2019/MCB1-Mars, RUN #: 4, PROF: ../atmdata/Mars/LAT00N-N1000.txt, SAMPLE #: 909, EFPA: -12.14, SIGMA: 0.97, APO : 165.56\n",
      "BATCH :../data/werner2019/MCB1-Mars, RUN #: 5, PROF: ../atmdata/Mars/LAT00N-N1000.txt, SAMPLE #: 795, EFPA: -11.96, SIGMA: 0.19, APO : 467.54\n",
      "BATCH :../data/werner2019/MCB1-Mars, RUN #: 6, PROF: ../atmdata/Mars/LAT00N-N1000.txt, SAMPLE #: 493, EFPA: -12.00, SIGMA: 0.10, APO : 442.98\n",
      "BATCH :../data/werner2019/MCB1-Mars, RUN #: 7, PROF: ../atmdata/Mars/LAT00N-N1000.txt, SAMPLE #: 255, EFPA: -12.00, SIGMA: 0.47, APO : 474.19\n",
      "BATCH :../data/werner2019/MCB1-Mars, RUN #: 8, PROF: ../atmdata/Mars/LAT00N-N1000.txt, SAMPLE #: 772, EFPA: -12.01, SIGMA: -0.41, APO : 470.02\n",
      "BATCH :../data/werner2019/MCB1-Mars, RUN #: 9, PROF: ../atmdata/Mars/LAT00N-N1000.txt, SAMPLE #: 819, EFPA: -12.08, SIGMA: -0.51, APO : 383.96\n",
      "BATCH :../data/werner2019/MCB1-Mars, RUN #: 10, PROF: ../atmdata/Mars/LAT00N-N1000.txt, SAMPLE #: 707, EFPA: -12.11, SIGMA: -0.56, APO : 396.13\n",
      "BATCH :../data/werner2019/MCB1-Mars, RUN #: 11, PROF: ../atmdata/Mars/LAT00N-N1000.txt, SAMPLE #: 348, EFPA: -12.15, SIGMA: -0.59, APO : 30.81\n",
      "BATCH :../data/werner2019/MCB1-Mars, RUN #: 12, PROF: ../atmdata/Mars/LAT00N-N1000.txt, SAMPLE #: 183, EFPA: -12.07, SIGMA: 1.09, APO : 314.32\n",
      "BATCH :../data/werner2019/MCB1-Mars, RUN #: 13, PROF: ../atmdata/Mars/LAT00N-N1000.txt, SAMPLE #: 236, EFPA: -12.05, SIGMA: 1.01, APO : 307.66\n",
      "BATCH :../data/werner2019/MCB1-Mars, RUN #: 14, PROF: ../atmdata/Mars/LAT00N-N1000.txt, SAMPLE #: 517, EFPA: -12.05, SIGMA: 1.79, APO : 262.04\n",
      "BATCH :../data/werner2019/MCB1-Mars, RUN #: 15, PROF: ../atmdata/Mars/LAT00N-N1000.txt, SAMPLE #: 643, EFPA: -12.15, SIGMA: -0.94, APO : 626.13\n",
      "BATCH :../data/werner2019/MCB1-Mars, RUN #: 16, PROF: ../atmdata/Mars/LAT00N-N1000.txt, SAMPLE #: 95, EFPA: -11.93, SIGMA: -0.67, APO : 477.67\n",
      "BATCH :../data/werner2019/MCB1-Mars, RUN #: 17, PROF: ../atmdata/Mars/LAT00N-N1000.txt, SAMPLE #: 718, EFPA: -12.02, SIGMA: 0.07, APO : 410.59\n",
      "BATCH :../data/werner2019/MCB1-Mars, RUN #: 18, PROF: ../atmdata/Mars/LAT00N-N1000.txt, SAMPLE #: 18, EFPA: -12.07, SIGMA: -1.54, APO : 444.56\n"
     ]
    },
    {
     "name": "stderr",
     "output_type": "stream",
     "text": [
      "/home/athul/anaconda3/lib/python3.7/site-packages/AMAT-2.1.2-py3.7.egg/AMAT/vehicle.py:504: RuntimeWarning: invalid value encountered in sqrt\n",
      "  ans[:]  = 1.8980E-8 * (rho_vec[:]/self.RN)**0.5 * v[:]**3.0\n"
     ]
    },
    {
     "name": "stdout",
     "output_type": "stream",
     "text": [
      "BATCH :../data/werner2019/MCB1-Mars, RUN #: 19, PROF: ../atmdata/Mars/LAT00N-N1000.txt, SAMPLE #: 42, EFPA: -12.08, SIGMA: -0.68, APO : 462.32\n",
      "BATCH :../data/werner2019/MCB1-Mars, RUN #: 20, PROF: ../atmdata/Mars/LAT00N-N1000.txt, SAMPLE #: 291, EFPA: -11.98, SIGMA: 0.15, APO : 428.46\n",
      "BATCH :../data/werner2019/MCB1-Mars, RUN #: 21, PROF: ../atmdata/Mars/LAT00N-N1000.txt, SAMPLE #: 54, EFPA: -12.16, SIGMA: 1.26, APO : 30.55\n",
      "BATCH :../data/werner2019/MCB1-Mars, RUN #: 22, PROF: ../atmdata/Mars/LAT00N-N1000.txt, SAMPLE #: 471, EFPA: -12.06, SIGMA: -0.18, APO : 429.90\n",
      "BATCH :../data/werner2019/MCB1-Mars, RUN #: 23, PROF: ../atmdata/Mars/LAT00N-N1000.txt, SAMPLE #: 404, EFPA: -11.98, SIGMA: -0.57, APO : 445.32\n",
      "BATCH :../data/werner2019/MCB1-Mars, RUN #: 24, PROF: ../atmdata/Mars/LAT00N-N1000.txt, SAMPLE #: 206, EFPA: -11.97, SIGMA: -0.55, APO : 473.24\n",
      "BATCH :../data/werner2019/MCB1-Mars, RUN #: 25, PROF: ../atmdata/Mars/LAT00N-N1000.txt, SAMPLE #: 913, EFPA: -12.10, SIGMA: 0.73, APO : 346.17\n",
      "BATCH :../data/werner2019/MCB1-Mars, RUN #: 26, PROF: ../atmdata/Mars/LAT00N-N1000.txt, SAMPLE #: 24, EFPA: -12.07, SIGMA: 0.01, APO : 537.43\n",
      "BATCH :../data/werner2019/MCB1-Mars, RUN #: 27, PROF: ../atmdata/Mars/LAT00N-N1000.txt, SAMPLE #: 398, EFPA: -12.02, SIGMA: 0.96, APO : 434.48\n",
      "BATCH :../data/werner2019/MCB1-Mars, RUN #: 28, PROF: ../atmdata/Mars/LAT00N-N1000.txt, SAMPLE #: 318, EFPA: -12.05, SIGMA: -0.05, APO : 445.43\n",
      "BATCH :../data/werner2019/MCB1-Mars, RUN #: 29, PROF: ../atmdata/Mars/LAT00N-N1000.txt, SAMPLE #: 200, EFPA: -12.04, SIGMA: 0.59, APO : 418.05\n",
      "BATCH :../data/werner2019/MCB1-Mars, RUN #: 30, PROF: ../atmdata/Mars/LAT00N-N1000.txt, SAMPLE #: 237, EFPA: -12.08, SIGMA: 0.45, APO : 397.03\n",
      "BATCH :../data/werner2019/MCB1-Mars, RUN #: 31, PROF: ../atmdata/Mars/LAT00N-N1000.txt, SAMPLE #: 708, EFPA: -12.00, SIGMA: -1.92, APO : 484.91\n",
      "BATCH :../data/werner2019/MCB1-Mars, RUN #: 32, PROF: ../atmdata/Mars/LAT00N-N1000.txt, SAMPLE #: 727, EFPA: -12.03, SIGMA: -1.57, APO : 470.89\n",
      "BATCH :../data/werner2019/MCB1-Mars, RUN #: 33, PROF: ../atmdata/Mars/LAT00N-N1000.txt, SAMPLE #: 526, EFPA: -11.99, SIGMA: -0.34, APO : 470.23\n",
      "BATCH :../data/werner2019/MCB1-Mars, RUN #: 34, PROF: ../atmdata/Mars/LAT00N-N1000.txt, SAMPLE #: 479, EFPA: -12.07, SIGMA: 0.45, APO : 477.59\n",
      "BATCH :../data/werner2019/MCB1-Mars, RUN #: 35, PROF: ../atmdata/Mars/LAT00N-N1000.txt, SAMPLE #: 454, EFPA: -12.13, SIGMA: 1.18, APO : 219.58\n",
      "BATCH :../data/werner2019/MCB1-Mars, RUN #: 36, PROF: ../atmdata/Mars/LAT00N-N1000.txt, SAMPLE #: 573, EFPA: -11.91, SIGMA: -0.10, APO : 528.42\n",
      "BATCH :../data/werner2019/MCB1-Mars, RUN #: 37, PROF: ../atmdata/Mars/LAT00N-N1000.txt, SAMPLE #: 207, EFPA: -12.01, SIGMA: 0.82, APO : 436.65\n",
      "BATCH :../data/werner2019/MCB1-Mars, RUN #: 38, PROF: ../atmdata/Mars/LAT00N-N1000.txt, SAMPLE #: 597, EFPA: -12.08, SIGMA: 0.11, APO : 375.03\n",
      "BATCH :../data/werner2019/MCB1-Mars, RUN #: 39, PROF: ../atmdata/Mars/LAT00N-N1000.txt, SAMPLE #: 379, EFPA: -12.10, SIGMA: 1.37, APO : 231.86\n",
      "BATCH :../data/werner2019/MCB1-Mars, RUN #: 40, PROF: ../atmdata/Mars/LAT00N-N1000.txt, SAMPLE #: 848, EFPA: -12.12, SIGMA: -2.18, APO : 370.00\n",
      "BATCH :../data/werner2019/MCB1-Mars, RUN #: 41, PROF: ../atmdata/Mars/LAT00N-N1000.txt, SAMPLE #: 257, EFPA: -12.01, SIGMA: -0.02, APO : 439.20\n",
      "BATCH :../data/werner2019/MCB1-Mars, RUN #: 42, PROF: ../atmdata/Mars/LAT00N-N1000.txt, SAMPLE #: 738, EFPA: -12.01, SIGMA: -1.37, APO : 435.96\n",
      "BATCH :../data/werner2019/MCB1-Mars, RUN #: 43, PROF: ../atmdata/Mars/LAT00N-N1000.txt, SAMPLE #: 847, EFPA: -12.06, SIGMA: 0.42, APO : 287.91\n",
      "BATCH :../data/werner2019/MCB1-Mars, RUN #: 44, PROF: ../atmdata/Mars/LAT00N-N1000.txt, SAMPLE #: 892, EFPA: -12.12, SIGMA: -0.27, APO : 485.94\n",
      "BATCH :../data/werner2019/MCB1-Mars, RUN #: 45, PROF: ../atmdata/Mars/LAT00N-N1000.txt, SAMPLE #: 229, EFPA: -12.05, SIGMA: -1.43, APO : 457.72\n",
      "BATCH :../data/werner2019/MCB1-Mars, RUN #: 46, PROF: ../atmdata/Mars/LAT00N-N1000.txt, SAMPLE #: 471, EFPA: -11.96, SIGMA: -0.19, APO : 469.02\n",
      "BATCH :../data/werner2019/MCB1-Mars, RUN #: 47, PROF: ../atmdata/Mars/LAT00N-N1000.txt, SAMPLE #: 107, EFPA: -12.00, SIGMA: 0.39, APO : 423.73\n",
      "BATCH :../data/werner2019/MCB1-Mars, RUN #: 48, PROF: ../atmdata/Mars/LAT00N-N1000.txt, SAMPLE #: 128, EFPA: -12.03, SIGMA: 1.40, APO : 317.12\n",
      "BATCH :../data/werner2019/MCB1-Mars, RUN #: 49, PROF: ../atmdata/Mars/LAT00N-N1000.txt, SAMPLE #: 427, EFPA: -12.10, SIGMA: -0.70, APO : 29.04\n",
      "BATCH :../data/werner2019/MCB1-Mars, RUN #: 50, PROF: ../atmdata/Mars/LAT00N-N1000.txt, SAMPLE #: 497, EFPA: -12.07, SIGMA: -0.69, APO : 446.25\n",
      "BATCH :../data/werner2019/MCB1-Mars, RUN #: 51, PROF: ../atmdata/Mars/LAT00N-N1000.txt, SAMPLE #: 206, EFPA: -11.99, SIGMA: 0.40, APO : 431.06\n",
      "BATCH :../data/werner2019/MCB1-Mars, RUN #: 52, PROF: ../atmdata/Mars/LAT00N-N1000.txt, SAMPLE #: 579, EFPA: -12.04, SIGMA: -0.30, APO : 404.20\n",
      "BATCH :../data/werner2019/MCB1-Mars, RUN #: 53, PROF: ../atmdata/Mars/LAT00N-N1000.txt, SAMPLE #: 738, EFPA: -11.97, SIGMA: 0.37, APO : 455.28\n",
      "BATCH :../data/werner2019/MCB1-Mars, RUN #: 54, PROF: ../atmdata/Mars/LAT00N-N1000.txt, SAMPLE #: 781, EFPA: -12.11, SIGMA: -1.31, APO : 307.05\n",
      "BATCH :../data/werner2019/MCB1-Mars, RUN #: 55, PROF: ../atmdata/Mars/LAT00N-N1000.txt, SAMPLE #: 608, EFPA: -12.09, SIGMA: -0.49, APO : 280.04\n",
      "BATCH :../data/werner2019/MCB1-Mars, RUN #: 56, PROF: ../atmdata/Mars/LAT00N-N1000.txt, SAMPLE #: 586, EFPA: -11.89, SIGMA: -0.31, APO : 3114.30\n",
      "BATCH :../data/werner2019/MCB1-Mars, RUN #: 57, PROF: ../atmdata/Mars/LAT00N-N1000.txt, SAMPLE #: 170, EFPA: -12.08, SIGMA: 1.99, APO : 359.22\n",
      "BATCH :../data/werner2019/MCB1-Mars, RUN #: 58, PROF: ../atmdata/Mars/LAT00N-N1000.txt, SAMPLE #: 555, EFPA: -12.21, SIGMA: 0.20, APO : 30.35\n",
      "BATCH :../data/werner2019/MCB1-Mars, RUN #: 59, PROF: ../atmdata/Mars/LAT00N-N1000.txt, SAMPLE #: 870, EFPA: -11.96, SIGMA: -1.26, APO : 2180.48\n",
      "BATCH :../data/werner2019/MCB1-Mars, RUN #: 60, PROF: ../atmdata/Mars/LAT00N-N1000.txt, SAMPLE #: 218, EFPA: -12.07, SIGMA: 0.67, APO : 392.25\n",
      "BATCH :../data/werner2019/MCB1-Mars, RUN #: 61, PROF: ../atmdata/Mars/LAT00N-N1000.txt, SAMPLE #: 136, EFPA: -12.05, SIGMA: 0.93, APO : 243.16\n",
      "BATCH :../data/werner2019/MCB1-Mars, RUN #: 62, PROF: ../atmdata/Mars/LAT00N-N1000.txt, SAMPLE #: 819, EFPA: -12.03, SIGMA: 0.07, APO : 475.63\n",
      "BATCH :../data/werner2019/MCB1-Mars, RUN #: 63, PROF: ../atmdata/Mars/LAT00N-N1000.txt, SAMPLE #: 398, EFPA: -11.97, SIGMA: 0.79, APO : 422.55\n",
      "BATCH :../data/werner2019/MCB1-Mars, RUN #: 64, PROF: ../atmdata/Mars/LAT00N-N1000.txt, SAMPLE #: 899, EFPA: -12.07, SIGMA: 1.07, APO : 384.39\n",
      "BATCH :../data/werner2019/MCB1-Mars, RUN #: 65, PROF: ../atmdata/Mars/LAT00N-N1000.txt, SAMPLE #: 665, EFPA: -12.12, SIGMA: -0.33, APO : 628.14\n",
      "BATCH :../data/werner2019/MCB1-Mars, RUN #: 66, PROF: ../atmdata/Mars/LAT00N-N1000.txt, SAMPLE #: 727, EFPA: -12.08, SIGMA: -1.20, APO : 562.68\n",
      "BATCH :../data/werner2019/MCB1-Mars, RUN #: 67, PROF: ../atmdata/Mars/LAT00N-N1000.txt, SAMPLE #: 767, EFPA: -11.99, SIGMA: -0.34, APO : 466.43\n",
      "BATCH :../data/werner2019/MCB1-Mars, RUN #: 68, PROF: ../atmdata/Mars/LAT00N-N1000.txt, SAMPLE #: 21, EFPA: -11.97, SIGMA: -1.06, APO : 486.86\n",
      "BATCH :../data/werner2019/MCB1-Mars, RUN #: 69, PROF: ../atmdata/Mars/LAT00N-N1000.txt, SAMPLE #: 104, EFPA: -12.02, SIGMA: 0.82, APO : 439.20\n",
      "BATCH :../data/werner2019/MCB1-Mars, RUN #: 70, PROF: ../atmdata/Mars/LAT00N-N1000.txt, SAMPLE #: 850, EFPA: -12.08, SIGMA: 0.15, APO : 333.87\n",
      "BATCH :../data/werner2019/MCB1-Mars, RUN #: 71, PROF: ../atmdata/Mars/LAT00N-N1000.txt, SAMPLE #: 63, EFPA: -12.14, SIGMA: 0.36, APO : 329.06\n",
      "BATCH :../data/werner2019/MCB1-Mars, RUN #: 72, PROF: ../atmdata/Mars/LAT00N-N1000.txt, SAMPLE #: 898, EFPA: -12.12, SIGMA: -1.67, APO : 285.72\n",
      "BATCH :../data/werner2019/MCB1-Mars, RUN #: 73, PROF: ../atmdata/Mars/LAT00N-N1000.txt, SAMPLE #: 861, EFPA: -12.00, SIGMA: -0.27, APO : 478.64\n",
      "BATCH :../data/werner2019/MCB1-Mars, RUN #: 74, PROF: ../atmdata/Mars/LAT00N-N1000.txt, SAMPLE #: 883, EFPA: -11.98, SIGMA: 0.52, APO : 470.65\n",
      "BATCH :../data/werner2019/MCB1-Mars, RUN #: 75, PROF: ../atmdata/Mars/LAT00N-N1000.txt, SAMPLE #: 204, EFPA: -12.07, SIGMA: -0.67, APO : 402.21\n",
      "BATCH :../data/werner2019/MCB1-Mars, RUN #: 76, PROF: ../atmdata/Mars/LAT00N-N1000.txt, SAMPLE #: 431, EFPA: -12.09, SIGMA: -1.27, APO : 443.38\n"
     ]
    },
    {
     "name": "stdout",
     "output_type": "stream",
     "text": [
      "BATCH :../data/werner2019/MCB1-Mars, RUN #: 77, PROF: ../atmdata/Mars/LAT00N-N1000.txt, SAMPLE #: 51, EFPA: -11.99, SIGMA: 1.09, APO : 467.80\n",
      "BATCH :../data/werner2019/MCB1-Mars, RUN #: 78, PROF: ../atmdata/Mars/LAT00N-N1000.txt, SAMPLE #: 835, EFPA: -12.16, SIGMA: -0.06, APO : 180.61\n",
      "BATCH :../data/werner2019/MCB1-Mars, RUN #: 79, PROF: ../atmdata/Mars/LAT00N-N1000.txt, SAMPLE #: 424, EFPA: -12.20, SIGMA: -1.29, APO : 652.95\n",
      "BATCH :../data/werner2019/MCB1-Mars, RUN #: 80, PROF: ../atmdata/Mars/LAT00N-N1000.txt, SAMPLE #: 558, EFPA: -11.91, SIGMA: 0.10, APO : 616.51\n",
      "BATCH :../data/werner2019/MCB1-Mars, RUN #: 81, PROF: ../atmdata/Mars/LAT00N-N1000.txt, SAMPLE #: 184, EFPA: -11.96, SIGMA: 0.77, APO : 475.03\n",
      "BATCH :../data/werner2019/MCB1-Mars, RUN #: 82, PROF: ../atmdata/Mars/LAT00N-N1000.txt, SAMPLE #: 993, EFPA: -11.97, SIGMA: 0.64, APO : 453.54\n",
      "BATCH :../data/werner2019/MCB1-Mars, RUN #: 83, PROF: ../atmdata/Mars/LAT00N-N1000.txt, SAMPLE #: 501, EFPA: -11.99, SIGMA: -0.83, APO : 468.49\n",
      "BATCH :../data/werner2019/MCB1-Mars, RUN #: 84, PROF: ../atmdata/Mars/LAT00N-N1000.txt, SAMPLE #: 493, EFPA: -11.99, SIGMA: -0.11, APO : 508.56\n",
      "BATCH :../data/werner2019/MCB1-Mars, RUN #: 85, PROF: ../atmdata/Mars/LAT00N-N1000.txt, SAMPLE #: 638, EFPA: -12.14, SIGMA: -0.23, APO : 29.83\n",
      "BATCH :../data/werner2019/MCB1-Mars, RUN #: 86, PROF: ../atmdata/Mars/LAT00N-N1000.txt, SAMPLE #: 340, EFPA: -12.22, SIGMA: 1.23, APO : 29.68\n",
      "BATCH :../data/werner2019/MCB1-Mars, RUN #: 87, PROF: ../atmdata/Mars/LAT00N-N1000.txt, SAMPLE #: 218, EFPA: -12.07, SIGMA: 0.48, APO : 385.04\n",
      "BATCH :../data/werner2019/MCB1-Mars, RUN #: 88, PROF: ../atmdata/Mars/LAT00N-N1000.txt, SAMPLE #: 318, EFPA: -11.93, SIGMA: 1.64, APO : 483.52\n",
      "BATCH :../data/werner2019/MCB1-Mars, RUN #: 89, PROF: ../atmdata/Mars/LAT00N-N1000.txt, SAMPLE #: 817, EFPA: -12.13, SIGMA: 0.94, APO : 384.50\n",
      "BATCH :../data/werner2019/MCB1-Mars, RUN #: 90, PROF: ../atmdata/Mars/LAT00N-N1000.txt, SAMPLE #: 894, EFPA: -12.07, SIGMA: 0.56, APO : 264.38\n",
      "BATCH :../data/werner2019/MCB1-Mars, RUN #: 91, PROF: ../atmdata/Mars/LAT00N-N1000.txt, SAMPLE #: 541, EFPA: -12.09, SIGMA: -0.64, APO : 389.50\n",
      "BATCH :../data/werner2019/MCB1-Mars, RUN #: 92, PROF: ../atmdata/Mars/LAT00N-N1000.txt, SAMPLE #: 160, EFPA: -12.12, SIGMA: -1.07, APO : 328.40\n",
      "BATCH :../data/werner2019/MCB1-Mars, RUN #: 93, PROF: ../atmdata/Mars/LAT00N-N1000.txt, SAMPLE #: 723, EFPA: -12.07, SIGMA: 1.14, APO : 262.13\n",
      "BATCH :../data/werner2019/MCB1-Mars, RUN #: 94, PROF: ../atmdata/Mars/LAT00N-N1000.txt, SAMPLE #: 473, EFPA: -12.03, SIGMA: -1.37, APO : 467.98\n",
      "BATCH :../data/werner2019/MCB1-Mars, RUN #: 95, PROF: ../atmdata/Mars/LAT00N-N1000.txt, SAMPLE #: 803, EFPA: -12.08, SIGMA: -0.36, APO : 488.40\n",
      "BATCH :../data/werner2019/MCB1-Mars, RUN #: 96, PROF: ../atmdata/Mars/LAT00N-N1000.txt, SAMPLE #: 571, EFPA: -12.01, SIGMA: 0.73, APO : 336.25\n",
      "BATCH :../data/werner2019/MCB1-Mars, RUN #: 97, PROF: ../atmdata/Mars/LAT00N-N1000.txt, SAMPLE #: 941, EFPA: -12.13, SIGMA: 0.54, APO : 393.71\n",
      "BATCH :../data/werner2019/MCB1-Mars, RUN #: 98, PROF: ../atmdata/Mars/LAT00N-N1000.txt, SAMPLE #: 337, EFPA: -12.08, SIGMA: -0.36, APO : 300.38\n",
      "BATCH :../data/werner2019/MCB1-Mars, RUN #: 99, PROF: ../atmdata/Mars/LAT00N-N1000.txt, SAMPLE #: 870, EFPA: -12.04, SIGMA: -0.65, APO : 485.49\n",
      "BATCH :../data/werner2019/MCB1-Mars, RUN #: 100, PROF: ../atmdata/Mars/LAT00N-N1000.txt, SAMPLE #: 740, EFPA: -12.15, SIGMA: -1.16, APO : 672.33\n",
      "BATCH :../data/werner2019/MCB1-Mars, RUN #: 101, PROF: ../atmdata/Mars/LAT00N-N1000.txt, SAMPLE #: 261, EFPA: -12.10, SIGMA: 1.70, APO : 28.73\n",
      "BATCH :../data/werner2019/MCB1-Mars, RUN #: 102, PROF: ../atmdata/Mars/LAT00N-N1000.txt, SAMPLE #: 139, EFPA: -12.03, SIGMA: -0.76, APO : 477.85\n",
      "BATCH :../data/werner2019/MCB1-Mars, RUN #: 103, PROF: ../atmdata/Mars/LAT00N-N1000.txt, SAMPLE #: 828, EFPA: -12.14, SIGMA: 1.64, APO : 29.30\n",
      "BATCH :../data/werner2019/MCB1-Mars, RUN #: 104, PROF: ../atmdata/Mars/LAT00N-N1000.txt, SAMPLE #: 523, EFPA: -11.99, SIGMA: 1.19, APO : 299.59\n",
      "BATCH :../data/werner2019/MCB1-Mars, RUN #: 105, PROF: ../atmdata/Mars/LAT00N-N1000.txt, SAMPLE #: 86, EFPA: -12.08, SIGMA: -0.91, APO : 391.42\n",
      "BATCH :../data/werner2019/MCB1-Mars, RUN #: 106, PROF: ../atmdata/Mars/LAT00N-N1000.txt, SAMPLE #: 650, EFPA: -12.08, SIGMA: 1.97, APO : 302.54\n",
      "BATCH :../data/werner2019/MCB1-Mars, RUN #: 107, PROF: ../atmdata/Mars/LAT00N-N1000.txt, SAMPLE #: 819, EFPA: -12.04, SIGMA: 0.84, APO : 351.63\n",
      "BATCH :../data/werner2019/MCB1-Mars, RUN #: 108, PROF: ../atmdata/Mars/LAT00N-N1000.txt, SAMPLE #: 567, EFPA: -12.02, SIGMA: 1.34, APO : 565.22\n",
      "BATCH :../data/werner2019/MCB1-Mars, RUN #: 109, PROF: ../atmdata/Mars/LAT00N-N1000.txt, SAMPLE #: 826, EFPA: -12.02, SIGMA: 0.21, APO : 449.97\n",
      "BATCH :../data/werner2019/MCB1-Mars, RUN #: 110, PROF: ../atmdata/Mars/LAT00N-N1000.txt, SAMPLE #: 814, EFPA: -11.95, SIGMA: -2.35, APO : 470.46\n",
      "BATCH :../data/werner2019/MCB1-Mars, RUN #: 111, PROF: ../atmdata/Mars/LAT00N-N1000.txt, SAMPLE #: 383, EFPA: -12.07, SIGMA: 0.18, APO : 438.04\n",
      "BATCH :../data/werner2019/MCB1-Mars, RUN #: 112, PROF: ../atmdata/Mars/LAT00N-N1000.txt, SAMPLE #: 966, EFPA: -12.04, SIGMA: 0.45, APO : 346.67\n",
      "BATCH :../data/werner2019/MCB1-Mars, RUN #: 113, PROF: ../atmdata/Mars/LAT00N-N1000.txt, SAMPLE #: 121, EFPA: -12.02, SIGMA: 1.17, APO : 311.76\n",
      "BATCH :../data/werner2019/MCB1-Mars, RUN #: 114, PROF: ../atmdata/Mars/LAT00N-N1000.txt, SAMPLE #: 470, EFPA: -11.98, SIGMA: -0.82, APO : 491.70\n",
      "BATCH :../data/werner2019/MCB1-Mars, RUN #: 115, PROF: ../atmdata/Mars/LAT00N-N1000.txt, SAMPLE #: 43, EFPA: -12.00, SIGMA: -0.37, APO : 445.74\n",
      "BATCH :../data/werner2019/MCB1-Mars, RUN #: 116, PROF: ../atmdata/Mars/LAT00N-N1000.txt, SAMPLE #: 363, EFPA: -12.13, SIGMA: -1.66, APO : 401.13\n",
      "BATCH :../data/werner2019/MCB1-Mars, RUN #: 117, PROF: ../atmdata/Mars/LAT00N-N1000.txt, SAMPLE #: 592, EFPA: -12.06, SIGMA: -1.24, APO : 404.40\n",
      "BATCH :../data/werner2019/MCB1-Mars, RUN #: 118, PROF: ../atmdata/Mars/LAT00N-N1000.txt, SAMPLE #: 27, EFPA: -12.09, SIGMA: -1.55, APO : 332.11\n",
      "BATCH :../data/werner2019/MCB1-Mars, RUN #: 119, PROF: ../atmdata/Mars/LAT00N-N1000.txt, SAMPLE #: 825, EFPA: -12.12, SIGMA: 0.23, APO : 308.05\n",
      "BATCH :../data/werner2019/MCB1-Mars, RUN #: 120, PROF: ../atmdata/Mars/LAT00N-N1000.txt, SAMPLE #: 483, EFPA: -11.98, SIGMA: 1.25, APO : 429.94\n",
      "BATCH :../data/werner2019/MCB1-Mars, RUN #: 121, PROF: ../atmdata/Mars/LAT00N-N1000.txt, SAMPLE #: 8, EFPA: -12.05, SIGMA: 0.07, APO : 345.33\n",
      "BATCH :../data/werner2019/MCB1-Mars, RUN #: 122, PROF: ../atmdata/Mars/LAT00N-N1000.txt, SAMPLE #: 343, EFPA: -11.95, SIGMA: 0.18, APO : 484.28\n",
      "BATCH :../data/werner2019/MCB1-Mars, RUN #: 123, PROF: ../atmdata/Mars/LAT00N-N1000.txt, SAMPLE #: 311, EFPA: -12.15, SIGMA: 1.17, APO : 30.46\n",
      "BATCH :../data/werner2019/MCB1-Mars, RUN #: 124, PROF: ../atmdata/Mars/LAT00N-N1000.txt, SAMPLE #: 426, EFPA: -12.06, SIGMA: -1.71, APO : 422.83\n",
      "BATCH :../data/werner2019/MCB1-Mars, RUN #: 125, PROF: ../atmdata/Mars/LAT00N-N1000.txt, SAMPLE #: 369, EFPA: -12.08, SIGMA: 1.58, APO : 270.59\n",
      "BATCH :../data/werner2019/MCB1-Mars, RUN #: 126, PROF: ../atmdata/Mars/LAT00N-N1000.txt, SAMPLE #: 291, EFPA: -11.98, SIGMA: -0.21, APO : 440.37\n",
      "BATCH :../data/werner2019/MCB1-Mars, RUN #: 127, PROF: ../atmdata/Mars/LAT00N-N1000.txt, SAMPLE #: 328, EFPA: -12.13, SIGMA: -0.21, APO : 252.96\n",
      "BATCH :../data/werner2019/MCB1-Mars, RUN #: 128, PROF: ../atmdata/Mars/LAT00N-N1000.txt, SAMPLE #: 107, EFPA: -12.08, SIGMA: 1.50, APO : 481.17\n",
      "BATCH :../data/werner2019/MCB1-Mars, RUN #: 129, PROF: ../atmdata/Mars/LAT00N-N1000.txt, SAMPLE #: 398, EFPA: -12.00, SIGMA: 1.43, APO : 381.01\n",
      "BATCH :../data/werner2019/MCB1-Mars, RUN #: 130, PROF: ../atmdata/Mars/LAT00N-N1000.txt, SAMPLE #: 472, EFPA: -12.01, SIGMA: -0.72, APO : 469.38\n",
      "BATCH :../data/werner2019/MCB1-Mars, RUN #: 131, PROF: ../atmdata/Mars/LAT00N-N1000.txt, SAMPLE #: 860, EFPA: -12.11, SIGMA: 0.83, APO : 252.62\n",
      "BATCH :../data/werner2019/MCB1-Mars, RUN #: 132, PROF: ../atmdata/Mars/LAT00N-N1000.txt, SAMPLE #: 64, EFPA: -12.02, SIGMA: 1.19, APO : 448.25\n",
      "BATCH :../data/werner2019/MCB1-Mars, RUN #: 133, PROF: ../atmdata/Mars/LAT00N-N1000.txt, SAMPLE #: 113, EFPA: -12.03, SIGMA: 1.44, APO : 379.96\n"
     ]
    },
    {
     "name": "stdout",
     "output_type": "stream",
     "text": [
      "BATCH :../data/werner2019/MCB1-Mars, RUN #: 134, PROF: ../atmdata/Mars/LAT00N-N1000.txt, SAMPLE #: 996, EFPA: -11.97, SIGMA: -0.72, APO : 458.85\n",
      "BATCH :../data/werner2019/MCB1-Mars, RUN #: 135, PROF: ../atmdata/Mars/LAT00N-N1000.txt, SAMPLE #: 496, EFPA: -12.09, SIGMA: -1.28, APO : 404.90\n",
      "BATCH :../data/werner2019/MCB1-Mars, RUN #: 136, PROF: ../atmdata/Mars/LAT00N-N1000.txt, SAMPLE #: 975, EFPA: -12.14, SIGMA: -0.21, APO : 845.32\n",
      "BATCH :../data/werner2019/MCB1-Mars, RUN #: 137, PROF: ../atmdata/Mars/LAT00N-N1000.txt, SAMPLE #: 196, EFPA: -12.04, SIGMA: 0.75, APO : 290.71\n",
      "BATCH :../data/werner2019/MCB1-Mars, RUN #: 138, PROF: ../atmdata/Mars/LAT00N-N1000.txt, SAMPLE #: 398, EFPA: -12.15, SIGMA: -0.36, APO : 356.07\n",
      "BATCH :../data/werner2019/MCB1-Mars, RUN #: 139, PROF: ../atmdata/Mars/LAT00N-N1000.txt, SAMPLE #: 798, EFPA: -12.11, SIGMA: -0.45, APO : 407.26\n",
      "BATCH :../data/werner2019/MCB1-Mars, RUN #: 140, PROF: ../atmdata/Mars/LAT00N-N1000.txt, SAMPLE #: 850, EFPA: -11.99, SIGMA: -0.63, APO : 429.75\n",
      "BATCH :../data/werner2019/MCB1-Mars, RUN #: 141, PROF: ../atmdata/Mars/LAT00N-N1000.txt, SAMPLE #: 364, EFPA: -12.01, SIGMA: -2.51, APO : 470.25\n",
      "BATCH :../data/werner2019/MCB1-Mars, RUN #: 142, PROF: ../atmdata/Mars/LAT00N-N1000.txt, SAMPLE #: 497, EFPA: -12.12, SIGMA: -0.11, APO : 197.46\n",
      "BATCH :../data/werner2019/MCB1-Mars, RUN #: 143, PROF: ../atmdata/Mars/LAT00N-N1000.txt, SAMPLE #: 942, EFPA: -12.06, SIGMA: -0.13, APO : 392.91\n",
      "BATCH :../data/werner2019/MCB1-Mars, RUN #: 144, PROF: ../atmdata/Mars/LAT00N-N1000.txt, SAMPLE #: 292, EFPA: -11.99, SIGMA: -0.16, APO : 462.44\n",
      "BATCH :../data/werner2019/MCB1-Mars, RUN #: 145, PROF: ../atmdata/Mars/LAT00N-N1000.txt, SAMPLE #: 457, EFPA: -11.99, SIGMA: -1.14, APO : 474.83\n",
      "BATCH :../data/werner2019/MCB1-Mars, RUN #: 146, PROF: ../atmdata/Mars/LAT00N-N1000.txt, SAMPLE #: 202, EFPA: -12.07, SIGMA: 0.95, APO : 352.26\n",
      "BATCH :../data/werner2019/MCB1-Mars, RUN #: 147, PROF: ../atmdata/Mars/LAT00N-N1000.txt, SAMPLE #: 411, EFPA: -12.05, SIGMA: -1.34, APO : 439.96\n",
      "BATCH :../data/werner2019/MCB1-Mars, RUN #: 148, PROF: ../atmdata/Mars/LAT00N-N1000.txt, SAMPLE #: 926, EFPA: -12.08, SIGMA: 0.69, APO : 339.36\n",
      "BATCH :../data/werner2019/MCB1-Mars, RUN #: 149, PROF: ../atmdata/Mars/LAT00N-N1000.txt, SAMPLE #: 341, EFPA: -12.15, SIGMA: 1.01, APO : 177.54\n",
      "BATCH :../data/werner2019/MCB1-Mars, RUN #: 150, PROF: ../atmdata/Mars/LAT00N-N1000.txt, SAMPLE #: 897, EFPA: -12.03, SIGMA: 1.11, APO : 248.00\n",
      "BATCH :../data/werner2019/MCB1-Mars, RUN #: 151, PROF: ../atmdata/Mars/LAT00N-N1000.txt, SAMPLE #: 759, EFPA: -12.04, SIGMA: -0.16, APO : 424.57\n",
      "BATCH :../data/werner2019/MCB1-Mars, RUN #: 152, PROF: ../atmdata/Mars/LAT00N-N1000.txt, SAMPLE #: 736, EFPA: -12.01, SIGMA: -1.08, APO : 476.70\n",
      "BATCH :../data/werner2019/MCB1-Mars, RUN #: 153, PROF: ../atmdata/Mars/LAT00N-N1000.txt, SAMPLE #: 367, EFPA: -12.05, SIGMA: -2.00, APO : 439.34\n",
      "BATCH :../data/werner2019/MCB1-Mars, RUN #: 154, PROF: ../atmdata/Mars/LAT00N-N1000.txt, SAMPLE #: 715, EFPA: -12.10, SIGMA: -1.63, APO : 444.77\n",
      "BATCH :../data/werner2019/MCB1-Mars, RUN #: 155, PROF: ../atmdata/Mars/LAT00N-N1000.txt, SAMPLE #: 196, EFPA: -12.03, SIGMA: 1.02, APO : 334.06\n",
      "BATCH :../data/werner2019/MCB1-Mars, RUN #: 156, PROF: ../atmdata/Mars/LAT00N-N1000.txt, SAMPLE #: 822, EFPA: -12.12, SIGMA: -0.38, APO : 251.38\n",
      "BATCH :../data/werner2019/MCB1-Mars, RUN #: 157, PROF: ../atmdata/Mars/LAT00N-N1000.txt, SAMPLE #: 77, EFPA: -12.05, SIGMA: 0.36, APO : 343.02\n",
      "BATCH :../data/werner2019/MCB1-Mars, RUN #: 158, PROF: ../atmdata/Mars/LAT00N-N1000.txt, SAMPLE #: 582, EFPA: -11.99, SIGMA: 0.97, APO : 371.69\n",
      "BATCH :../data/werner2019/MCB1-Mars, RUN #: 159, PROF: ../atmdata/Mars/LAT00N-N1000.txt, SAMPLE #: 483, EFPA: -12.10, SIGMA: 1.34, APO : 294.31\n",
      "BATCH :../data/werner2019/MCB1-Mars, RUN #: 160, PROF: ../atmdata/Mars/LAT00N-N1000.txt, SAMPLE #: 230, EFPA: -12.08, SIGMA: -0.16, APO : 398.86\n",
      "BATCH :../data/werner2019/MCB1-Mars, RUN #: 161, PROF: ../atmdata/Mars/LAT00N-N1000.txt, SAMPLE #: 171, EFPA: -12.08, SIGMA: -0.31, APO : 434.57\n",
      "BATCH :../data/werner2019/MCB1-Mars, RUN #: 162, PROF: ../atmdata/Mars/LAT00N-N1000.txt, SAMPLE #: 431, EFPA: -12.06, SIGMA: -1.51, APO : 437.77\n",
      "BATCH :../data/werner2019/MCB1-Mars, RUN #: 163, PROF: ../atmdata/Mars/LAT00N-N1000.txt, SAMPLE #: 744, EFPA: -12.02, SIGMA: 0.56, APO : 425.09\n",
      "BATCH :../data/werner2019/MCB1-Mars, RUN #: 164, PROF: ../atmdata/Mars/LAT00N-N1000.txt, SAMPLE #: 808, EFPA: -12.10, SIGMA: -0.18, APO : 318.38\n",
      "BATCH :../data/werner2019/MCB1-Mars, RUN #: 165, PROF: ../atmdata/Mars/LAT00N-N1000.txt, SAMPLE #: 678, EFPA: -11.99, SIGMA: 0.96, APO : 425.24\n",
      "BATCH :../data/werner2019/MCB1-Mars, RUN #: 166, PROF: ../atmdata/Mars/LAT00N-N1000.txt, SAMPLE #: 815, EFPA: -12.06, SIGMA: -0.91, APO : 407.80\n",
      "BATCH :../data/werner2019/MCB1-Mars, RUN #: 167, PROF: ../atmdata/Mars/LAT00N-N1000.txt, SAMPLE #: 929, EFPA: -12.06, SIGMA: -2.28, APO : 436.81\n",
      "BATCH :../data/werner2019/MCB1-Mars, RUN #: 168, PROF: ../atmdata/Mars/LAT00N-N1000.txt, SAMPLE #: 902, EFPA: -12.07, SIGMA: -0.27, APO : 389.17\n",
      "BATCH :../data/werner2019/MCB1-Mars, RUN #: 169, PROF: ../atmdata/Mars/LAT00N-N1000.txt, SAMPLE #: 739, EFPA: -12.04, SIGMA: -0.56, APO : 475.41\n",
      "BATCH :../data/werner2019/MCB1-Mars, RUN #: 170, PROF: ../atmdata/Mars/LAT00N-N1000.txt, SAMPLE #: 116, EFPA: -12.10, SIGMA: -1.21, APO : 345.25\n",
      "BATCH :../data/werner2019/MCB1-Mars, RUN #: 171, PROF: ../atmdata/Mars/LAT00N-N1000.txt, SAMPLE #: 521, EFPA: -12.03, SIGMA: 0.19, APO : 436.42\n",
      "BATCH :../data/werner2019/MCB1-Mars, RUN #: 172, PROF: ../atmdata/Mars/LAT00N-N1000.txt, SAMPLE #: 706, EFPA: -12.18, SIGMA: -0.71, APO : 166.46\n",
      "BATCH :../data/werner2019/MCB1-Mars, RUN #: 173, PROF: ../atmdata/Mars/LAT00N-N1000.txt, SAMPLE #: 918, EFPA: -12.04, SIGMA: -0.41, APO : 416.91\n",
      "BATCH :../data/werner2019/MCB1-Mars, RUN #: 174, PROF: ../atmdata/Mars/LAT00N-N1000.txt, SAMPLE #: 730, EFPA: -12.09, SIGMA: 0.29, APO : 265.49\n",
      "BATCH :../data/werner2019/MCB1-Mars, RUN #: 175, PROF: ../atmdata/Mars/LAT00N-N1000.txt, SAMPLE #: 773, EFPA: -12.00, SIGMA: -1.76, APO : 463.55\n",
      "BATCH :../data/werner2019/MCB1-Mars, RUN #: 176, PROF: ../atmdata/Mars/LAT00N-N1000.txt, SAMPLE #: 976, EFPA: -12.09, SIGMA: -1.97, APO : 418.32\n",
      "BATCH :../data/werner2019/MCB1-Mars, RUN #: 177, PROF: ../atmdata/Mars/LAT00N-N1000.txt, SAMPLE #: 522, EFPA: -11.99, SIGMA: 0.59, APO : 396.80\n",
      "BATCH :../data/werner2019/MCB1-Mars, RUN #: 178, PROF: ../atmdata/Mars/LAT00N-N1000.txt, SAMPLE #: 284, EFPA: -12.15, SIGMA: 1.21, APO : 30.75\n",
      "BATCH :../data/werner2019/MCB1-Mars, RUN #: 179, PROF: ../atmdata/Mars/LAT00N-N1000.txt, SAMPLE #: 773, EFPA: -11.97, SIGMA: 0.05, APO : 448.87\n",
      "BATCH :../data/werner2019/MCB1-Mars, RUN #: 180, PROF: ../atmdata/Mars/LAT00N-N1000.txt, SAMPLE #: 928, EFPA: -11.99, SIGMA: -1.09, APO : 445.25\n",
      "BATCH :../data/werner2019/MCB1-Mars, RUN #: 181, PROF: ../atmdata/Mars/LAT00N-N1000.txt, SAMPLE #: 519, EFPA: -12.07, SIGMA: 0.02, APO : 417.03\n",
      "BATCH :../data/werner2019/MCB1-Mars, RUN #: 182, PROF: ../atmdata/Mars/LAT00N-N1000.txt, SAMPLE #: 330, EFPA: -12.13, SIGMA: 0.62, APO : 389.94\n",
      "BATCH :../data/werner2019/MCB1-Mars, RUN #: 183, PROF: ../atmdata/Mars/LAT00N-N1000.txt, SAMPLE #: 241, EFPA: -12.10, SIGMA: -1.98, APO : 405.54\n",
      "BATCH :../data/werner2019/MCB1-Mars, RUN #: 184, PROF: ../atmdata/Mars/LAT00N-N1000.txt, SAMPLE #: 855, EFPA: -11.98, SIGMA: -0.27, APO : 478.47\n",
      "BATCH :../data/werner2019/MCB1-Mars, RUN #: 185, PROF: ../atmdata/Mars/LAT00N-N1000.txt, SAMPLE #: 381, EFPA: -12.08, SIGMA: 0.99, APO : 244.64\n",
      "BATCH :../data/werner2019/MCB1-Mars, RUN #: 186, PROF: ../atmdata/Mars/LAT00N-N1000.txt, SAMPLE #: 182, EFPA: -11.95, SIGMA: 2.14, APO : 474.76\n",
      "BATCH :../data/werner2019/MCB1-Mars, RUN #: 187, PROF: ../atmdata/Mars/LAT00N-N1000.txt, SAMPLE #: 52, EFPA: -12.08, SIGMA: -0.18, APO : 486.57\n",
      "BATCH :../data/werner2019/MCB1-Mars, RUN #: 188, PROF: ../atmdata/Mars/LAT00N-N1000.txt, SAMPLE #: 296, EFPA: -12.03, SIGMA: -0.24, APO : 481.16\n",
      "BATCH :../data/werner2019/MCB1-Mars, RUN #: 189, PROF: ../atmdata/Mars/LAT00N-N1000.txt, SAMPLE #: 737, EFPA: -12.13, SIGMA: 0.89, APO : 326.65\n",
      "BATCH :../data/werner2019/MCB1-Mars, RUN #: 190, PROF: ../atmdata/Mars/LAT00N-N1000.txt, SAMPLE #: 985, EFPA: -11.97, SIGMA: -0.81, APO : 489.30\n"
     ]
    },
    {
     "name": "stdout",
     "output_type": "stream",
     "text": [
      "BATCH :../data/werner2019/MCB1-Mars, RUN #: 191, PROF: ../atmdata/Mars/LAT00N-N1000.txt, SAMPLE #: 707, EFPA: -12.19, SIGMA: -1.24, APO : 396.14\n",
      "BATCH :../data/werner2019/MCB1-Mars, RUN #: 192, PROF: ../atmdata/Mars/LAT00N-N1000.txt, SAMPLE #: 385, EFPA: -12.05, SIGMA: -0.86, APO : 425.49\n",
      "BATCH :../data/werner2019/MCB1-Mars, RUN #: 193, PROF: ../atmdata/Mars/LAT00N-N1000.txt, SAMPLE #: 594, EFPA: -12.02, SIGMA: -1.46, APO : 488.71\n",
      "BATCH :../data/werner2019/MCB1-Mars, RUN #: 194, PROF: ../atmdata/Mars/LAT00N-N1000.txt, SAMPLE #: 576, EFPA: -12.05, SIGMA: -1.01, APO : 457.67\n",
      "BATCH :../data/werner2019/MCB1-Mars, RUN #: 195, PROF: ../atmdata/Mars/LAT00N-N1000.txt, SAMPLE #: 189, EFPA: -12.06, SIGMA: 0.96, APO : 401.33\n",
      "BATCH :../data/werner2019/MCB1-Mars, RUN #: 196, PROF: ../atmdata/Mars/LAT00N-N1000.txt, SAMPLE #: 220, EFPA: -12.04, SIGMA: 1.90, APO : 239.64\n",
      "BATCH :../data/werner2019/MCB1-Mars, RUN #: 197, PROF: ../atmdata/Mars/LAT00N-N1000.txt, SAMPLE #: 714, EFPA: -12.09, SIGMA: -0.08, APO : 430.14\n",
      "BATCH :../data/werner2019/MCB1-Mars, RUN #: 198, PROF: ../atmdata/Mars/LAT00N-N1000.txt, SAMPLE #: 992, EFPA: -12.13, SIGMA: 0.62, APO : 618.85\n",
      "BATCH :../data/werner2019/MCB1-Mars, RUN #: 199, PROF: ../atmdata/Mars/LAT00N-N1000.txt, SAMPLE #: 446, EFPA: -12.12, SIGMA: 0.34, APO : 590.72\n",
      "BATCH :../data/werner2019/MCB1-Mars, RUN #: 200, PROF: ../atmdata/Mars/LAT00N-N1000.txt, SAMPLE #: 574, EFPA: -12.07, SIGMA: 0.05, APO : 389.68\n"
     ]
    }
   ],
   "source": [
    "# Set up the planet and atmosphere model.\n",
    "planet=Planet(\"MARS\")\n",
    "planet.loadAtmosphereModel('../atmdata/Mars/mars-gram-avg.dat', 0 , 1 ,2, 3)\n",
    "planet.h_skip = 150000.0\n",
    "planet.h_low=10.0E3\n",
    "\n",
    "# Set up the drag modulation vehicle.\n",
    "vehicle=Vehicle('MarsSmallSat1', 25.97, 66.4, 0.0, np.pi*0.25**2, 0.0, 0.0563, planet)\n",
    "\n",
    "vehicle.setInitialState(150.0,0.0,0.0,5.74,0.0,-12.12,0.0,0.0)\n",
    "vehicle.setSolverParams(1E-6)\n",
    "vehicle.setDragModulationVehicleParams(66.4,4.72)\n",
    "\n",
    "# Set up the drag modulation entry phase guidance parameters.\n",
    "vehicle.setDragEntryPhaseParams(2.0, 15.0, 101, -200.0)\n",
    "\n",
    "# Set the target orbit parameters.\n",
    "vehicle.setTargetOrbitParams(450.0, 450.0, 20.0)\n",
    "\n",
    "# Define the path to atmospheric files to be used for the Monte Carlo simulations.\n",
    "atmfiles = ['../atmdata/Mars/LAT00N-N1000.txt']\n",
    "\n",
    "# Set up the Monte Carlo simulation for drag modulation.\n",
    "# NPOS = 156, NMONTE = 1000\n",
    "# Target EFPA = -12.05 deg\n",
    "# EFPA 1-sigma error = +/- 0.067 deg\n",
    "# Nominal beta_1 = 66.4 kg/m2\n",
    "# beta_1 1-sigma = 0.0\n",
    "# guidance time step for entry = 1.0s (Freq. = 1 Hz)\n",
    "# guidance time step after jettison = 1.0 s\n",
    "# max. solver time step = 0.1 s\n",
    "# max. time used by solver = 2400 s\n",
    "\n",
    "vehicle.setupMonteCarloSimulationD(156, 1000, atmfiles, 0 , 1, 2, 3, 4, True,\n",
    "                                   -12.05,  0.0667, 66.4, 0.0,\n",
    "                                    1.0, 1.0, 0.1, 2400.0)\n",
    "# Run 200 trajectories\n",
    "vehicle.runMonteCarloD(200, '../data/werner2019/MCB1-Mars')"
   ]
  },
  {
   "cell_type": "markdown",
   "metadata": {},
   "source": [
    "Load the terminal apoapsis, deceleration and heat rate data."
   ]
  },
  {
   "cell_type": "code",
   "execution_count": 4,
   "metadata": {},
   "outputs": [],
   "source": [
    "apoap = np.loadtxt('../data/werner2019/MCB1-Mars/terminal_apoapsis_arr.txt')\n",
    "peria = np.loadtxt('../data/werner2019/MCB1-Mars/terminal_periapsis_arr.txt')\n",
    "decel = np.loadtxt('../data/werner2019/MCB1-Mars/acc_net_g_max_arr.txt')\n",
    "heatr = np.loadtxt('../data/werner2019/MCB1-Mars/q_stag_max_arr.txt')"
   ]
  },
  {
   "cell_type": "markdown",
   "metadata": {},
   "source": [
    "Remove cases which resulted in apoapsis < 100 km or > 800 km."
   ]
  },
  {
   "cell_type": "code",
   "execution_count": 5,
   "metadata": {},
   "outputs": [
    {
     "name": "stdout",
     "output_type": "stream",
     "text": [
      "(array([ 10,  20,  48,  57,  84,  85, 100, 102, 122, 177]),)\n"
     ]
    }
   ],
   "source": [
    "del_index_low = np.where(apoap < 100) \n",
    "print(del_index_low)"
   ]
  },
  {
   "cell_type": "markdown",
   "metadata": {},
   "source": [
    "Seven cases resulted in apoapis less than 100 km, and are considered to crash."
   ]
  },
  {
   "cell_type": "markdown",
   "metadata": {},
   "source": [
    "Remove these entries from the data before plotting."
   ]
  },
  {
   "cell_type": "code",
   "execution_count": 6,
   "metadata": {},
   "outputs": [],
   "source": [
    "apoap_clean = np.delete(apoap, del_index_low)\n",
    "peria_clean = np.delete(peria, del_index_low)\n",
    "decel_clean = np.delete(decel, del_index_low)\n",
    "heatr_clean = np.delete(heatr, del_index_low)"
   ]
  },
  {
   "cell_type": "markdown",
   "metadata": {},
   "source": [
    "Also remove cases with apoapsis > 800 km."
   ]
  },
  {
   "cell_type": "code",
   "execution_count": 7,
   "metadata": {},
   "outputs": [
    {
     "name": "stdout",
     "output_type": "stream",
     "text": [
      "(array([ 52,  54, 126]),)\n"
     ]
    }
   ],
   "source": [
    "del_index_high = np.where(apoap_clean > 800) \n",
    "print(del_index_high)"
   ]
  },
  {
   "cell_type": "code",
   "execution_count": 8,
   "metadata": {},
   "outputs": [],
   "source": [
    "apoap_clean2 = np.delete(apoap_clean, del_index_high)\n",
    "peria_clean2 = np.delete(peria_clean, del_index_high)\n",
    "decel_clean2 = np.delete(decel_clean, del_index_high)\n",
    "heatr_clean2 = np.delete(heatr_clean, del_index_high)"
   ]
  },
  {
   "cell_type": "code",
   "execution_count": 15,
   "metadata": {},
   "outputs": [
    {
     "data": {
      "image/png": "[encoded data removed]",
      "text/plain": [
       "<Figure size 432x432 with 1 Axes>"
      ]
     },
     "metadata": {
      "needs_background": "light"
     },
     "output_type": "display_data"
    }
   ],
   "source": [
    "plt.figure(figsize=(6,6))\n",
    "plt.rc('font',family='Times New Roman')\n",
    "params = {'mathtext.default': 'regular' }\n",
    "plt.rcParams.update(params)\n",
    "plt.hist(apoap_clean2, bins=15, color='xkcd:red')\n",
    "plt.xlabel('Apoapsis altitude, km',fontsize=14)\n",
    "plt.ylabel('Number of cases',fontsize=14)\n",
    "ax=plt.gca()\n",
    "ax.tick_params(direction='in')\n",
    "ax.yaxis.set_ticks_position('both')\n",
    "ax.xaxis.set_ticks_position('both')\n",
    "ax.tick_params(axis='x',labelsize=14)\n",
    "ax.tick_params(axis='y',labelsize=14)\n",
    "\n",
    "plt.savefig('../plots/werner-smallsat-apoa-hist-mars.png',bbox_inches='tight')\n",
    "plt.savefig('../plots/werner-smallsat-apoa-hist-mars.pdf', dpi=300,bbox_inches='tight')\n",
    "plt.savefig('../plots/werner-smallsat-apoa-hist-mars.eps', dpi=300,bbox_inches='tight')\n",
    "plt.show()"
   ]
  },
  {
   "cell_type": "code",
   "execution_count": 10,
   "metadata": {},
   "outputs": [
    {
     "data": {
      "image/png": "[encoded data removed]",
      "text/plain": [
       "<Figure size 432x432 with 1 Axes>"
      ]
     },
     "metadata": {
      "needs_background": "light"
     },
     "output_type": "display_data"
    }
   ],
   "source": [
    "plt.figure(figsize=(6,6))\n",
    "plt.rc('font',family='Times New Roman')\n",
    "params = {'mathtext.default': 'regular' }\n",
    "plt.rcParams.update(params)\n",
    "plt.hist(decel_clean2, bins=20, color='xkcd:green')\n",
    "plt.xlabel('Deceleration, g',fontsize=14)\n",
    "plt.ylabel('Number of cases',fontsize=14)\n",
    "ax=plt.gca()\n",
    "ax.tick_params(direction='in')\n",
    "ax.yaxis.set_ticks_position('both')\n",
    "ax.xaxis.set_ticks_position('both')\n",
    "ax.tick_params(axis='x',labelsize=14)\n",
    "ax.tick_params(axis='y',labelsize=14)\n",
    "\n",
    "plt.savefig('../plots/werner-smallsat-decel-hist-mars.png',bbox_inches='tight')\n",
    "plt.savefig('../plots/werner-smallsat-decel-hist-mars.pdf', dpi=300,bbox_inches='tight')\n",
    "plt.savefig('../plots/werner-smallsat-decel-hist-mars.eps', dpi=300,bbox_inches='tight')\n",
    "plt.show()"
   ]
  },
  {
   "cell_type": "code",
   "execution_count": 11,
   "metadata": {},
   "outputs": [
    {
     "data": {
      "image/png": "[encoded data removed]",
      "text/plain": [
       "<Figure size 432x432 with 1 Axes>"
      ]
     },
     "metadata": {
      "needs_background": "light"
     },
     "output_type": "display_data"
    }
   ],
   "source": [
    "plt.figure(figsize=(6,6))\n",
    "plt.rc('font',family='Times New Roman')\n",
    "params = {'mathtext.default': 'regular' }\n",
    "plt.rcParams.update(params)\n",
    "plt.hist(heatr_clean2, bins=20, color='xkcd:blue')\n",
    "plt.xlabel('Heat rate, '+r'$W/cm^2$',fontsize=14)\n",
    "plt.ylabel('Number of cases',fontsize=14)\n",
    "ax=plt.gca()\n",
    "ax.tick_params(direction='in')\n",
    "ax.yaxis.set_ticks_position('both')\n",
    "ax.xaxis.set_ticks_position('both')\n",
    "ax.tick_params(axis='x',labelsize=14)\n",
    "ax.tick_params(axis='y',labelsize=14)\n",
    "\n",
    "plt.savefig('../plots/werner-smallsat-heat-hist-mars.png',bbox_inches='tight')\n",
    "plt.savefig('../plots/werner-smallsat-heat-hist-mars.pdf', dpi=300,bbox_inches='tight')\n",
    "plt.savefig('../plots/werner-smallsat-heat-hist-mars.eps', dpi=300,bbox_inches='tight')\n",
    "plt.show()"
   ]
  },
  {
   "cell_type": "code",
   "execution_count": 14,
   "metadata": {},
   "outputs": [
    {
     "data": {
      "image/png": "[encoded data removed]",
      "text/plain": [
       "<Figure size 432x432 with 1 Axes>"
      ]
     },
     "metadata": {
      "needs_background": "light"
     },
     "output_type": "display_data"
    }
   ],
   "source": [
    "plt.figure(figsize=(6,6))\n",
    "plt.rc('font',family='Times New Roman')\n",
    "params = {'mathtext.default': 'regular' }\n",
    "plt.rcParams.update(params)\n",
    "plt.scatter(peria_clean2, apoap_clean2, s=30, facecolors='none', edgecolors='b', lw=2)\n",
    "plt.axhline(y=450, lw=2.0, ls='dashed', color='k')\n",
    "plt.xlabel('Periapsis altitude, km',fontsize=14)\n",
    "plt.ylabel('Apoapsis altitude, km',fontsize=14)\n",
    "ax=plt.gca()\n",
    "ax.tick_params(direction='in')\n",
    "ax.yaxis.set_ticks_position('both')\n",
    "ax.xaxis.set_ticks_position('both')\n",
    "ax.tick_params(axis='x',labelsize=14)\n",
    "ax.tick_params(axis='y',labelsize=14)\n",
    "\n",
    "plt.savefig('../plots/werner-smallsat-apoa-peri-mars.png',bbox_inches='tight')\n",
    "plt.savefig('../plots/werner-smallsat-apoa-peri-mars.pdf', dpi=300,bbox_inches='tight')\n",
    "plt.savefig('../plots/werner-smallsat-apoa-peri-mars.eps', dpi=300,bbox_inches='tight')\n",
    "plt.show()"
   ]
  },
  {
   "cell_type": "markdown",
   "metadata": {},
   "source": [
    "Find the percentage of cases which achieved apoapsis between 100 and 800 km."
   ]
  },
  {
   "cell_type": "code",
   "execution_count": 13,
   "metadata": {},
   "outputs": [
    {
     "data": {
      "text/plain": [
       "93.5"
      ]
     },
     "execution_count": 13,
     "metadata": {},
     "output_type": "execute_result"
    }
   ],
   "source": [
    "(np.size(apoap) - np.size(del_index_low) - np.size(del_index_high))*100/np.size(apoap)"
   ]
  },
  {
   "cell_type": "markdown",
   "metadata": {},
   "source": [
    "These results are different from those in the paper because of the different guidance schemes used here. This exercide did not attempt to optimize the guidance parameters. Further study can improve the apoapsis targeting."
   ]
  }
 ],
 "metadata": {
  "kernelspec": {
   "display_name": "Python 3",
   "language": "python",
   "name": "python3"
  },
  "language_info": {
   "codemirror_mode": {
    "name": "ipython",
    "version": 3
   },
   "file_extension": ".py",
   "mimetype": "text/x-python",
   "name": "python",
   "nbconvert_exporter": "python",
   "pygments_lexer": "ipython3",
   "version": "3.7.3"
  }
 },
 "nbformat": 4,
 "nbformat_minor": 2
}
