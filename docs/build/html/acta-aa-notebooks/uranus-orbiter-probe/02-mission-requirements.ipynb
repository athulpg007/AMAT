{
 "cells": [
  {
   "cell_type": "markdown",
   "id": "54b9f7e0",
   "metadata": {},
   "source": [
    "# Section 02 - Mission Requirements"
   ]
  },
  {
   "cell_type": "markdown",
   "id": "a7068af3",
   "metadata": {},
   "source": [
    "**The high-level mission objective is to deliver an orbiter and an entry probe to Uranus within the budgetary and schedule constraints of a Flagship-class mission. The orbiter and probe mass are roughly the same as that of the UOP mission baselined in the 2023--2032 PSDS.** \n",
    "\n",
    "The study requirements are as follows:"
   ]
  },
  {
   "cell_type": "markdown",
   "id": "16288a07",
   "metadata": {},
   "source": [
    "\n",
    "1. The mission must have launch date between 2028 and 2038, and arrive at Uranus no later than 8 years after launch to fit within the schedule.\n",
    "2. The highest capability launch vehicle available is the Falcon Heavy Expendable (no stages recovered) to fit within the Flagship-class budget.\n",
    "3. The nominal orbiter (wet mass at the beginning of the orbital phase) and probe mass (at atmospheric entry) is 1400 kg and 300 kg respectively.\n",
    "4. The launch vehicle must have a launch capability of at least 5000 kg, not including any margin. (Assume the useful payload mass delivered to orbit is 50\\% of the aerocapture entry system mass, of which 25\\% is structural mass and 25\\% is thermal protection system mass. Hence the nominal aerocapture entry system mass is 3600 kg. Assume the cruise stage including propellant for deep space manuevers weighs 1400 kg. These numbers are to be used for the initial design iteration may be adjusted during the design, as more information becomes available.)\n",
    "5. To fit within the budget of a Flagship-class mission, the aerocapture entry system must use a Mars Science Laboratory (MSL) derived aeroshell with flight heritage, and has a maximum allowable $L/D$ of 0.24.\n",
    "6. The mission design must allow at least 1 deg. of theoretical corridor width (TCW) at Uranus. (Assume nominal $3\\sigma$ EFPA error = $\\pm$0.30 deg.)\n",
    "7. The maximum deceleration load for aerocapture is not to exceed 12$g$, based on the MSL entry system design peak deceleration.\n",
    "8. The maximum stagnation-point peak heat rate is not to exceed 3000 W/cm\\textsuperscript{2}, to enable the use of NASA's Heatshield for Extreme Environment Technology (HEEET) thermal protection system.\n",
    "9. The maximum stagnation-point total heat load for aerocapture vehicle is not to exceed 350 kJ/cm\\textsuperscript{2} to limit the TPS mass fraction.\n",
    "10. The mission must place the orbiter into a 4000 $\\times$ 550,000 km polar orbit just outside the orbit of Oberon, after which the probe must be delivered.\n"
   ]
  }
 ],
 "metadata": {
  "kernelspec": {
   "display_name": "Python 3 (ipykernel)",
   "language": "python",
   "name": "python3"
  },
  "language_info": {
   "codemirror_mode": {
    "name": "ipython",
    "version": 3
   },
   "file_extension": ".py",
   "mimetype": "text/x-python",
   "name": "python",
   "nbconvert_exporter": "python",
   "pygments_lexer": "ipython3",
   "version": "3.8.10"
  }
 },
 "nbformat": 4,
 "nbformat_minor": 5
}
