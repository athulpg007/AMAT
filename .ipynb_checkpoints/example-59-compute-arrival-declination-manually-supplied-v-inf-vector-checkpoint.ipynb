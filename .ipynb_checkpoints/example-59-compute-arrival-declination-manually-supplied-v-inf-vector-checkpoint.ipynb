{
 "cells": [
  {
   "cell_type": "markdown",
   "id": "7d3bbaeb",
   "metadata": {},
   "source": [
    "# Example - 59 - Compute arrival declination from v-inf-vector"
   ]
  },
  {
   "cell_type": "markdown",
   "id": "111bf35d",
   "metadata": {},
   "source": [
    "In this example, we compute the arrival declination from a user-given arrival v_inf vector in ICRF."
   ]
  },
  {
   "cell_type": "code",
   "execution_count": 1,
   "id": "fb7b5263",
   "metadata": {},
   "outputs": [
    {
     "ename": "ModuleNotFoundError",
     "evalue": "No module named 'AMAT.arrival'",
     "output_type": "error",
     "traceback": [
      "\u001b[0;31m---------------------------------------------------------------------------\u001b[0m",
      "\u001b[0;31mModuleNotFoundError\u001b[0m                       Traceback (most recent call last)",
      "Input \u001b[0;32mIn [1]\u001b[0m, in \u001b[0;36m<module>\u001b[0;34m\u001b[0m\n\u001b[0;32m----> 1\u001b[0m \u001b[38;5;28;01mfrom\u001b[39;00m \u001b[38;5;21;01mAMAT\u001b[39;00m\u001b[38;5;21;01m.\u001b[39;00m\u001b[38;5;21;01marrival\u001b[39;00m \u001b[38;5;28;01mimport\u001b[39;00m Arrival\n",
      "\u001b[0;31mModuleNotFoundError\u001b[0m: No module named 'AMAT.arrival'"
     ]
    }
   ],
   "source": [
    "from AMAT.arrival import Arrival"
   ]
  },
  {
   "cell_type": "code",
   "execution_count": null,
   "id": "01af1bca",
   "metadata": {},
   "outputs": [],
   "source": []
  }
 ],
 "metadata": {
  "kernelspec": {
   "display_name": "Python 3 (ipykernel)",
   "language": "python",
   "name": "python3"
  },
  "language_info": {
   "codemirror_mode": {
    "name": "ipython",
    "version": 3
   },
   "file_extension": ".py",
   "mimetype": "text/x-python",
   "name": "python",
   "nbconvert_exporter": "python",
   "pygments_lexer": "ipython3",
   "version": "3.8.10"
  }
 },
 "nbformat": 4,
 "nbformat_minor": 5
}
